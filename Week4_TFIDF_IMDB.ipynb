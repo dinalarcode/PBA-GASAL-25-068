{
  "cells": [
    {
      "cell_type": "markdown",
      "id": "8c953482-bb8c-4da2-b7b7-1a0c4267df9d",
      "metadata": {
        "id": "8c953482-bb8c-4da2-b7b7-1a0c4267df9d"
      },
      "source": [
        "## WEEK 4 tf idf example/ PBA 2025\n",
        "Sentiment Analysis on IMDB dataset\n",
        "\n"
      ]
    },
    {
      "cell_type": "markdown",
      "id": "6b821098-b0f9-41f7-b0a8-ea1d414229f4",
      "metadata": {
        "id": "6b821098-b0f9-41f7-b0a8-ea1d414229f4"
      },
      "source": [
        "#### Sentiment Analysis on IMDB dataset using different classifiers such as LinearSVM, LogisticRegression, NaiveBayes, XGBoost, RandomForest with different kind of embeddings such as TF-IDF, USE, and TF-IDF+USE\n",
        "\n",
        "link IMDB dataset: PBA Gasal 2025\n",
        "https://drive.google.com/drive/folders/1kDZ25BrcPyNGzyrXApu_MRiY4AM-lRYs?usp=sharing"
      ]
    },
    {
      "cell_type": "markdown",
      "id": "1ea8b875-5c15-4c07-a1d4-30c93b6d75a2",
      "metadata": {
        "id": "1ea8b875-5c15-4c07-a1d4-30c93b6d75a2"
      },
      "source": [
        "#### Installing and importing libraries"
      ]
    },
    {
      "cell_type": "code",
      "execution_count": 1,
      "id": "bad7b628-a6ae-401f-aa78-a219dbfe06d2",
      "metadata": {
        "id": "bad7b628-a6ae-401f-aa78-a219dbfe06d2",
        "outputId": "a402d97e-ad18-48f6-efca-938e032d08e5"
      },
      "outputs": [
        {
          "name": "stdout",
          "output_type": "stream",
          "text": [
            "Note: you may need to restart the kernel to use updated packages.\n"
          ]
        },
        {
          "name": "stderr",
          "output_type": "stream",
          "text": [
            "\n",
            "[notice] A new release of pip is available: 24.2 -> 25.2\n",
            "[notice] To update, run: python.exe -m pip install --upgrade pip\n"
          ]
        }
      ],
      "source": [
        "pip install -U nltk -q"
      ]
    },
    {
      "cell_type": "code",
      "execution_count": 2,
      "id": "99045f64-0402-474e-906f-46c096be3a15",
      "metadata": {
        "id": "99045f64-0402-474e-906f-46c096be3a15",
        "scrolled": true
      },
      "outputs": [
        {
          "name": "stdout",
          "output_type": "stream",
          "text": [
            "Note: you may need to restart the kernel to use updated packages.\n"
          ]
        },
        {
          "name": "stderr",
          "output_type": "stream",
          "text": [
            "\n",
            "[notice] A new release of pip is available: 24.2 -> 25.2\n",
            "[notice] To update, run: python.exe -m pip install --upgrade pip\n"
          ]
        }
      ],
      "source": [
        "pip install tensorflow -q"
      ]
    },
    {
      "cell_type": "code",
      "execution_count": 3,
      "id": "a6268605-9bf0-4376-a507-f2a99823c920",
      "metadata": {
        "id": "a6268605-9bf0-4376-a507-f2a99823c920",
        "outputId": "1841908c-8e2a-4826-cc5e-95c8bb3bd109"
      },
      "outputs": [
        {
          "name": "stdout",
          "output_type": "stream",
          "text": [
            "Note: you may need to restart the kernel to use updated packages.\n"
          ]
        },
        {
          "name": "stderr",
          "output_type": "stream",
          "text": [
            "\n",
            "[notice] A new release of pip is available: 24.2 -> 25.2\n",
            "[notice] To update, run: python.exe -m pip install --upgrade pip\n"
          ]
        }
      ],
      "source": [
        "pip install tensorflow_hub -q"
      ]
    },
    {
      "cell_type": "code",
      "execution_count": 4,
      "id": "9a441501-bbe7-4632-8fe8-fb03db387692",
      "metadata": {
        "id": "9a441501-bbe7-4632-8fe8-fb03db387692",
        "scrolled": true
      },
      "outputs": [
        {
          "name": "stdout",
          "output_type": "stream",
          "text": [
            "Requirement already satisfied: torch in c:\\users\\victus\\appdata\\local\\programs\\python\\python312\\lib\\site-packages (2.8.0)\n",
            "Requirement already satisfied: filelock in c:\\users\\victus\\appdata\\local\\programs\\python\\python312\\lib\\site-packages (from torch) (3.19.1)\n",
            "Requirement already satisfied: typing-extensions>=4.10.0 in c:\\users\\victus\\appdata\\local\\programs\\python\\python312\\lib\\site-packages (from torch) (4.15.0)\n",
            "Requirement already satisfied: sympy>=1.13.3 in c:\\users\\victus\\appdata\\local\\programs\\python\\python312\\lib\\site-packages (from torch) (1.14.0)\n",
            "Requirement already satisfied: networkx in c:\\users\\victus\\appdata\\local\\programs\\python\\python312\\lib\\site-packages (from torch) (3.5)\n",
            "Requirement already satisfied: jinja2 in c:\\users\\victus\\appdata\\local\\programs\\python\\python312\\lib\\site-packages (from torch) (3.1.6)\n",
            "Requirement already satisfied: fsspec in c:\\users\\victus\\appdata\\local\\programs\\python\\python312\\lib\\site-packages (from torch) (2025.3.0)\n",
            "Requirement already satisfied: setuptools in c:\\users\\victus\\appdata\\local\\programs\\python\\python312\\lib\\site-packages (from torch) (80.9.0)\n",
            "Requirement already satisfied: mpmath<1.4,>=1.1.0 in c:\\users\\victus\\appdata\\local\\programs\\python\\python312\\lib\\site-packages (from sympy>=1.13.3->torch) (1.3.0)\n",
            "Requirement already satisfied: MarkupSafe>=2.0 in c:\\users\\victus\\appdata\\local\\programs\\python\\python312\\lib\\site-packages (from jinja2->torch) (3.0.2)\n",
            "Note: you may need to restart the kernel to use updated packages.\n"
          ]
        },
        {
          "name": "stderr",
          "output_type": "stream",
          "text": [
            "\n",
            "[notice] A new release of pip is available: 24.2 -> 25.2\n",
            "[notice] To update, run: python.exe -m pip install --upgrade pip\n"
          ]
        }
      ],
      "source": [
        "pip install torch"
      ]
    },
    {
      "cell_type": "code",
      "execution_count": 5,
      "id": "a8c66c42-31d6-48a3-94e1-3106d79e7daa",
      "metadata": {
        "id": "a8c66c42-31d6-48a3-94e1-3106d79e7daa",
        "scrolled": true
      },
      "outputs": [
        {
          "name": "stdout",
          "output_type": "stream",
          "text": [
            "Note: you may need to restart the kernel to use updated packages.\n"
          ]
        },
        {
          "name": "stderr",
          "output_type": "stream",
          "text": [
            "\n",
            "[notice] A new release of pip is available: 24.2 -> 25.2\n",
            "[notice] To update, run: python.exe -m pip install --upgrade pip\n"
          ]
        }
      ],
      "source": [
        "pip install xgboost -q"
      ]
    },
    {
      "cell_type": "code",
      "execution_count": 6,
      "id": "132e1e9e-c3da-43c8-90fe-3bd93595ad70",
      "metadata": {
        "id": "132e1e9e-c3da-43c8-90fe-3bd93595ad70"
      },
      "outputs": [
        {
          "name": "stderr",
          "output_type": "stream",
          "text": [
            "c:\\Users\\VICTUS\\AppData\\Local\\Programs\\Python\\Python312\\Lib\\site-packages\\tensorflow_hub\\__init__.py:61: UserWarning: pkg_resources is deprecated as an API. See https://setuptools.pypa.io/en/latest/pkg_resources.html. The pkg_resources package is slated for removal as early as 2025-11-30. Refrain from using this package or pin to Setuptools<81.\n",
            "  from pkg_resources import parse_version\n"
          ]
        },
        {
          "name": "stdout",
          "output_type": "stream",
          "text": [
            "WARNING:tensorflow:From c:\\Users\\VICTUS\\AppData\\Local\\Programs\\Python\\Python312\\Lib\\site-packages\\tf_keras\\src\\losses.py:2976: The name tf.losses.sparse_softmax_cross_entropy is deprecated. Please use tf.compat.v1.losses.sparse_softmax_cross_entropy instead.\n",
            "\n"
          ]
        }
      ],
      "source": [
        "import pandas as pd\n",
        "import numpy as np\n",
        "import nltk\n",
        "import re\n",
        "import torch\n",
        "from nltk.corpus import stopwords\n",
        "from nltk.tokenize import word_tokenize\n",
        "import tensorflow as tf\n",
        "import tensorflow_hub as hub\n",
        "from sklearn.model_selection import train_test_split\n",
        "from sklearn.feature_extraction.text import TfidfVectorizer\n",
        "import matplotlib.pyplot as plt"
      ]
    },
    {
      "cell_type": "code",
      "execution_count": 7,
      "id": "661c78ad-de7e-4ac8-9127-67409326149d",
      "metadata": {
        "colab": {
          "base_uri": "https://localhost:8080/",
          "height": 176
        },
        "id": "661c78ad-de7e-4ac8-9127-67409326149d",
        "outputId": "5e29f827-1274-41af-cf8c-50da40e6d3f1"
      },
      "outputs": [
        {
          "name": "stderr",
          "output_type": "stream",
          "text": [
            "[nltk_data] Downloading package stopwords to\n",
            "[nltk_data]     C:\\Users\\VICTUS\\AppData\\Roaming\\nltk_data...\n",
            "[nltk_data]   Package stopwords is already up-to-date!\n",
            "[nltk_data] Downloading package words to\n",
            "[nltk_data]     C:\\Users\\VICTUS\\AppData\\Roaming\\nltk_data...\n",
            "[nltk_data]   Package words is already up-to-date!\n",
            "[nltk_data] Downloading package wordnet to\n",
            "[nltk_data]     C:\\Users\\VICTUS\\AppData\\Roaming\\nltk_data...\n",
            "[nltk_data]   Package wordnet is already up-to-date!\n"
          ]
        },
        {
          "data": {
            "text/plain": [
              "True"
            ]
          },
          "execution_count": 7,
          "metadata": {},
          "output_type": "execute_result"
        }
      ],
      "source": [
        "nltk.download('stopwords')\n",
        "nltk.download('words')\n",
        "nltk.download('wordnet')"
      ]
    },
    {
      "cell_type": "code",
      "execution_count": 8,
      "id": "55589dba-2bd9-465e-a9a6-37d5d7cfa854",
      "metadata": {
        "id": "55589dba-2bd9-465e-a9a6-37d5d7cfa854",
        "outputId": "f7a441a0-5054-4d9e-b40e-31344a659ef0"
      },
      "outputs": [
        {
          "name": "stderr",
          "output_type": "stream",
          "text": [
            "[nltk_data] Downloading package punkt to\n",
            "[nltk_data]     C:\\Users\\VICTUS\\AppData\\Roaming\\nltk_data...\n",
            "[nltk_data]   Package punkt is already up-to-date!\n"
          ]
        },
        {
          "data": {
            "text/plain": [
              "True"
            ]
          },
          "execution_count": 8,
          "metadata": {},
          "output_type": "execute_result"
        }
      ],
      "source": [
        "nltk.download('punkt')"
      ]
    },
    {
      "cell_type": "code",
      "execution_count": 9,
      "id": "2fcdf9d5-9ae8-4c82-9d62-d748fe137af7",
      "metadata": {
        "id": "2fcdf9d5-9ae8-4c82-9d62-d748fe137af7"
      },
      "outputs": [],
      "source": [
        "stop_words = set(stopwords.words('english'))"
      ]
    },
    {
      "cell_type": "markdown",
      "id": "7c7f35bc-061d-483b-95fe-a02326ae4f04",
      "metadata": {
        "id": "7c7f35bc-061d-483b-95fe-a02326ae4f04"
      },
      "source": [
        "#### To check is there any GPU available or not"
      ]
    },
    {
      "cell_type": "code",
      "execution_count": 10,
      "id": "cc78859d-0d55-4604-9762-97a9560676b4",
      "metadata": {
        "id": "cc78859d-0d55-4604-9762-97a9560676b4",
        "outputId": "0a9731cd-ec61-4704-d43e-98ac78246792"
      },
      "outputs": [
        {
          "name": "stdout",
          "output_type": "stream",
          "text": [
            "GPU not available, CPU used\n"
          ]
        }
      ],
      "source": [
        "is_cuda = torch.cuda.is_available()\n",
        "\n",
        "# If we have a GPU available, we'll set our device to GPU.\n",
        "if is_cuda:\n",
        "    device = torch.device(\"cuda\")\n",
        "    print(\"GPU is available\")\n",
        "else:\n",
        "    device = torch.device(\"cpu\")\n",
        "    print(\"GPU not available, CPU used\")\n"
      ]
    },
    {
      "cell_type": "markdown",
      "id": "e875605b-c98f-482f-9d71-7e3b7f4075e6",
      "metadata": {
        "id": "e875605b-c98f-482f-9d71-7e3b7f4075e6"
      },
      "source": [
        "#### Load the IMDB dataset for sentiment analysis between positive and negative reviews"
      ]
    },
    {
      "cell_type": "code",
      "execution_count": 11,
      "id": "c57b4ef4-0067-4215-8642-2f82d98c8f76",
      "metadata": {
        "id": "c57b4ef4-0067-4215-8642-2f82d98c8f76",
        "outputId": "5a25b029-6200-4b93-96bf-8c2972c43724"
      },
      "outputs": [
        {
          "data": {
            "text/html": [
              "<div>\n",
              "<style scoped>\n",
              "    .dataframe tbody tr th:only-of-type {\n",
              "        vertical-align: middle;\n",
              "    }\n",
              "\n",
              "    .dataframe tbody tr th {\n",
              "        vertical-align: top;\n",
              "    }\n",
              "\n",
              "    .dataframe thead th {\n",
              "        text-align: right;\n",
              "    }\n",
              "</style>\n",
              "<table border=\"1\" class=\"dataframe\">\n",
              "  <thead>\n",
              "    <tr style=\"text-align: right;\">\n",
              "      <th></th>\n",
              "      <th>review</th>\n",
              "      <th>sentiment</th>\n",
              "    </tr>\n",
              "  </thead>\n",
              "  <tbody>\n",
              "    <tr>\n",
              "      <th>0</th>\n",
              "      <td>Well, what can I say having just watched this ...</td>\n",
              "      <td>positive</td>\n",
              "    </tr>\n",
              "    <tr>\n",
              "      <th>1</th>\n",
              "      <td>'Leatherheads' tries so hard. Tries to be ligh...</td>\n",
              "      <td>negative</td>\n",
              "    </tr>\n",
              "    <tr>\n",
              "      <th>2</th>\n",
              "      <td>I have to say I quite enjoyed Soldier. Russell...</td>\n",
              "      <td>positive</td>\n",
              "    </tr>\n",
              "    <tr>\n",
              "      <th>3</th>\n",
              "      <td>Written by someone who has been there, you can...</td>\n",
              "      <td>positive</td>\n",
              "    </tr>\n",
              "    <tr>\n",
              "      <th>4</th>\n",
              "      <td>Fun With Dick and Jane failed to entertain on ...</td>\n",
              "      <td>negative</td>\n",
              "    </tr>\n",
              "    <tr>\n",
              "      <th>...</th>\n",
              "      <td>...</td>\n",
              "      <td>...</td>\n",
              "    </tr>\n",
              "    <tr>\n",
              "      <th>49995</th>\n",
              "      <td>The horror of this made for TV film was that i...</td>\n",
              "      <td>negative</td>\n",
              "    </tr>\n",
              "    <tr>\n",
              "      <th>49996</th>\n",
              "      <td>Herbie, the Volkswagen that thinks like a man,...</td>\n",
              "      <td>negative</td>\n",
              "    </tr>\n",
              "    <tr>\n",
              "      <th>49997</th>\n",
              "      <td>This HAS to be the worst movie I've ever attem...</td>\n",
              "      <td>negative</td>\n",
              "    </tr>\n",
              "    <tr>\n",
              "      <th>49998</th>\n",
              "      <td>Notorious for more than a quarter century (and...</td>\n",
              "      <td>negative</td>\n",
              "    </tr>\n",
              "    <tr>\n",
              "      <th>49999</th>\n",
              "      <td>It's painfully clear that all effort in this f...</td>\n",
              "      <td>negative</td>\n",
              "    </tr>\n",
              "  </tbody>\n",
              "</table>\n",
              "<p>50000 rows × 2 columns</p>\n",
              "</div>"
            ],
            "text/plain": [
              "                                                  review sentiment\n",
              "0      Well, what can I say having just watched this ...  positive\n",
              "1      'Leatherheads' tries so hard. Tries to be ligh...  negative\n",
              "2      I have to say I quite enjoyed Soldier. Russell...  positive\n",
              "3      Written by someone who has been there, you can...  positive\n",
              "4      Fun With Dick and Jane failed to entertain on ...  negative\n",
              "...                                                  ...       ...\n",
              "49995  The horror of this made for TV film was that i...  negative\n",
              "49996  Herbie, the Volkswagen that thinks like a man,...  negative\n",
              "49997  This HAS to be the worst movie I've ever attem...  negative\n",
              "49998  Notorious for more than a quarter century (and...  negative\n",
              "49999  It's painfully clear that all effort in this f...  negative\n",
              "\n",
              "[50000 rows x 2 columns]"
            ]
          },
          "execution_count": 11,
          "metadata": {},
          "output_type": "execute_result"
        }
      ],
      "source": [
        "df = pd.read_csv('data/IMDB Dataset.csv')\n",
        "df = df.sample(frac=1).reset_index(drop=True)\n",
        "df"
      ]
    },
    {
      "cell_type": "markdown",
      "id": "e8f40f61-c36a-4271-b8a0-9f99dcf3702e",
      "metadata": {
        "id": "e8f40f61-c36a-4271-b8a0-9f99dcf3702e"
      },
      "source": [
        "#### Exploratory Data Analysis for IMDB dataset"
      ]
    },
    {
      "cell_type": "code",
      "execution_count": 12,
      "id": "d59fa748-8d70-4ccb-bb29-581fb35f3b09",
      "metadata": {
        "id": "d59fa748-8d70-4ccb-bb29-581fb35f3b09"
      },
      "outputs": [],
      "source": [
        "class EDA():\n",
        "    def get_length_dist(self,data):\n",
        "        rev_len = [len(i) for i in data]\n",
        "        pd.Series(rev_len).hist()\n",
        "        plt.title('Number of types of commets')\n",
        "        plt.xlabel('length')\n",
        "        plt.ylabel('number')\n",
        "        plt.show()\n",
        "        print(pd.Series(rev_len).describe())\n",
        "    def get_class_dist(self,df):\n",
        "        df['sentiment'].replace({1:'positive',0:'negative'}).value_counts().plot(kind='bar',figsize=(7,4))\n",
        "        plt.title('Number of types')\n",
        "        plt.xlabel('Comment_type')\n",
        "        plt.ylabel('number')\n",
        "        plt.show()\n"
      ]
    },
    {
      "cell_type": "code",
      "execution_count": 13,
      "id": "a927cbb0-0817-4d3d-befc-e15d4bf2d3f7",
      "metadata": {
        "id": "a927cbb0-0817-4d3d-befc-e15d4bf2d3f7",
        "outputId": "dde3a6ec-ede2-4a28-e3da-fa2029420180"
      },
      "outputs": [
        {
          "data": {
            "image/png": "[encoded data removed]",
            "text/plain": [
              "<Figure size 640x480 with 1 Axes>"
            ]
          },
          "metadata": {},
          "output_type": "display_data"
        },
        {
          "name": "stdout",
          "output_type": "stream",
          "text": [
            "count    50000.000000\n",
            "mean      1309.431020\n",
            "std        989.728014\n",
            "min         32.000000\n",
            "25%        699.000000\n",
            "50%        970.000000\n",
            "75%       1590.250000\n",
            "max      13704.000000\n",
            "dtype: float64\n"
          ]
        },
        {
          "data": {
            "image/png": "[encoded data removed]",
            "text/plain": [
              "<Figure size 700x400 with 1 Axes>"
            ]
          },
          "metadata": {},
          "output_type": "display_data"
        }
      ],
      "source": [
        "eda = EDA()\n",
        "eda.get_length_dist(df['review'])\n",
        "eda.get_class_dist(df)"
      ]
    },
    {
      "cell_type": "markdown",
      "id": "900a5886-128f-4842-87e7-f4de8d03bf00",
      "metadata": {
        "id": "900a5886-128f-4842-87e7-f4de8d03bf00"
      },
      "source": [
        "#### Preprocess the data"
      ]
    },
    {
      "cell_type": "code",
      "execution_count": 14,
      "id": "3c67072b-b6bb-462f-9c2b-e83171f30dd2",
      "metadata": {
        "id": "3c67072b-b6bb-462f-9c2b-e83171f30dd2"
      },
      "outputs": [],
      "source": [
        "def preprocess_text(text):\n",
        "    # Remove HTML tags and strip whitespace\n",
        "    text = re.sub(r'<[^>]*>', '', text)\n",
        "    text = text.strip()\n",
        "    # Remove noisy characters and extra spaces\n",
        "    text = re.sub(r'[^\\w\\s]', '', text)\n",
        "    text = re.sub(r'\\s+', ' ', text)\n",
        "    # Lowercase text\n",
        "    text = text.lower()\n",
        "    # Tokenize text and remove stopwords\n",
        "    words = word_tokenize(text)\n",
        "    words = [word for word in words if word not in stop_words]\n",
        "    return ' '.join(words)\n"
      ]
    },
    {
      "cell_type": "code",
      "execution_count": 15,
      "id": "fd909202-894f-4f81-8142-e3cc03a88c4f",
      "metadata": {
        "id": "fd909202-894f-4f81-8142-e3cc03a88c4f"
      },
      "outputs": [
        {
          "ename": "LookupError",
          "evalue": "\n**********************************************************************\n  Resource \u001b[93mpunkt_tab\u001b[0m not found.\n  Please use the NLTK Downloader to obtain the resource:\n\n  \u001b[31m>>> import nltk\n  >>> nltk.download('punkt_tab')\n  \u001b[0m\n  For more information see: https://www.nltk.org/data.html\n\n  Attempted to load \u001b[93mtokenizers/punkt_tab/english/\u001b[0m\n\n  Searched in:\n    - 'C:\\\\Users\\\\VICTUS/nltk_data'\n    - 'c:\\\\Users\\\\VICTUS\\\\AppData\\\\Local\\\\Programs\\\\Python\\\\Python312\\\\nltk_data'\n    - 'c:\\\\Users\\\\VICTUS\\\\AppData\\\\Local\\\\Programs\\\\Python\\\\Python312\\\\share\\\\nltk_data'\n    - 'c:\\\\Users\\\\VICTUS\\\\AppData\\\\Local\\\\Programs\\\\Python\\\\Python312\\\\lib\\\\nltk_data'\n    - 'C:\\\\Users\\\\VICTUS\\\\AppData\\\\Roaming\\\\nltk_data'\n    - 'C:\\\\nltk_data'\n    - 'D:\\\\nltk_data'\n    - 'E:\\\\nltk_data'\n**********************************************************************\n",
          "output_type": "error",
          "traceback": [
            "\u001b[31m---------------------------------------------------------------------------\u001b[39m",
            "\u001b[31mLookupError\u001b[39m                               Traceback (most recent call last)",
            "\u001b[36mCell\u001b[39m\u001b[36m \u001b[39m\u001b[32mIn[15]\u001b[39m\u001b[32m, line 1\u001b[39m\n\u001b[32m----> \u001b[39m\u001b[32m1\u001b[39m df[\u001b[33m'\u001b[39m\u001b[33mreview\u001b[39m\u001b[33m'\u001b[39m] = \u001b[43mdf\u001b[49m\u001b[43m[\u001b[49m\u001b[33;43m'\u001b[39;49m\u001b[33;43mreview\u001b[39;49m\u001b[33;43m'\u001b[39;49m\u001b[43m]\u001b[49m\u001b[43m.\u001b[49m\u001b[43mapply\u001b[49m\u001b[43m(\u001b[49m\u001b[43mpreprocess_text\u001b[49m\u001b[43m)\u001b[49m\n",
            "\u001b[36mFile \u001b[39m\u001b[32mc:\\Users\\VICTUS\\AppData\\Local\\Programs\\Python\\Python312\\Lib\\site-packages\\pandas\\core\\series.py:4935\u001b[39m, in \u001b[36mSeries.apply\u001b[39m\u001b[34m(self, func, convert_dtype, args, by_row, **kwargs)\u001b[39m\n\u001b[32m   4800\u001b[39m \u001b[38;5;28;01mdef\u001b[39;00m\u001b[38;5;250m \u001b[39m\u001b[34mapply\u001b[39m(\n\u001b[32m   4801\u001b[39m     \u001b[38;5;28mself\u001b[39m,\n\u001b[32m   4802\u001b[39m     func: AggFuncType,\n\u001b[32m   (...)\u001b[39m\u001b[32m   4807\u001b[39m     **kwargs,\n\u001b[32m   4808\u001b[39m ) -> DataFrame | Series:\n\u001b[32m   4809\u001b[39m \u001b[38;5;250m    \u001b[39m\u001b[33;03m\"\"\"\u001b[39;00m\n\u001b[32m   4810\u001b[39m \u001b[33;03m    Invoke function on values of Series.\u001b[39;00m\n\u001b[32m   4811\u001b[39m \n\u001b[32m   (...)\u001b[39m\u001b[32m   4926\u001b[39m \u001b[33;03m    dtype: float64\u001b[39;00m\n\u001b[32m   4927\u001b[39m \u001b[33;03m    \"\"\"\u001b[39;00m\n\u001b[32m   4928\u001b[39m     \u001b[38;5;28;01mreturn\u001b[39;00m \u001b[43mSeriesApply\u001b[49m\u001b[43m(\u001b[49m\n\u001b[32m   4929\u001b[39m \u001b[43m        \u001b[49m\u001b[38;5;28;43mself\u001b[39;49m\u001b[43m,\u001b[49m\n\u001b[32m   4930\u001b[39m \u001b[43m        \u001b[49m\u001b[43mfunc\u001b[49m\u001b[43m,\u001b[49m\n\u001b[32m   4931\u001b[39m \u001b[43m        \u001b[49m\u001b[43mconvert_dtype\u001b[49m\u001b[43m=\u001b[49m\u001b[43mconvert_dtype\u001b[49m\u001b[43m,\u001b[49m\n\u001b[32m   4932\u001b[39m \u001b[43m        \u001b[49m\u001b[43mby_row\u001b[49m\u001b[43m=\u001b[49m\u001b[43mby_row\u001b[49m\u001b[43m,\u001b[49m\n\u001b[32m   4933\u001b[39m \u001b[43m        \u001b[49m\u001b[43margs\u001b[49m\u001b[43m=\u001b[49m\u001b[43margs\u001b[49m\u001b[43m,\u001b[49m\n\u001b[32m   4934\u001b[39m \u001b[43m        \u001b[49m\u001b[43mkwargs\u001b[49m\u001b[43m=\u001b[49m\u001b[43mkwargs\u001b[49m\u001b[43m,\u001b[49m\n\u001b[32m-> \u001b[39m\u001b[32m4935\u001b[39m \u001b[43m    \u001b[49m\u001b[43m)\u001b[49m\u001b[43m.\u001b[49m\u001b[43mapply\u001b[49m\u001b[43m(\u001b[49m\u001b[43m)\u001b[49m\n",
            "\u001b[36mFile \u001b[39m\u001b[32mc:\\Users\\VICTUS\\AppData\\Local\\Programs\\Python\\Python312\\Lib\\site-packages\\pandas\\core\\apply.py:1422\u001b[39m, in \u001b[36mSeriesApply.apply\u001b[39m\u001b[34m(self)\u001b[39m\n\u001b[32m   1419\u001b[39m     \u001b[38;5;28;01mreturn\u001b[39;00m \u001b[38;5;28mself\u001b[39m.apply_compat()\n\u001b[32m   1421\u001b[39m \u001b[38;5;66;03m# self.func is Callable\u001b[39;00m\n\u001b[32m-> \u001b[39m\u001b[32m1422\u001b[39m \u001b[38;5;28;01mreturn\u001b[39;00m \u001b[38;5;28;43mself\u001b[39;49m\u001b[43m.\u001b[49m\u001b[43mapply_standard\u001b[49m\u001b[43m(\u001b[49m\u001b[43m)\u001b[49m\n",
            "\u001b[36mFile \u001b[39m\u001b[32mc:\\Users\\VICTUS\\AppData\\Local\\Programs\\Python\\Python312\\Lib\\site-packages\\pandas\\core\\apply.py:1502\u001b[39m, in \u001b[36mSeriesApply.apply_standard\u001b[39m\u001b[34m(self)\u001b[39m\n\u001b[32m   1496\u001b[39m \u001b[38;5;66;03m# row-wise access\u001b[39;00m\n\u001b[32m   1497\u001b[39m \u001b[38;5;66;03m# apply doesn't have a `na_action` keyword and for backward compat reasons\u001b[39;00m\n\u001b[32m   1498\u001b[39m \u001b[38;5;66;03m# we need to give `na_action=\"ignore\"` for categorical data.\u001b[39;00m\n\u001b[32m   1499\u001b[39m \u001b[38;5;66;03m# TODO: remove the `na_action=\"ignore\"` when that default has been changed in\u001b[39;00m\n\u001b[32m   1500\u001b[39m \u001b[38;5;66;03m#  Categorical (GH51645).\u001b[39;00m\n\u001b[32m   1501\u001b[39m action = \u001b[33m\"\u001b[39m\u001b[33mignore\u001b[39m\u001b[33m\"\u001b[39m \u001b[38;5;28;01mif\u001b[39;00m \u001b[38;5;28misinstance\u001b[39m(obj.dtype, CategoricalDtype) \u001b[38;5;28;01melse\u001b[39;00m \u001b[38;5;28;01mNone\u001b[39;00m\n\u001b[32m-> \u001b[39m\u001b[32m1502\u001b[39m mapped = \u001b[43mobj\u001b[49m\u001b[43m.\u001b[49m\u001b[43m_map_values\u001b[49m\u001b[43m(\u001b[49m\n\u001b[32m   1503\u001b[39m \u001b[43m    \u001b[49m\u001b[43mmapper\u001b[49m\u001b[43m=\u001b[49m\u001b[43mcurried\u001b[49m\u001b[43m,\u001b[49m\u001b[43m \u001b[49m\u001b[43mna_action\u001b[49m\u001b[43m=\u001b[49m\u001b[43maction\u001b[49m\u001b[43m,\u001b[49m\u001b[43m \u001b[49m\u001b[43mconvert\u001b[49m\u001b[43m=\u001b[49m\u001b[38;5;28;43mself\u001b[39;49m\u001b[43m.\u001b[49m\u001b[43mconvert_dtype\u001b[49m\n\u001b[32m   1504\u001b[39m \u001b[43m\u001b[49m\u001b[43m)\u001b[49m\n\u001b[32m   1506\u001b[39m \u001b[38;5;28;01mif\u001b[39;00m \u001b[38;5;28mlen\u001b[39m(mapped) \u001b[38;5;129;01mand\u001b[39;00m \u001b[38;5;28misinstance\u001b[39m(mapped[\u001b[32m0\u001b[39m], ABCSeries):\n\u001b[32m   1507\u001b[39m     \u001b[38;5;66;03m# GH#43986 Need to do list(mapped) in order to get treated as nested\u001b[39;00m\n\u001b[32m   1508\u001b[39m     \u001b[38;5;66;03m#  See also GH#25959 regarding EA support\u001b[39;00m\n\u001b[32m   1509\u001b[39m     \u001b[38;5;28;01mreturn\u001b[39;00m obj._constructor_expanddim(\u001b[38;5;28mlist\u001b[39m(mapped), index=obj.index)\n",
            "\u001b[36mFile \u001b[39m\u001b[32mc:\\Users\\VICTUS\\AppData\\Local\\Programs\\Python\\Python312\\Lib\\site-packages\\pandas\\core\\base.py:925\u001b[39m, in \u001b[36mIndexOpsMixin._map_values\u001b[39m\u001b[34m(self, mapper, na_action, convert)\u001b[39m\n\u001b[32m    922\u001b[39m \u001b[38;5;28;01mif\u001b[39;00m \u001b[38;5;28misinstance\u001b[39m(arr, ExtensionArray):\n\u001b[32m    923\u001b[39m     \u001b[38;5;28;01mreturn\u001b[39;00m arr.map(mapper, na_action=na_action)\n\u001b[32m--> \u001b[39m\u001b[32m925\u001b[39m \u001b[38;5;28;01mreturn\u001b[39;00m \u001b[43malgorithms\u001b[49m\u001b[43m.\u001b[49m\u001b[43mmap_array\u001b[49m\u001b[43m(\u001b[49m\u001b[43marr\u001b[49m\u001b[43m,\u001b[49m\u001b[43m \u001b[49m\u001b[43mmapper\u001b[49m\u001b[43m,\u001b[49m\u001b[43m \u001b[49m\u001b[43mna_action\u001b[49m\u001b[43m=\u001b[49m\u001b[43mna_action\u001b[49m\u001b[43m,\u001b[49m\u001b[43m \u001b[49m\u001b[43mconvert\u001b[49m\u001b[43m=\u001b[49m\u001b[43mconvert\u001b[49m\u001b[43m)\u001b[49m\n",
            "\u001b[36mFile \u001b[39m\u001b[32mc:\\Users\\VICTUS\\AppData\\Local\\Programs\\Python\\Python312\\Lib\\site-packages\\pandas\\core\\algorithms.py:1743\u001b[39m, in \u001b[36mmap_array\u001b[39m\u001b[34m(arr, mapper, na_action, convert)\u001b[39m\n\u001b[32m   1741\u001b[39m values = arr.astype(\u001b[38;5;28mobject\u001b[39m, copy=\u001b[38;5;28;01mFalse\u001b[39;00m)\n\u001b[32m   1742\u001b[39m \u001b[38;5;28;01mif\u001b[39;00m na_action \u001b[38;5;129;01mis\u001b[39;00m \u001b[38;5;28;01mNone\u001b[39;00m:\n\u001b[32m-> \u001b[39m\u001b[32m1743\u001b[39m     \u001b[38;5;28;01mreturn\u001b[39;00m \u001b[43mlib\u001b[49m\u001b[43m.\u001b[49m\u001b[43mmap_infer\u001b[49m\u001b[43m(\u001b[49m\u001b[43mvalues\u001b[49m\u001b[43m,\u001b[49m\u001b[43m \u001b[49m\u001b[43mmapper\u001b[49m\u001b[43m,\u001b[49m\u001b[43m \u001b[49m\u001b[43mconvert\u001b[49m\u001b[43m=\u001b[49m\u001b[43mconvert\u001b[49m\u001b[43m)\u001b[49m\n\u001b[32m   1744\u001b[39m \u001b[38;5;28;01melse\u001b[39;00m:\n\u001b[32m   1745\u001b[39m     \u001b[38;5;28;01mreturn\u001b[39;00m lib.map_infer_mask(\n\u001b[32m   1746\u001b[39m         values, mapper, mask=isna(values).view(np.uint8), convert=convert\n\u001b[32m   1747\u001b[39m     )\n",
            "\u001b[36mFile \u001b[39m\u001b[32mpandas/_libs/lib.pyx:2999\u001b[39m, in \u001b[36mpandas._libs.lib.map_infer\u001b[39m\u001b[34m()\u001b[39m\n",
            "\u001b[36mCell\u001b[39m\u001b[36m \u001b[39m\u001b[32mIn[14]\u001b[39m\u001b[32m, line 11\u001b[39m, in \u001b[36mpreprocess_text\u001b[39m\u001b[34m(text)\u001b[39m\n\u001b[32m      9\u001b[39m text = text.lower()\n\u001b[32m     10\u001b[39m \u001b[38;5;66;03m# Tokenize text and remove stopwords\u001b[39;00m\n\u001b[32m---> \u001b[39m\u001b[32m11\u001b[39m words = \u001b[43mword_tokenize\u001b[49m\u001b[43m(\u001b[49m\u001b[43mtext\u001b[49m\u001b[43m)\u001b[49m\n\u001b[32m     12\u001b[39m words = [word \u001b[38;5;28;01mfor\u001b[39;00m word \u001b[38;5;129;01min\u001b[39;00m words \u001b[38;5;28;01mif\u001b[39;00m word \u001b[38;5;129;01mnot\u001b[39;00m \u001b[38;5;129;01min\u001b[39;00m stop_words]\n\u001b[32m     13\u001b[39m \u001b[38;5;28;01mreturn\u001b[39;00m \u001b[33m'\u001b[39m\u001b[33m \u001b[39m\u001b[33m'\u001b[39m.join(words)\n",
            "\u001b[36mFile \u001b[39m\u001b[32mc:\\Users\\VICTUS\\AppData\\Local\\Programs\\Python\\Python312\\Lib\\site-packages\\nltk\\tokenize\\__init__.py:142\u001b[39m, in \u001b[36mword_tokenize\u001b[39m\u001b[34m(text, language, preserve_line)\u001b[39m\n\u001b[32m    127\u001b[39m \u001b[38;5;28;01mdef\u001b[39;00m\u001b[38;5;250m \u001b[39m\u001b[34mword_tokenize\u001b[39m(text, language=\u001b[33m\"\u001b[39m\u001b[33menglish\u001b[39m\u001b[33m\"\u001b[39m, preserve_line=\u001b[38;5;28;01mFalse\u001b[39;00m):\n\u001b[32m    128\u001b[39m \u001b[38;5;250m    \u001b[39m\u001b[33;03m\"\"\"\u001b[39;00m\n\u001b[32m    129\u001b[39m \u001b[33;03m    Return a tokenized copy of *text*,\u001b[39;00m\n\u001b[32m    130\u001b[39m \u001b[33;03m    using NLTK's recommended word tokenizer\u001b[39;00m\n\u001b[32m   (...)\u001b[39m\u001b[32m    140\u001b[39m \u001b[33;03m    :type preserve_line: bool\u001b[39;00m\n\u001b[32m    141\u001b[39m \u001b[33;03m    \"\"\"\u001b[39;00m\n\u001b[32m--> \u001b[39m\u001b[32m142\u001b[39m     sentences = [text] \u001b[38;5;28;01mif\u001b[39;00m preserve_line \u001b[38;5;28;01melse\u001b[39;00m \u001b[43msent_tokenize\u001b[49m\u001b[43m(\u001b[49m\u001b[43mtext\u001b[49m\u001b[43m,\u001b[49m\u001b[43m \u001b[49m\u001b[43mlanguage\u001b[49m\u001b[43m)\u001b[49m\n\u001b[32m    143\u001b[39m     \u001b[38;5;28;01mreturn\u001b[39;00m [\n\u001b[32m    144\u001b[39m         token \u001b[38;5;28;01mfor\u001b[39;00m sent \u001b[38;5;129;01min\u001b[39;00m sentences \u001b[38;5;28;01mfor\u001b[39;00m token \u001b[38;5;129;01min\u001b[39;00m _treebank_word_tokenizer.tokenize(sent)\n\u001b[32m    145\u001b[39m     ]\n",
            "\u001b[36mFile \u001b[39m\u001b[32mc:\\Users\\VICTUS\\AppData\\Local\\Programs\\Python\\Python312\\Lib\\site-packages\\nltk\\tokenize\\__init__.py:119\u001b[39m, in \u001b[36msent_tokenize\u001b[39m\u001b[34m(text, language)\u001b[39m\n\u001b[32m    109\u001b[39m \u001b[38;5;28;01mdef\u001b[39;00m\u001b[38;5;250m \u001b[39m\u001b[34msent_tokenize\u001b[39m(text, language=\u001b[33m\"\u001b[39m\u001b[33menglish\u001b[39m\u001b[33m\"\u001b[39m):\n\u001b[32m    110\u001b[39m \u001b[38;5;250m    \u001b[39m\u001b[33;03m\"\"\"\u001b[39;00m\n\u001b[32m    111\u001b[39m \u001b[33;03m    Return a sentence-tokenized copy of *text*,\u001b[39;00m\n\u001b[32m    112\u001b[39m \u001b[33;03m    using NLTK's recommended sentence tokenizer\u001b[39;00m\n\u001b[32m   (...)\u001b[39m\u001b[32m    117\u001b[39m \u001b[33;03m    :param language: the model name in the Punkt corpus\u001b[39;00m\n\u001b[32m    118\u001b[39m \u001b[33;03m    \"\"\"\u001b[39;00m\n\u001b[32m--> \u001b[39m\u001b[32m119\u001b[39m     tokenizer = \u001b[43m_get_punkt_tokenizer\u001b[49m\u001b[43m(\u001b[49m\u001b[43mlanguage\u001b[49m\u001b[43m)\u001b[49m\n\u001b[32m    120\u001b[39m     \u001b[38;5;28;01mreturn\u001b[39;00m tokenizer.tokenize(text)\n",
            "\u001b[36mFile \u001b[39m\u001b[32mc:\\Users\\VICTUS\\AppData\\Local\\Programs\\Python\\Python312\\Lib\\site-packages\\nltk\\tokenize\\__init__.py:105\u001b[39m, in \u001b[36m_get_punkt_tokenizer\u001b[39m\u001b[34m(language)\u001b[39m\n\u001b[32m     96\u001b[39m \u001b[38;5;129m@functools\u001b[39m.lru_cache\n\u001b[32m     97\u001b[39m \u001b[38;5;28;01mdef\u001b[39;00m\u001b[38;5;250m \u001b[39m\u001b[34m_get_punkt_tokenizer\u001b[39m(language=\u001b[33m\"\u001b[39m\u001b[33menglish\u001b[39m\u001b[33m\"\u001b[39m):\n\u001b[32m     98\u001b[39m \u001b[38;5;250m    \u001b[39m\u001b[33;03m\"\"\"\u001b[39;00m\n\u001b[32m     99\u001b[39m \u001b[33;03m    A constructor for the PunktTokenizer that utilizes\u001b[39;00m\n\u001b[32m    100\u001b[39m \u001b[33;03m    a lru cache for performance.\u001b[39;00m\n\u001b[32m   (...)\u001b[39m\u001b[32m    103\u001b[39m \u001b[33;03m    :type language: str\u001b[39;00m\n\u001b[32m    104\u001b[39m \u001b[33;03m    \"\"\"\u001b[39;00m\n\u001b[32m--> \u001b[39m\u001b[32m105\u001b[39m     \u001b[38;5;28;01mreturn\u001b[39;00m \u001b[43mPunktTokenizer\u001b[49m\u001b[43m(\u001b[49m\u001b[43mlanguage\u001b[49m\u001b[43m)\u001b[49m\n",
            "\u001b[36mFile \u001b[39m\u001b[32mc:\\Users\\VICTUS\\AppData\\Local\\Programs\\Python\\Python312\\Lib\\site-packages\\nltk\\tokenize\\punkt.py:1744\u001b[39m, in \u001b[36mPunktTokenizer.__init__\u001b[39m\u001b[34m(self, lang)\u001b[39m\n\u001b[32m   1742\u001b[39m \u001b[38;5;28;01mdef\u001b[39;00m\u001b[38;5;250m \u001b[39m\u001b[34m__init__\u001b[39m(\u001b[38;5;28mself\u001b[39m, lang=\u001b[33m\"\u001b[39m\u001b[33menglish\u001b[39m\u001b[33m\"\u001b[39m):\n\u001b[32m   1743\u001b[39m     PunktSentenceTokenizer.\u001b[34m__init__\u001b[39m(\u001b[38;5;28mself\u001b[39m)\n\u001b[32m-> \u001b[39m\u001b[32m1744\u001b[39m     \u001b[38;5;28;43mself\u001b[39;49m\u001b[43m.\u001b[49m\u001b[43mload_lang\u001b[49m\u001b[43m(\u001b[49m\u001b[43mlang\u001b[49m\u001b[43m)\u001b[49m\n",
            "\u001b[36mFile \u001b[39m\u001b[32mc:\\Users\\VICTUS\\AppData\\Local\\Programs\\Python\\Python312\\Lib\\site-packages\\nltk\\tokenize\\punkt.py:1749\u001b[39m, in \u001b[36mPunktTokenizer.load_lang\u001b[39m\u001b[34m(self, lang)\u001b[39m\n\u001b[32m   1746\u001b[39m \u001b[38;5;28;01mdef\u001b[39;00m\u001b[38;5;250m \u001b[39m\u001b[34mload_lang\u001b[39m(\u001b[38;5;28mself\u001b[39m, lang=\u001b[33m\"\u001b[39m\u001b[33menglish\u001b[39m\u001b[33m\"\u001b[39m):\n\u001b[32m   1747\u001b[39m     \u001b[38;5;28;01mfrom\u001b[39;00m\u001b[38;5;250m \u001b[39m\u001b[34;01mnltk\u001b[39;00m\u001b[34;01m.\u001b[39;00m\u001b[34;01mdata\u001b[39;00m\u001b[38;5;250m \u001b[39m\u001b[38;5;28;01mimport\u001b[39;00m find\n\u001b[32m-> \u001b[39m\u001b[32m1749\u001b[39m     lang_dir = \u001b[43mfind\u001b[49m\u001b[43m(\u001b[49m\u001b[33;43mf\u001b[39;49m\u001b[33;43m\"\u001b[39;49m\u001b[33;43mtokenizers/punkt_tab/\u001b[39;49m\u001b[38;5;132;43;01m{\u001b[39;49;00m\u001b[43mlang\u001b[49m\u001b[38;5;132;43;01m}\u001b[39;49;00m\u001b[33;43m/\u001b[39;49m\u001b[33;43m\"\u001b[39;49m\u001b[43m)\u001b[49m\n\u001b[32m   1750\u001b[39m     \u001b[38;5;28mself\u001b[39m._params = load_punkt_params(lang_dir)\n\u001b[32m   1751\u001b[39m     \u001b[38;5;28mself\u001b[39m._lang = lang\n",
            "\u001b[36mFile \u001b[39m\u001b[32mc:\\Users\\VICTUS\\AppData\\Local\\Programs\\Python\\Python312\\Lib\\site-packages\\nltk\\data.py:579\u001b[39m, in \u001b[36mfind\u001b[39m\u001b[34m(resource_name, paths)\u001b[39m\n\u001b[32m    577\u001b[39m sep = \u001b[33m\"\u001b[39m\u001b[33m*\u001b[39m\u001b[33m\"\u001b[39m * \u001b[32m70\u001b[39m\n\u001b[32m    578\u001b[39m resource_not_found = \u001b[33mf\u001b[39m\u001b[33m\"\u001b[39m\u001b[38;5;130;01m\\n\u001b[39;00m\u001b[38;5;132;01m{\u001b[39;00msep\u001b[38;5;132;01m}\u001b[39;00m\u001b[38;5;130;01m\\n\u001b[39;00m\u001b[38;5;132;01m{\u001b[39;00mmsg\u001b[38;5;132;01m}\u001b[39;00m\u001b[38;5;130;01m\\n\u001b[39;00m\u001b[38;5;132;01m{\u001b[39;00msep\u001b[38;5;132;01m}\u001b[39;00m\u001b[38;5;130;01m\\n\u001b[39;00m\u001b[33m\"\u001b[39m\n\u001b[32m--> \u001b[39m\u001b[32m579\u001b[39m \u001b[38;5;28;01mraise\u001b[39;00m \u001b[38;5;167;01mLookupError\u001b[39;00m(resource_not_found)\n",
            "\u001b[31mLookupError\u001b[39m: \n**********************************************************************\n  Resource \u001b[93mpunkt_tab\u001b[0m not found.\n  Please use the NLTK Downloader to obtain the resource:\n\n  \u001b[31m>>> import nltk\n  >>> nltk.download('punkt_tab')\n  \u001b[0m\n  For more information see: https://www.nltk.org/data.html\n\n  Attempted to load \u001b[93mtokenizers/punkt_tab/english/\u001b[0m\n\n  Searched in:\n    - 'C:\\\\Users\\\\VICTUS/nltk_data'\n    - 'c:\\\\Users\\\\VICTUS\\\\AppData\\\\Local\\\\Programs\\\\Python\\\\Python312\\\\nltk_data'\n    - 'c:\\\\Users\\\\VICTUS\\\\AppData\\\\Local\\\\Programs\\\\Python\\\\Python312\\\\share\\\\nltk_data'\n    - 'c:\\\\Users\\\\VICTUS\\\\AppData\\\\Local\\\\Programs\\\\Python\\\\Python312\\\\lib\\\\nltk_data'\n    - 'C:\\\\Users\\\\VICTUS\\\\AppData\\\\Roaming\\\\nltk_data'\n    - 'C:\\\\nltk_data'\n    - 'D:\\\\nltk_data'\n    - 'E:\\\\nltk_data'\n**********************************************************************\n"
          ]
        }
      ],
      "source": [
        "df['review'] = df['review'].apply(preprocess_text)"
      ]
    },
    {
      "cell_type": "code",
      "execution_count": 16,
      "id": "37329de7-7f7f-44a8-82f7-9b7f9b43fc1a",
      "metadata": {
        "id": "37329de7-7f7f-44a8-82f7-9b7f9b43fc1a",
        "outputId": "5c03b749-3c78-4db2-962e-6936db0aa679"
      },
      "outputs": [
        {
          "data": {
            "text/plain": [
              "0     Well, what can I say having just watched this ...\n",
              "1     'Leatherheads' tries so hard. Tries to be ligh...\n",
              "2     I have to say I quite enjoyed Soldier. Russell...\n",
              "3     Written by someone who has been there, you can...\n",
              "4     Fun With Dick and Jane failed to entertain on ...\n",
              "5     His music, especially what we hear of it here,...\n",
              "6     Going into seeing this movie I was a bit skept...\n",
              "7     Breathtaking at it's best, intriguing at it's ...\n",
              "8     I am not an artistically inclined individual. ...\n",
              "9     I'm not a writer or an critic...I'M just a stu...\n",
              "10    I adored this movie. Not only because I am a b...\n",
              "11    Yes, The Southern Star features a pretty forge...\n",
              "12    Ben Masters,(Kyd Thomas),\"Dream Lover\",'86 pla...\n",
              "13    This review contains some small, yet significa...\n",
              "14    \"Holly\" is an issue-driven film, but it is nei...\n",
              "15    Akin's prize-winning 2004 movie Head-On/Gegen ...\n",
              "16    THE GOLDEN DOOR (NUOVOMONDO) is for this viewe...\n",
              "17    A typical Lanza flick that had limited audienc...\n",
              "18    Universal studios. The name conjures up so man...\n",
              "19    Beware, My Lovely (1952) Dir: Harry Horner <br...\n",
              "Name: review, dtype: object"
            ]
          },
          "execution_count": 16,
          "metadata": {},
          "output_type": "execute_result"
        }
      ],
      "source": [
        "df['review'].head(20)"
      ]
    },
    {
      "cell_type": "markdown",
      "id": "e37091ce-31c6-4dd8-9988-9ee7cc4d35d5",
      "metadata": {
        "id": "e37091ce-31c6-4dd8-9988-9ee7cc4d35d5"
      },
      "source": [
        "#### Split x=feature, y=target"
      ]
    },
    {
      "cell_type": "code",
      "execution_count": 17,
      "id": "fe61434a-ea20-4118-a54d-c790eb52fef7",
      "metadata": {
        "id": "fe61434a-ea20-4118-a54d-c790eb52fef7"
      },
      "outputs": [],
      "source": [
        "x = df['review']\n",
        "y = df['sentiment']"
      ]
    },
    {
      "cell_type": "code",
      "execution_count": 18,
      "id": "d4cd09c0-990a-4fe8-8ef5-d1955359fa4d",
      "metadata": {
        "id": "d4cd09c0-990a-4fe8-8ef5-d1955359fa4d",
        "outputId": "07bb8647-e960-40d6-fda3-0523a74617fd"
      },
      "outputs": [
        {
          "data": {
            "text/plain": [
              "array([1, 0, 1, ..., 0, 0, 0], shape=(50000,))"
            ]
          },
          "execution_count": 18,
          "metadata": {},
          "output_type": "execute_result"
        }
      ],
      "source": [
        "from sklearn.preprocessing import LabelEncoder\n",
        "label_encode = LabelEncoder()\n",
        "Y = label_encode.fit_transform(df['sentiment'])\n",
        "Y"
      ]
    },
    {
      "cell_type": "code",
      "execution_count": 19,
      "id": "a8282f62-b148-47fa-b886-c50a3e120a78",
      "metadata": {
        "id": "a8282f62-b148-47fa-b886-c50a3e120a78",
        "outputId": "08b2e11a-99ea-4983-bbab-0bd1fbe8f3c9"
      },
      "outputs": [
        {
          "data": {
            "text/plain": [
              "0        positive\n",
              "1        negative\n",
              "2        positive\n",
              "3        positive\n",
              "4        negative\n",
              "           ...   \n",
              "49995    negative\n",
              "49996    negative\n",
              "49997    negative\n",
              "49998    negative\n",
              "49999    negative\n",
              "Name: sentiment, Length: 50000, dtype: object"
            ]
          },
          "execution_count": 19,
          "metadata": {},
          "output_type": "execute_result"
        }
      ],
      "source": [
        "y"
      ]
    },
    {
      "cell_type": "markdown",
      "id": "58088824-cefd-468d-8e3f-ddd38bbd7b33",
      "metadata": {
        "id": "58088824-cefd-468d-8e3f-ddd38bbd7b33"
      },
      "source": [
        "### Note: 0 represent negative comments and 1 represent positive comments"
      ]
    },
    {
      "cell_type": "markdown",
      "id": "5ec5f3ed-6769-4564-93c2-4dc5bea126ee",
      "metadata": {
        "id": "5ec5f3ed-6769-4564-93c2-4dc5bea126ee"
      },
      "source": [
        "### Split the dataset into training and testing sets\n"
      ]
    },
    {
      "cell_type": "code",
      "execution_count": 20,
      "id": "b1088cf9-4cf8-4f6c-8bdd-f9d22b6f95f0",
      "metadata": {
        "id": "b1088cf9-4cf8-4f6c-8bdd-f9d22b6f95f0"
      },
      "outputs": [],
      "source": [
        "xtrain, xtest, ytrain, ytest = train_test_split(x, Y, test_size=0.2, random_state=42)"
      ]
    },
    {
      "cell_type": "markdown",
      "id": "cf3d9a30-fba2-45f1-9e3b-94b57a2fed23",
      "metadata": {
        "id": "cf3d9a30-fba2-45f1-9e3b-94b57a2fed23"
      },
      "source": [
        "### Create a vocabulary"
      ]
    },
    {
      "cell_type": "code",
      "execution_count": 21,
      "id": "c3c951f4-ff12-4331-af67-f2bce9b2369a",
      "metadata": {
        "id": "c3c951f4-ff12-4331-af67-f2bce9b2369a"
      },
      "outputs": [],
      "source": [
        "# Create a vocabulary\n",
        "from collections import Counter\n",
        "word_counts = Counter(' '.join(xtrain).split())"
      ]
    },
    {
      "cell_type": "markdown",
      "id": "61000921-59d8-4044-87b5-f86f3d72e476",
      "metadata": {
        "id": "61000921-59d8-4044-87b5-f86f3d72e476"
      },
      "source": [
        "### Display each word in the vocabulary along with its count\n"
      ]
    },
    {
      "cell_type": "code",
      "execution_count": null,
      "id": "75ac5f0d-5a6a-4b74-aad2-5d17d022b4a0",
      "metadata": {
        "id": "75ac5f0d-5a6a-4b74-aad2-5d17d022b4a0",
        "scrolled": true
      },
      "outputs": [],
      "source": [
        "#for word, count in word_counts.items():\n",
        "    #print(f\"{word}: {count}\")"
      ]
    },
    {
      "cell_type": "code",
      "execution_count": null,
      "id": "10096e11-e063-4789-b962-28a971fb2f3a",
      "metadata": {
        "id": "10096e11-e063-4789-b962-28a971fb2f3a",
        "scrolled": true
      },
      "outputs": [],
      "source": [
        "#vocab = [word for word, count in word_counts.most_common()]\n",
        "#vocab"
      ]
    },
    {
      "cell_type": "markdown",
      "id": "7ce2e3c5-7eb9-4a50-a843-0eb8bd6ff860",
      "metadata": {
        "id": "7ce2e3c5-7eb9-4a50-a843-0eb8bd6ff860"
      },
      "source": [
        "### Classification with various classifiers\n",
        "#### 1. Linear SVM\n",
        "#### 2. Logistic Regression (LR)\n",
        "#### 3. Naive Bayes\n",
        "#### 4. XGBoost\n",
        "#### 5. Random Forest"
      ]
    },
    {
      "cell_type": "code",
      "execution_count": 22,
      "id": "aac74f4c-e88b-4ecb-bdec-a7e418a26e59",
      "metadata": {
        "id": "aac74f4c-e88b-4ecb-bdec-a7e418a26e59"
      },
      "outputs": [],
      "source": [
        "#Import libraries\n",
        "from sklearn.svm import LinearSVC\n",
        "from sklearn.linear_model import LogisticRegression\n",
        "from sklearn.naive_bayes import MultinomialNB\n",
        "from xgboost import XGBClassifier\n",
        "from sklearn.ensemble import RandomForestClassifier\n",
        "from sklearn.metrics import accuracy_score, precision_score, recall_score, f1_score, classification_report, confusion_matrix\n",
        "from timeit import default_timer as timer"
      ]
    },
    {
      "cell_type": "markdown",
      "id": "9e3f9410-a5ac-4cc0-9079-b1151b6f4e3b",
      "metadata": {
        "id": "9e3f9410-a5ac-4cc0-9079-b1151b6f4e3b"
      },
      "source": [
        "#### Initialize classifiers"
      ]
    },
    {
      "cell_type": "code",
      "execution_count": 23,
      "id": "f86d8c8b-431c-488b-ad0c-b45b87147668",
      "metadata": {
        "id": "f86d8c8b-431c-488b-ad0c-b45b87147668"
      },
      "outputs": [],
      "source": [
        "svm_classifier = LinearSVC()\n",
        "logistic_regression = LogisticRegression(max_iter=1000)\n",
        "nb_classifier = MultinomialNB()\n",
        "xgboost_classifier = XGBClassifier()\n",
        "random_forest_classifier = RandomForestClassifier(n_estimators=100, max_depth=3, max_features='sqrt', min_samples_leaf=4, bootstrap=True, n_jobs=-1, random_state=0)"
      ]
    },
    {
      "cell_type": "code",
      "execution_count": 24,
      "id": "7e22042f-47bd-4584-aa4a-b6e27c0ff946",
      "metadata": {
        "id": "7e22042f-47bd-4584-aa4a-b6e27c0ff946"
      },
      "outputs": [],
      "source": [
        "def evaluate_model(model, xtest, ytest):\n",
        "    # Make predictions using the model\n",
        "    y_pred = model.predict(xtest)\n",
        "\n",
        "    # Calculate accuracy\n",
        "    accuracy = accuracy_score(ytest, y_pred)\n",
        "    # Calculate precision\n",
        "    precision = precision_score(ytest, y_pred)\n",
        "    # Calculate recall\n",
        "    recall = recall_score(ytest, y_pred)\n",
        "    # Calculate f1 score\n",
        "    f1 = f1_score(ytest, y_pred)\n",
        "    # Generate a classification report and confusion matrix\n",
        "    report = classification_report(ytest, y_pred)\n",
        "    cm = confusion_matrix(ytest, y_pred)\n",
        "    return y_pred, accuracy, precision, recall, f1, report, cm\n"
      ]
    },
    {
      "cell_type": "code",
      "execution_count": 25,
      "id": "5c560565-5c90-449c-a93e-941939bfa5f8",
      "metadata": {
        "id": "5c560565-5c90-449c-a93e-941939bfa5f8"
      },
      "outputs": [],
      "source": [
        "# Define batch size\n",
        "batch_size = 1000"
      ]
    },
    {
      "cell_type": "markdown",
      "id": "9a54a355-1c98-44e9-9fb5-14d99b480013",
      "metadata": {
        "id": "9a54a355-1c98-44e9-9fb5-14d99b480013"
      },
      "source": [
        "## 1. TF-IDF"
      ]
    },
    {
      "cell_type": "markdown",
      "id": "a2f7b368-860d-4cb2-9e9b-a28b457f9a81",
      "metadata": {
        "id": "a2f7b368-860d-4cb2-9e9b-a28b457f9a81"
      },
      "source": [
        "#### TF-IDF Vectorization\n"
      ]
    },
    {
      "cell_type": "code",
      "execution_count": 26,
      "id": "68886848-7170-403c-b6a3-9e10698cdfc3",
      "metadata": {
        "id": "68886848-7170-403c-b6a3-9e10698cdfc3"
      },
      "outputs": [],
      "source": [
        "tfidf_vectorizer = TfidfVectorizer(max_features=5000)"
      ]
    },
    {
      "cell_type": "markdown",
      "id": "313399cb-be7e-4722-9dd7-9c51610cd49a",
      "metadata": {
        "id": "313399cb-be7e-4722-9dd7-9c51610cd49a"
      },
      "source": [
        "##### Process the data in smaller batches for training data\n"
      ]
    },
    {
      "cell_type": "code",
      "execution_count": 27,
      "id": "85ff4a92-7d3d-4c92-a783-223569d7b59a",
      "metadata": {
        "id": "85ff4a92-7d3d-4c92-a783-223569d7b59a",
        "outputId": "12fb254d-51ec-4fdb-b476-69fb1af074f0"
      },
      "outputs": [
        {
          "name": "stdout",
          "output_type": "stream",
          "text": [
            "Required time for embedding TFIDF with train data:-  14.543095899978653\n"
          ]
        }
      ],
      "source": [
        "start = timer()\n",
        "tfidf_vectorizer_xtrain = []\n",
        "for i in range(0, len(xtrain), batch_size):\n",
        "    batch_X_train = xtrain[i:i + batch_size]\n",
        "    batch_X_train_tfidf = tfidf_vectorizer.fit_transform(batch_X_train)\n",
        "    tfidf_vectorizer_xtrain.extend(batch_X_train_tfidf.toarray())\n",
        "print('Required time for embedding TFIDF with train data:- ', timer() - start)"
      ]
    },
    {
      "cell_type": "markdown",
      "id": "09d50079-1a1b-4ca7-9ce2-9d0e4aef005c",
      "metadata": {
        "id": "09d50079-1a1b-4ca7-9ce2-9d0e4aef005c"
      },
      "source": [
        "##### Repeat the same process for test data\n"
      ]
    },
    {
      "cell_type": "code",
      "execution_count": 28,
      "id": "9a6335d3-4dbc-4d10-b10b-ba51a5820299",
      "metadata": {
        "id": "9a6335d3-4dbc-4d10-b10b-ba51a5820299",
        "outputId": "0c2259b4-2e69-46be-e055-5c5df6c7cefa"
      },
      "outputs": [
        {
          "name": "stdout",
          "output_type": "stream",
          "text": [
            "Required time for embedding TFIDF with train data:-  3.643869600025937\n"
          ]
        }
      ],
      "source": [
        "start = timer()\n",
        "tfidf_vectorizer_xtest = []\n",
        "for i in range(0, len(xtest), batch_size):\n",
        "    batch_X_test = xtest[i:i + batch_size]\n",
        "    batch_X_test_tfidf = tfidf_vectorizer.transform(batch_X_test)\n",
        "    tfidf_vectorizer_xtest.extend(batch_X_test_tfidf.toarray())\n",
        "print('Required time for embedding TFIDF with train data:- ', timer() - start)"
      ]
    },
    {
      "cell_type": "markdown",
      "id": "73973d6b-43fe-4285-88a3-b3d8857f039d",
      "metadata": {
        "id": "73973d6b-43fe-4285-88a3-b3d8857f039d"
      },
      "source": [
        "#### Fit classifiers"
      ]
    },
    {
      "cell_type": "code",
      "execution_count": 29,
      "id": "39f1f2f6-456f-4701-a979-bbf536e39113",
      "metadata": {
        "id": "39f1f2f6-456f-4701-a979-bbf536e39113",
        "outputId": "8e715c20-e451-4e0e-d0cc-808c58dcf7e1"
      },
      "outputs": [
        {
          "name": "stdout",
          "output_type": "stream",
          "text": [
            "Required time for training Linear SVM classifiers:-  4.591800299996976\n",
            "Required time for training Logistic Regression classifiers:-  5.124840100004803\n",
            "Required time for training Naive Bayes classifiers:-  3.2818804000271484\n",
            "Required time for training XGBoost classifiers:-  80.2925852999906\n",
            "Required time for training all five classifiers:-  5.424051399983\n"
          ]
        }
      ],
      "source": [
        "start = timer()\n",
        "svm_tfidf = svm_classifier.fit(tfidf_vectorizer_xtrain, ytrain)\n",
        "print('Required time for training Linear SVM classifiers:- ', timer() - start)\n",
        "start = timer()\n",
        "lr_tfidf = logistic_regression.fit(tfidf_vectorizer_xtrain, ytrain)\n",
        "print('Required time for training Logistic Regression classifiers:- ', timer() - start)\n",
        "start = timer()\n",
        "nb_tfidf = nb_classifier.fit(tfidf_vectorizer_xtrain, ytrain)\n",
        "print('Required time for training Naive Bayes classifiers:- ', timer() - start)\n",
        "start = timer()\n",
        "xgboost_tfidf = xgboost_classifier.fit(tfidf_vectorizer_xtrain, ytrain)\n",
        "print('Required time for training XGBoost classifiers:- ', timer() - start)\n",
        "start = timer()\n",
        "rfc_tfidf = random_forest_classifier.fit(tfidf_vectorizer_xtrain, ytrain)\n",
        "print('Required time for training all five classifiers:- ', timer() - start)"
      ]
    },
    {
      "cell_type": "markdown",
      "id": "d08018d7-fcdd-4bc3-a65f-0d96c7ce649b",
      "metadata": {
        "id": "d08018d7-fcdd-4bc3-a65f-0d96c7ce649b"
      },
      "source": [
        "#### Make predictions"
      ]
    },
    {
      "cell_type": "markdown",
      "id": "c9193725-8df2-463e-b537-319098fac30f",
      "metadata": {
        "id": "c9193725-8df2-463e-b537-319098fac30f"
      },
      "source": [
        "### Linear SVM"
      ]
    },
    {
      "cell_type": "code",
      "execution_count": 30,
      "id": "72c2a99e-dd40-4abe-a8bd-0ba2db197611",
      "metadata": {
        "id": "72c2a99e-dd40-4abe-a8bd-0ba2db197611",
        "outputId": "179f750f-aa43-4cf6-c0ac-67b11abf7be7"
      },
      "outputs": [
        {
          "name": "stdout",
          "output_type": "stream",
          "text": [
            "Required time for SVM prediction:-  1.2358085000305437\n"
          ]
        }
      ],
      "source": [
        "start = timer()\n",
        "y_pred_svm, accuracy_svm, precision_svm, recall_svm, f1_svm, report_svm, confusion_matrix_svm = evaluate_model(svm_tfidf, tfidf_vectorizer_xtest, ytest)\n",
        "print('Required time for SVM prediction:- ', timer() - start)"
      ]
    },
    {
      "cell_type": "markdown",
      "id": "c586812c-6fe9-48ba-9ad8-620e046ec079",
      "metadata": {
        "id": "c586812c-6fe9-48ba-9ad8-620e046ec079"
      },
      "source": [
        "#### Print actual vs. predicted results for LinearSVM"
      ]
    },
    {
      "cell_type": "code",
      "execution_count": 31,
      "id": "b6e3df3f-9612-49e9-871b-787decfbc83b",
      "metadata": {
        "id": "b6e3df3f-9612-49e9-871b-787decfbc83b",
        "outputId": "b5410cca-7811-41d4-a32b-45d3f4184787"
      },
      "outputs": [
        {
          "name": "stdout",
          "output_type": "stream",
          "text": [
            "0 = negative, 1 = positive\n",
            "Actual: 0, SVM Predicted: 0\n",
            "\n",
            "Actual: 1, SVM Predicted: 1\n",
            "\n",
            "Actual: 1, SVM Predicted: 1\n",
            "\n",
            "Actual: 1, SVM Predicted: 1\n",
            "\n",
            "Actual: 0, SVM Predicted: 0\n",
            "\n",
            "Actual: 1, SVM Predicted: 1\n",
            "\n",
            "Actual: 1, SVM Predicted: 1\n",
            "\n",
            "Actual: 1, SVM Predicted: 0\n",
            "\n",
            "Actual: 0, SVM Predicted: 0\n",
            "\n",
            "Actual: 0, SVM Predicted: 0\n",
            "\n",
            "Actual: 0, SVM Predicted: 0\n",
            "\n",
            "Actual: 0, SVM Predicted: 0\n",
            "\n",
            "Actual: 0, SVM Predicted: 0\n",
            "\n",
            "Actual: 1, SVM Predicted: 1\n",
            "\n",
            "Actual: 0, SVM Predicted: 0\n",
            "\n"
          ]
        }
      ],
      "source": [
        "print('0 = negative, 1 = positive')\n",
        "for actual, predicted in zip(ytest[:15], y_pred_svm[:15]):\n",
        "    print(f\"Actual: {actual}, SVM Predicted: {predicted}\")\n",
        "    print()"
      ]
    },
    {
      "cell_type": "code",
      "execution_count": 32,
      "id": "cb35628b-3cbe-46f2-bd43-073975b3ec90",
      "metadata": {
        "id": "cb35628b-3cbe-46f2-bd43-073975b3ec90",
        "outputId": "4f347cee-49f6-4c6c-8fa6-3c112c99b258"
      },
      "outputs": [
        {
          "name": "stdout",
          "output_type": "stream",
          "text": [
            "LinearSVM Accuracy: 0.71\n",
            "LinearSVM Precision: 0.70\n",
            "LinearSVM Recall: 0.71\n",
            "LinearSVM F1 score: 0.71\n",
            "Classification Report:\n",
            "              precision    recall  f1-score   support\n",
            "\n",
            "           0       0.71      0.70      0.70      5013\n",
            "           1       0.70      0.71      0.71      4987\n",
            "\n",
            "    accuracy                           0.71     10000\n",
            "   macro avg       0.71      0.71      0.71     10000\n",
            "weighted avg       0.71      0.71      0.71     10000\n",
            "\n",
            "Confusion Matrix\n",
            "[[3503 1510]\n",
            " [1434 3553]]\n"
          ]
        }
      ],
      "source": [
        "print(f\"LinearSVM Accuracy: {accuracy_svm:.2f}\")\n",
        "print(f\"LinearSVM Precision: {precision_svm:.2f}\")\n",
        "print(f\"LinearSVM Recall: {recall_svm:.2f}\")\n",
        "print(f\"LinearSVM F1 score: {f1_svm:.2f}\")\n",
        "print(\"Classification Report:\")\n",
        "print(report_svm)\n",
        "print(\"Confusion Matrix\")\n",
        "print(confusion_matrix_svm)"
      ]
    },
    {
      "cell_type": "markdown",
      "id": "e1ffb984-5f8b-48b5-94ca-63781a24a87c",
      "metadata": {
        "id": "e1ffb984-5f8b-48b5-94ca-63781a24a87c"
      },
      "source": [
        "### Logistic Regression"
      ]
    },
    {
      "cell_type": "code",
      "execution_count": 33,
      "id": "23169f4f-6f05-42cd-8c13-c3bcdea52d65",
      "metadata": {
        "id": "23169f4f-6f05-42cd-8c13-c3bcdea52d65",
        "outputId": "00a585f6-3b14-4c29-fe2e-91f7a419c43c"
      },
      "outputs": [
        {
          "name": "stdout",
          "output_type": "stream",
          "text": [
            "Required time for Logistic Regression prediction:-  0.30064640002092347\n"
          ]
        }
      ],
      "source": [
        "start = timer()\n",
        "y_pred_lr, accuracy_lr, precision_lr, recall_lr, f1_lr, report_lr, cm_lr = evaluate_model(lr_tfidf, tfidf_vectorizer_xtest, ytest)\n",
        "print('Required time for Logistic Regression prediction:- ', timer() - start)"
      ]
    },
    {
      "cell_type": "markdown",
      "id": "285a2cc2-0776-42bf-82cb-c1e39e80cd28",
      "metadata": {
        "id": "285a2cc2-0776-42bf-82cb-c1e39e80cd28"
      },
      "source": [
        "#### Print actual vs. predicted results for Logistic Regression\n"
      ]
    },
    {
      "cell_type": "code",
      "execution_count": 34,
      "id": "067b3d31-1352-4115-a807-cdfe4ce6f54a",
      "metadata": {
        "id": "067b3d31-1352-4115-a807-cdfe4ce6f54a",
        "outputId": "a80a343d-9aca-4a37-de44-7c5fdea64c2a"
      },
      "outputs": [
        {
          "name": "stdout",
          "output_type": "stream",
          "text": [
            "0 = negative, 1 = positive\n",
            "Actual: 0, Logistic Regression Predicted: 0\n",
            "\n",
            "Actual: 1, Logistic Regression Predicted: 1\n",
            "\n",
            "Actual: 1, Logistic Regression Predicted: 1\n",
            "\n",
            "Actual: 1, Logistic Regression Predicted: 1\n",
            "\n",
            "Actual: 0, Logistic Regression Predicted: 0\n",
            "\n",
            "Actual: 1, Logistic Regression Predicted: 1\n",
            "\n",
            "Actual: 1, Logistic Regression Predicted: 1\n",
            "\n",
            "Actual: 1, Logistic Regression Predicted: 0\n",
            "\n",
            "Actual: 0, Logistic Regression Predicted: 0\n",
            "\n",
            "Actual: 0, Logistic Regression Predicted: 0\n",
            "\n",
            "Actual: 0, Logistic Regression Predicted: 0\n",
            "\n",
            "Actual: 0, Logistic Regression Predicted: 0\n",
            "\n",
            "Actual: 0, Logistic Regression Predicted: 0\n",
            "\n",
            "Actual: 1, Logistic Regression Predicted: 1\n",
            "\n",
            "Actual: 0, Logistic Regression Predicted: 0\n",
            "\n"
          ]
        }
      ],
      "source": [
        "print('0 = negative, 1 = positive')\n",
        "for actual, predicted in zip(ytest[:15], y_pred_lr[:15]):\n",
        "    print(f\"Actual: {actual}, Logistic Regression Predicted: {predicted}\")\n",
        "    print()"
      ]
    },
    {
      "cell_type": "code",
      "execution_count": 35,
      "id": "be6cecf4-f22c-4eac-bfd8-65a81e061ee9",
      "metadata": {
        "id": "be6cecf4-f22c-4eac-bfd8-65a81e061ee9",
        "outputId": "c2a5b79b-6e13-4f76-c667-480a60870a31"
      },
      "outputs": [
        {
          "name": "stdout",
          "output_type": "stream",
          "text": [
            "Logistic Regression Accuracy: 0.71\n",
            "Logistic Regression Precision: 0.71\n",
            "Logistic Regression Recall: 0.72\n",
            "Logistic Regression F1 score: 0.71\n",
            "Classification Report:\n",
            "              precision    recall  f1-score   support\n",
            "\n",
            "           0       0.72      0.71      0.71      5013\n",
            "           1       0.71      0.72      0.71      4987\n",
            "\n",
            "    accuracy                           0.71     10000\n",
            "   macro avg       0.71      0.71      0.71     10000\n",
            "weighted avg       0.71      0.71      0.71     10000\n",
            "\n",
            "Confusion Matrix\n",
            "[[3553 1460]\n",
            " [1401 3586]]\n"
          ]
        }
      ],
      "source": [
        "print(f\"Logistic Regression Accuracy: {accuracy_lr:.2f}\")\n",
        "print(f\"Logistic Regression Precision: {precision_lr:.2f}\")\n",
        "print(f\"Logistic Regression Recall: {recall_lr:.2f}\")\n",
        "print(f\"Logistic Regression F1 score: {f1_lr:.2f}\")\n",
        "print(\"Classification Report:\")\n",
        "print(report_lr)\n",
        "print(\"Confusion Matrix\")\n",
        "print(cm_lr)"
      ]
    },
    {
      "cell_type": "markdown",
      "id": "0a0222ad-264e-40ac-a032-ab9b7ff2cd00",
      "metadata": {
        "id": "0a0222ad-264e-40ac-a032-ab9b7ff2cd00"
      },
      "source": [
        "### Naive bayes"
      ]
    },
    {
      "cell_type": "code",
      "execution_count": 36,
      "id": "bb0e65ee-dcb6-4494-bfad-95ac85448a24",
      "metadata": {
        "id": "bb0e65ee-dcb6-4494-bfad-95ac85448a24",
        "outputId": "9f45d225-f014-4f7c-d62c-bd4a491d52ba"
      },
      "outputs": [
        {
          "name": "stdout",
          "output_type": "stream",
          "text": [
            "Required time for Naive Bayes prediction:-  0.3171064999769442\n"
          ]
        }
      ],
      "source": [
        "start = timer()\n",
        "y_pred_nb, accuracy_nb, precision_nb, recall_nb, f1_nb, report_nb, cm_nb = evaluate_model(nb_tfidf, tfidf_vectorizer_xtest, ytest)\n",
        "print('Required time for Naive Bayes prediction:- ', timer() - start)"
      ]
    },
    {
      "cell_type": "markdown",
      "id": "3c315f65-2f63-4924-b4a1-058c6ff5775d",
      "metadata": {
        "id": "3c315f65-2f63-4924-b4a1-058c6ff5775d"
      },
      "source": [
        "#### Print actual vs. predicted results for Naive bayes\n"
      ]
    },
    {
      "cell_type": "code",
      "execution_count": 37,
      "id": "77452499-14aa-41f3-b117-546b185aa32f",
      "metadata": {
        "id": "77452499-14aa-41f3-b117-546b185aa32f",
        "outputId": "5ce20b1a-02ec-418b-d250-ce35b514093d"
      },
      "outputs": [
        {
          "name": "stdout",
          "output_type": "stream",
          "text": [
            "0 = negative, 1 = positive\n",
            "Actual: 0, Naive bayes Predicted: 0\n",
            "\n",
            "Actual: 1, Naive bayes Predicted: 1\n",
            "\n",
            "Actual: 1, Naive bayes Predicted: 1\n",
            "\n",
            "Actual: 1, Naive bayes Predicted: 1\n",
            "\n",
            "Actual: 0, Naive bayes Predicted: 0\n",
            "\n",
            "Actual: 1, Naive bayes Predicted: 1\n",
            "\n",
            "Actual: 1, Naive bayes Predicted: 1\n",
            "\n",
            "Actual: 1, Naive bayes Predicted: 0\n",
            "\n",
            "Actual: 0, Naive bayes Predicted: 0\n",
            "\n",
            "Actual: 0, Naive bayes Predicted: 0\n",
            "\n",
            "Actual: 0, Naive bayes Predicted: 0\n",
            "\n",
            "Actual: 0, Naive bayes Predicted: 0\n",
            "\n",
            "Actual: 0, Naive bayes Predicted: 0\n",
            "\n",
            "Actual: 1, Naive bayes Predicted: 1\n",
            "\n",
            "Actual: 0, Naive bayes Predicted: 0\n",
            "\n"
          ]
        }
      ],
      "source": [
        "print('0 = negative, 1 = positive')\n",
        "for actual, predicted in zip(ytest[:15], y_pred_nb[:15]):\n",
        "    print(f\"Actual: {actual}, Naive bayes Predicted: {predicted}\")\n",
        "    print()"
      ]
    },
    {
      "cell_type": "code",
      "execution_count": 38,
      "id": "c564657e-19e5-43eb-9ed0-ca0e73db8e65",
      "metadata": {
        "id": "c564657e-19e5-43eb-9ed0-ca0e73db8e65",
        "outputId": "362215a1-2657-43c1-e487-462d5a4fa625"
      },
      "outputs": [
        {
          "name": "stdout",
          "output_type": "stream",
          "text": [
            "Naive bayes Accuracy: 0.71\n",
            "Naive bayes Precision: 0.71\n",
            "Naive bayes Recall: 0.71\n",
            "Naive bayes F1 score: 0.71\n",
            "Classification Report:\n",
            "              precision    recall  f1-score   support\n",
            "\n",
            "           0       0.71      0.71      0.71      5013\n",
            "           1       0.71      0.71      0.71      4987\n",
            "\n",
            "    accuracy                           0.71     10000\n",
            "   macro avg       0.71      0.71      0.71     10000\n",
            "weighted avg       0.71      0.71      0.71     10000\n",
            "\n",
            "Confusion Matrix:\n",
            "[[3567 1446]\n",
            " [1441 3546]]\n"
          ]
        }
      ],
      "source": [
        "print(f\"Naive bayes Accuracy: {accuracy_nb:.2f}\")\n",
        "print(f\"Naive bayes Precision: {precision_nb:.2f}\")\n",
        "print(f\"Naive bayes Recall: {recall_nb:.2f}\")\n",
        "print(f\"Naive bayes F1 score: {f1_nb:.2f}\")\n",
        "print(\"Classification Report:\")\n",
        "print(report_nb)\n",
        "print(\"Confusion Matrix:\")\n",
        "print(cm_nb)"
      ]
    },
    {
      "cell_type": "markdown",
      "id": "85e291f9-7f4a-4ee4-b62d-afc9981d4d5e",
      "metadata": {
        "id": "85e291f9-7f4a-4ee4-b62d-afc9981d4d5e"
      },
      "source": [
        "### XGBoost Classifier"
      ]
    },
    {
      "cell_type": "code",
      "execution_count": 39,
      "id": "15c8b8ef-5f43-4db0-adf7-27ac972ad917",
      "metadata": {
        "id": "15c8b8ef-5f43-4db0-adf7-27ac972ad917",
        "outputId": "0048da3a-3c24-4e9c-d0e1-1c6355a39852"
      },
      "outputs": [
        {
          "name": "stdout",
          "output_type": "stream",
          "text": [
            "Required time for XGBoost classifier prediction:-  0.435661000024993\n"
          ]
        }
      ],
      "source": [
        "start = timer()\n",
        "y_pred_xgboost, accuracy_xgboost, precision_xgboost, recall_xgboost, f1_xgboost, report_xgboost, cm_xgboost = evaluate_model(xgboost_tfidf, tfidf_vectorizer_xtest, ytest)\n",
        "print('Required time for XGBoost classifier prediction:- ', timer() - start)"
      ]
    },
    {
      "cell_type": "markdown",
      "id": "5cee48b3-b0d0-4ec4-8e1d-1b1a6523c1fe",
      "metadata": {
        "id": "5cee48b3-b0d0-4ec4-8e1d-1b1a6523c1fe"
      },
      "source": [
        "#### Print actual vs. predicted results for XGBoost classifier\n"
      ]
    },
    {
      "cell_type": "code",
      "execution_count": 40,
      "id": "ae277999-c33f-4127-90e9-a5e6e34b23a8",
      "metadata": {
        "id": "ae277999-c33f-4127-90e9-a5e6e34b23a8",
        "outputId": "86566291-4611-49c1-e426-f07a83aca2ed"
      },
      "outputs": [
        {
          "name": "stdout",
          "output_type": "stream",
          "text": [
            "0 = negative, 1 = positive\n",
            "Actual: 0, XGBoost Predicted: 1\n",
            "\n",
            "Actual: 1, XGBoost Predicted: 1\n",
            "\n",
            "Actual: 1, XGBoost Predicted: 1\n",
            "\n",
            "Actual: 1, XGBoost Predicted: 1\n",
            "\n",
            "Actual: 0, XGBoost Predicted: 1\n",
            "\n",
            "Actual: 1, XGBoost Predicted: 1\n",
            "\n",
            "Actual: 1, XGBoost Predicted: 0\n",
            "\n",
            "Actual: 1, XGBoost Predicted: 0\n",
            "\n",
            "Actual: 0, XGBoost Predicted: 0\n",
            "\n",
            "Actual: 0, XGBoost Predicted: 1\n",
            "\n",
            "Actual: 0, XGBoost Predicted: 0\n",
            "\n",
            "Actual: 0, XGBoost Predicted: 1\n",
            "\n",
            "Actual: 0, XGBoost Predicted: 0\n",
            "\n",
            "Actual: 1, XGBoost Predicted: 1\n",
            "\n",
            "Actual: 0, XGBoost Predicted: 1\n",
            "\n"
          ]
        }
      ],
      "source": [
        "print('0 = negative, 1 = positive')\n",
        "for actual, predicted in zip(ytest[:15], y_pred_xgboost[:15]):\n",
        "    print(f\"Actual: {actual}, XGBoost Predicted: {predicted}\")\n",
        "    print()"
      ]
    },
    {
      "cell_type": "code",
      "execution_count": 41,
      "id": "b477ba4b-24cb-4e5b-888b-42d62c0d4f02",
      "metadata": {
        "id": "b477ba4b-24cb-4e5b-888b-42d62c0d4f02",
        "outputId": "4aed35bd-da8b-493c-fea1-92f83dc0477d"
      },
      "outputs": [
        {
          "name": "stdout",
          "output_type": "stream",
          "text": [
            "XGBoost Accuracy: 0.70\n",
            "XGBoost Precision: 0.69\n",
            "XGBoost Recall: 0.72\n",
            "XGBoost F1 score: 0.71\n",
            "Classification Report:\n",
            "              precision    recall  f1-score   support\n",
            "\n",
            "           0       0.71      0.67      0.69      5013\n",
            "           1       0.69      0.72      0.71      4987\n",
            "\n",
            "    accuracy                           0.70     10000\n",
            "   macro avg       0.70      0.70      0.70     10000\n",
            "weighted avg       0.70      0.70      0.70     10000\n",
            "\n",
            "Confusion Matrix:\n",
            "[[3382 1631]\n",
            " [1376 3611]]\n"
          ]
        }
      ],
      "source": [
        "print(f\"XGBoost Accuracy: {accuracy_xgboost:.2f}\")\n",
        "print(f\"XGBoost Precision: {precision_xgboost:.2f}\")\n",
        "print(f\"XGBoost Recall: {recall_xgboost:.2f}\")\n",
        "print(f\"XGBoost F1 score: {f1_xgboost:.2f}\")\n",
        "print(\"Classification Report:\")\n",
        "print(report_xgboost)\n",
        "print(\"Confusion Matrix:\")\n",
        "print(cm_xgboost)"
      ]
    },
    {
      "cell_type": "markdown",
      "id": "a27a6d4d-5cec-4a00-9646-793488fc4964",
      "metadata": {
        "id": "a27a6d4d-5cec-4a00-9646-793488fc4964"
      },
      "source": [
        "### Random Forest Classifier"
      ]
    },
    {
      "cell_type": "code",
      "execution_count": 42,
      "id": "5cfa9a30-1b1b-45a7-b122-4abbe8346461",
      "metadata": {
        "id": "5cfa9a30-1b1b-45a7-b122-4abbe8346461",
        "outputId": "ad091e1a-1dab-4548-b53e-372f37a393f6"
      },
      "outputs": [
        {
          "name": "stdout",
          "output_type": "stream",
          "text": [
            "Required time for Random Forest classifier prediction:-  0.2694566000136547\n"
          ]
        }
      ],
      "source": [
        "start = timer()\n",
        "y_pred_rfc, accuracy_rfc, precision_rfc, recall_rfc, f1_rfc, report_rfc, cm_rfc = evaluate_model(rfc_tfidf, tfidf_vectorizer_xtest, ytest)\n",
        "print('Required time for Random Forest classifier prediction:- ', timer() - start)"
      ]
    },
    {
      "cell_type": "markdown",
      "id": "fe655b46-23f8-4b23-8df1-6d15309d3f12",
      "metadata": {
        "id": "fe655b46-23f8-4b23-8df1-6d15309d3f12"
      },
      "source": [
        "#### Print actual vs. predicted results for Random Forest classifier"
      ]
    },
    {
      "cell_type": "code",
      "execution_count": 43,
      "id": "4d5e8ac2-bd2f-4aa2-9f2d-cf23d24361f1",
      "metadata": {
        "id": "4d5e8ac2-bd2f-4aa2-9f2d-cf23d24361f1",
        "outputId": "9834e8dc-9096-40d6-d724-472ec89d492f"
      },
      "outputs": [
        {
          "name": "stdout",
          "output_type": "stream",
          "text": [
            "0 = negative, 1 = positive\n",
            "Actual: 0, Random Forest Predicted: 0\n",
            "\n",
            "Actual: 1, Random Forest Predicted: 1\n",
            "\n",
            "Actual: 1, Random Forest Predicted: 1\n",
            "\n",
            "Actual: 1, Random Forest Predicted: 1\n",
            "\n",
            "Actual: 0, Random Forest Predicted: 1\n",
            "\n",
            "Actual: 1, Random Forest Predicted: 1\n",
            "\n",
            "Actual: 1, Random Forest Predicted: 1\n",
            "\n",
            "Actual: 1, Random Forest Predicted: 1\n",
            "\n",
            "Actual: 0, Random Forest Predicted: 0\n",
            "\n",
            "Actual: 0, Random Forest Predicted: 0\n",
            "\n",
            "Actual: 0, Random Forest Predicted: 0\n",
            "\n",
            "Actual: 0, Random Forest Predicted: 1\n",
            "\n",
            "Actual: 0, Random Forest Predicted: 0\n",
            "\n",
            "Actual: 1, Random Forest Predicted: 1\n",
            "\n",
            "Actual: 0, Random Forest Predicted: 1\n",
            "\n"
          ]
        }
      ],
      "source": [
        "print('0 = negative, 1 = positive')\n",
        "for actual, predicted in zip(ytest[:15], y_pred_rfc[:15]):\n",
        "    print(f\"Actual: {actual}, Random Forest Predicted: {predicted}\")\n",
        "    print()"
      ]
    },
    {
      "cell_type": "code",
      "execution_count": 44,
      "id": "ab187b17-3db3-4b9b-b7ab-c4d143197b7a",
      "metadata": {
        "id": "ab187b17-3db3-4b9b-b7ab-c4d143197b7a",
        "outputId": "eac401a2-488f-4f6d-d2d2-93999c586686"
      },
      "outputs": [
        {
          "name": "stdout",
          "output_type": "stream",
          "text": [
            "Random Forest Accuracy: 0.65\n",
            "Random Forest Precision: 0.62\n",
            "Random Forest Recall: 0.80\n",
            "Random Forest F1 score: 0.70\n",
            "Classification Report:\n",
            "              precision    recall  f1-score   support\n",
            "\n",
            "           0       0.72      0.50      0.59      5013\n",
            "           1       0.62      0.80      0.70      4987\n",
            "\n",
            "    accuracy                           0.65     10000\n",
            "   macro avg       0.67      0.65      0.64     10000\n",
            "weighted avg       0.67      0.65      0.64     10000\n",
            "\n",
            "Confusion Matrix:\n",
            "[[2517 2496]\n",
            " [ 991 3996]]\n"
          ]
        }
      ],
      "source": [
        "print(f\"Random Forest Accuracy: {accuracy_rfc:.2f}\")\n",
        "print(f\"Random Forest Precision: {precision_rfc:.2f}\")\n",
        "print(f\"Random Forest Recall: {recall_rfc:.2f}\")\n",
        "print(f\"Random Forest F1 score: {f1_rfc:.2f}\")\n",
        "print(\"Classification Report:\")\n",
        "print(report_rfc)\n",
        "print(\"Confusion Matrix:\")\n",
        "print(cm_rfc)"
      ]
    },
    {
      "cell_type": "markdown",
      "id": "9a592bf1-0eb7-48e6-8601-0898db9ae9ce",
      "metadata": {
        "id": "9a592bf1-0eb7-48e6-8601-0898db9ae9ce"
      },
      "source": [
        "#### Display all five models accuracy"
      ]
    },
    {
      "cell_type": "code",
      "execution_count": 45,
      "id": "ff1e68fb-4836-4aa3-afd4-25ab644c5236",
      "metadata": {
        "id": "ff1e68fb-4836-4aa3-afd4-25ab644c5236"
      },
      "outputs": [],
      "source": [
        "model_names = ['LinearSVM', 'LogisticRegression', 'NaiveBayes', 'XGBoost', 'RandomForest']\n",
        "model_accuracies = [accuracy_svm, accuracy_lr, accuracy_nb, accuracy_xgboost, accuracy_rfc]"
      ]
    },
    {
      "cell_type": "code",
      "execution_count": 46,
      "id": "3dde51c8-e9d8-4776-a187-99d19f7ae441",
      "metadata": {
        "id": "3dde51c8-e9d8-4776-a187-99d19f7ae441",
        "outputId": "9e90b15d-5896-46c0-8953-fe9debae7fdf"
      },
      "outputs": [
        {
          "data": {
            "image/png": "[encoded data removed]",
            "text/plain": [
              "<Figure size 1000x600 with 1 Axes>"
            ]
          },
          "metadata": {},
          "output_type": "display_data"
        }
      ],
      "source": [
        "plt.figure(figsize=(10, 6))\n",
        "plt.bar(model_names, model_accuracies, color=['blue', 'green', 'orange', 'red', 'purple'])\n",
        "plt.xlabel(\"Models\")\n",
        "plt.ylabel(\"Accuracy\")\n",
        "plt.title(\"Model Accuracy Comparison with TFIDF\")\n",
        "plt.ylim(0.0, 1.0)  # Set the y-axis limits\n",
        "plt.grid(axis='y', linestyle='--', alpha=0.7)\n",
        "plt.show()\n"
      ]
    },
    {
      "cell_type": "code",
      "execution_count": null,
      "id": "824f4682-946e-4f55-8890-9e321a54ea90",
      "metadata": {
        "id": "824f4682-946e-4f55-8890-9e321a54ea90"
      },
      "outputs": [],
      "source": []
    },
    {
      "cell_type": "markdown",
      "id": "088056e2-1950-4bf4-94bf-9e8e9a59405b",
      "metadata": {
        "id": "088056e2-1950-4bf4-94bf-9e8e9a59405b"
      },
      "source": [
        "## 2. Universal Sentence Encoder (USE)\n",
        "#### 1. Linear SVM\n",
        "#### 2. Logistic Regression\n",
        "#### 3. XGBoost classifier\n",
        "#### 4. Random Forest classifier"
      ]
    },
    {
      "cell_type": "markdown",
      "id": "59fd68e1-f425-462d-a2c9-da43542aad71",
      "metadata": {
        "id": "59fd68e1-f425-462d-a2c9-da43542aad71"
      },
      "source": [
        "#### Load the Universal Sentence Encoder model, and embed this model"
      ]
    },
    {
      "cell_type": "code",
      "execution_count": 47,
      "id": "3f673c84-af0c-4aef-9f70-419072e3926f",
      "metadata": {
        "id": "3f673c84-af0c-4aef-9f70-419072e3926f",
        "outputId": "30f99101-968b-44af-d72c-58c710dd927c"
      },
      "outputs": [
        {
          "name": "stdout",
          "output_type": "stream",
          "text": [
            "WARNING:tensorflow:From c:\\Users\\VICTUS\\AppData\\Local\\Programs\\Python\\Python312\\Lib\\site-packages\\tensorflow_hub\\resolver.py:120: The name tf.gfile.MakeDirs is deprecated. Please use tf.io.gfile.makedirs instead.\n",
            "\n"
          ]
        },
        {
          "name": "stderr",
          "output_type": "stream",
          "text": [
            "WARNING:tensorflow:From c:\\Users\\VICTUS\\AppData\\Local\\Programs\\Python\\Python312\\Lib\\site-packages\\tensorflow_hub\\resolver.py:120: The name tf.gfile.MakeDirs is deprecated. Please use tf.io.gfile.makedirs instead.\n",
            "\n"
          ]
        },
        {
          "name": "stdout",
          "output_type": "stream",
          "text": [
            "WARNING:tensorflow:From c:\\Users\\VICTUS\\AppData\\Local\\Programs\\Python\\Python312\\Lib\\site-packages\\tensorflow_hub\\module_v2.py:126: The name tf.saved_model.load_v2 is deprecated. Please use tf.compat.v2.saved_model.load instead.\n",
            "\n"
          ]
        },
        {
          "name": "stderr",
          "output_type": "stream",
          "text": [
            "WARNING:tensorflow:From c:\\Users\\VICTUS\\AppData\\Local\\Programs\\Python\\Python312\\Lib\\site-packages\\tensorflow_hub\\module_v2.py:126: The name tf.saved_model.load_v2 is deprecated. Please use tf.compat.v2.saved_model.load instead.\n",
            "\n"
          ]
        },
        {
          "name": "stdout",
          "output_type": "stream",
          "text": [
            "Required time for upload USE from tensorflow hub:-  516.0854055999662\n"
          ]
        }
      ],
      "source": [
        "start = timer()\n",
        "embed = hub.load(\"https://tfhub.dev/google/universal-sentence-encoder/4\")\n",
        "print('Required time for upload USE from tensorflow hub:- ', timer() - start)"
      ]
    },
    {
      "cell_type": "code",
      "execution_count": 48,
      "id": "f1eb3f78-13d2-418d-8d20-b9f00e3e81a5",
      "metadata": {
        "id": "f1eb3f78-13d2-418d-8d20-b9f00e3e81a5"
      },
      "outputs": [],
      "source": [
        "xtrain_use = []\n",
        "xtest_use = []"
      ]
    },
    {
      "cell_type": "code",
      "execution_count": 49,
      "id": "5842e6c3-ef9c-42a4-877d-d61d9b1fe26c",
      "metadata": {
        "id": "5842e6c3-ef9c-42a4-877d-d61d9b1fe26c",
        "outputId": "eec6e86d-f19c-47a3-8ed7-40bfc3600755"
      },
      "outputs": [
        {
          "name": "stdout",
          "output_type": "stream",
          "text": [
            "Required time for embedding xtrain with USE:-  57.980615700013004\n"
          ]
        }
      ],
      "source": [
        "start = timer()\n",
        "for i in range(0, len(xtrain), batch_size):\n",
        "    batch_X_train = xtrain[i:i + batch_size]\n",
        "    batch_X_train_use = np.array(embed(batch_X_train))\n",
        "    xtrain_use.extend(batch_X_train_use)\n",
        "print('Required time for embedding xtrain with USE:- ', timer() - start)"
      ]
    },
    {
      "cell_type": "code",
      "execution_count": 50,
      "id": "431ee9ce-03d6-428a-8db8-b0f19ed9f032",
      "metadata": {
        "id": "431ee9ce-03d6-428a-8db8-b0f19ed9f032",
        "outputId": "5dbba90b-185b-4b21-d79b-2d825fa398b9"
      },
      "outputs": [
        {
          "name": "stdout",
          "output_type": "stream",
          "text": [
            "Required time for embedding xtest with USE:-  11.489980600017589\n"
          ]
        }
      ],
      "source": [
        "start = timer()\n",
        "for i in range(0, len(xtest), batch_size):\n",
        "    batch_X_test = xtest[i:i + batch_size]\n",
        "    batch_X_test_use = np.array(embed(batch_X_test))\n",
        "    xtest_use.extend(batch_X_test_use)\n",
        "print('Required time for embedding xtest with USE:- ', timer() - start)"
      ]
    },
    {
      "cell_type": "markdown",
      "id": "3d079e02-63bf-400b-acc1-a66c070f6404",
      "metadata": {
        "id": "3d079e02-63bf-400b-acc1-a66c070f6404"
      },
      "source": [
        "#### Fit classifiers"
      ]
    },
    {
      "cell_type": "code",
      "execution_count": 51,
      "id": "7eb3f533-c4c3-4709-88ed-78da68d3a0d2",
      "metadata": {
        "id": "7eb3f533-c4c3-4709-88ed-78da68d3a0d2",
        "outputId": "767b4b1c-ae60-44b3-d4d7-edaf530055cc"
      },
      "outputs": [
        {
          "name": "stdout",
          "output_type": "stream",
          "text": [
            "Required time for training Linear SVM classifier:-  10.88976280001225\n",
            "Required time for training Logistic Regression:-  0.8081052000052296\n",
            "Required time for training XGBoost classifier:-  11.576289499993436\n",
            "Required time for training all Random Forest classifier:-  4.53413859999273\n"
          ]
        }
      ],
      "source": [
        "start = timer()\n",
        "svm_use = svm_classifier.fit(xtrain_use, ytrain)\n",
        "print('Required time for training Linear SVM classifier:- ', timer() - start)\n",
        "start = timer()\n",
        "lr_use = logistic_regression.fit(xtrain_use, ytrain)\n",
        "print('Required time for training Logistic Regression:- ', timer() - start)\n",
        "start = timer()\n",
        "xgboost_use = xgboost_classifier.fit(xtrain_use, ytrain)\n",
        "print('Required time for training XGBoost classifier:- ', timer() - start)\n",
        "start = timer()\n",
        "rfc_use = random_forest_classifier.fit(xtrain_use, ytrain)\n",
        "print('Required time for training all Random Forest classifier:- ', timer() - start)"
      ]
    },
    {
      "cell_type": "markdown",
      "id": "c92dfbf4-08ba-4236-8d6d-af68465b50fe",
      "metadata": {
        "id": "c92dfbf4-08ba-4236-8d6d-af68465b50fe"
      },
      "source": [
        "#### Make predictions"
      ]
    },
    {
      "cell_type": "markdown",
      "id": "09da979e-43f9-4438-a0cb-ab0fb66f0fdd",
      "metadata": {
        "id": "09da979e-43f9-4438-a0cb-ab0fb66f0fdd"
      },
      "source": [
        "### Linear SVM"
      ]
    },
    {
      "cell_type": "code",
      "execution_count": 52,
      "id": "8dbece2d-a9d0-456c-a231-eac4a7d265f6",
      "metadata": {
        "id": "8dbece2d-a9d0-456c-a231-eac4a7d265f6",
        "outputId": "120460b1-a35e-437f-c414-15a48e4fd26d"
      },
      "outputs": [
        {
          "name": "stdout",
          "output_type": "stream",
          "text": [
            "Required time for Linear SVM prediction with USE :-  0.07976619998225942\n"
          ]
        }
      ],
      "source": [
        "start = timer()\n",
        "y_pred_svm_use, accuracy_svm_use, precision_svm_use, recall_svm_use, f1_svm_use, report_svm_use, cm_svm_use = evaluate_model(svm_use, xtest_use, ytest)\n",
        "print('Required time for Linear SVM prediction with USE :- ', timer() - start)"
      ]
    },
    {
      "cell_type": "markdown",
      "id": "5a9c6b6c-069f-4fdd-a579-9f63906191b5",
      "metadata": {
        "id": "5a9c6b6c-069f-4fdd-a579-9f63906191b5"
      },
      "source": [
        "#### Print actual vs. predicted results for LinearSVM with USE"
      ]
    },
    {
      "cell_type": "code",
      "execution_count": 53,
      "id": "9fb07728-d982-4964-90bc-bf41f0bde12c",
      "metadata": {
        "id": "9fb07728-d982-4964-90bc-bf41f0bde12c",
        "outputId": "6abab4ef-1a30-46a8-90d3-b4e5a7d00f3d"
      },
      "outputs": [
        {
          "name": "stdout",
          "output_type": "stream",
          "text": [
            "0 = negative, 1 = positive\n",
            "Actual: 0, SVM with USE embedding Predicted: 0\n",
            "\n",
            "Actual: 1, SVM with USE embedding Predicted: 1\n",
            "\n",
            "Actual: 1, SVM with USE embedding Predicted: 1\n",
            "\n",
            "Actual: 1, SVM with USE embedding Predicted: 1\n",
            "\n",
            "Actual: 0, SVM with USE embedding Predicted: 0\n",
            "\n",
            "Actual: 1, SVM with USE embedding Predicted: 0\n",
            "\n",
            "Actual: 1, SVM with USE embedding Predicted: 1\n",
            "\n",
            "Actual: 1, SVM with USE embedding Predicted: 1\n",
            "\n",
            "Actual: 0, SVM with USE embedding Predicted: 0\n",
            "\n",
            "Actual: 0, SVM with USE embedding Predicted: 0\n",
            "\n",
            "Actual: 0, SVM with USE embedding Predicted: 0\n",
            "\n",
            "Actual: 0, SVM with USE embedding Predicted: 1\n",
            "\n",
            "Actual: 0, SVM with USE embedding Predicted: 0\n",
            "\n",
            "Actual: 1, SVM with USE embedding Predicted: 1\n",
            "\n",
            "Actual: 0, SVM with USE embedding Predicted: 0\n",
            "\n"
          ]
        }
      ],
      "source": [
        "print('0 = negative, 1 = positive')\n",
        "for actual, predicted in zip(ytest[:15], y_pred_svm_use[:15]):\n",
        "    print(f\"Actual: {actual}, SVM with USE embedding Predicted: {predicted}\")\n",
        "    print()"
      ]
    },
    {
      "cell_type": "code",
      "execution_count": 54,
      "id": "10d6b544-a9e5-4262-ad6f-a6909d1776d7",
      "metadata": {
        "id": "10d6b544-a9e5-4262-ad6f-a6909d1776d7",
        "outputId": "0eed4671-935d-412b-8870-41c59e92b262"
      },
      "outputs": [
        {
          "name": "stdout",
          "output_type": "stream",
          "text": [
            "LinearSVM (USE) Accuracy: 0.86\n",
            "LinearSVM (USE) Precision: 0.86\n",
            "LinearSVM (USE) Recall: 0.86\n",
            "LinearSVM (USE) F1 score: 0.86\n",
            "Classification Report:\n",
            "              precision    recall  f1-score   support\n",
            "\n",
            "           0       0.86      0.87      0.86      5013\n",
            "           1       0.86      0.86      0.86      4987\n",
            "\n",
            "    accuracy                           0.86     10000\n",
            "   macro avg       0.86      0.86      0.86     10000\n",
            "weighted avg       0.86      0.86      0.86     10000\n",
            "\n",
            "Confusion Matrix\n",
            "[[4338  675]\n",
            " [ 723 4264]]\n"
          ]
        }
      ],
      "source": [
        "print(f\"LinearSVM (USE) Accuracy: {accuracy_svm_use:.2f}\")\n",
        "print(f\"LinearSVM (USE) Precision: {precision_svm_use:.2f}\")\n",
        "print(f\"LinearSVM (USE) Recall: {recall_svm_use:.2f}\")\n",
        "print(f\"LinearSVM (USE) F1 score: {f1_svm_use:.2f}\")\n",
        "print(\"Classification Report:\")\n",
        "print(report_svm_use)\n",
        "print(\"Confusion Matrix\")\n",
        "print(cm_svm_use)"
      ]
    },
    {
      "cell_type": "markdown",
      "id": "b3cd44cc-ce2b-41fb-a883-5dcc3a50d6f2",
      "metadata": {
        "id": "b3cd44cc-ce2b-41fb-a883-5dcc3a50d6f2"
      },
      "source": [
        "### Logitic Regression"
      ]
    },
    {
      "cell_type": "code",
      "execution_count": 55,
      "id": "7697ced6-a18a-4187-987f-01f5b23f4d7a",
      "metadata": {
        "id": "7697ced6-a18a-4187-987f-01f5b23f4d7a",
        "outputId": "50bd1058-eed5-4e0b-cb86-f440e517e998"
      },
      "outputs": [
        {
          "name": "stdout",
          "output_type": "stream",
          "text": [
            "Required time for LR prediction with USE :-  0.045669399958569556\n"
          ]
        }
      ],
      "source": [
        "start = timer()\n",
        "y_pred_lr_use, accuracy_lr_use, precision_lr_use, recall_lr_use, f1_lr_use, report_lr_use, cm_lr_use = evaluate_model(lr_use, xtest_use, ytest)\n",
        "print('Required time for LR prediction with USE :- ', timer() - start)"
      ]
    },
    {
      "cell_type": "markdown",
      "id": "76c9e2af-4d09-4716-9f63-b4882dcd4b78",
      "metadata": {
        "id": "76c9e2af-4d09-4716-9f63-b4882dcd4b78"
      },
      "source": [
        "#### Print actual vs. predicted results for Logistic Regression with USE"
      ]
    },
    {
      "cell_type": "code",
      "execution_count": 56,
      "id": "3be83df8-b3a7-49c9-8774-7ecab4156fdb",
      "metadata": {
        "id": "3be83df8-b3a7-49c9-8774-7ecab4156fdb",
        "outputId": "f93d4f78-bf9b-41dd-9d6c-158063cc97c1"
      },
      "outputs": [
        {
          "name": "stdout",
          "output_type": "stream",
          "text": [
            "0 = negative, 1 = positive\n",
            "Actual: 0, Logistic Regression Predicted with USE: 0\n",
            "\n",
            "Actual: 1, Logistic Regression Predicted with USE: 1\n",
            "\n",
            "Actual: 1, Logistic Regression Predicted with USE: 1\n",
            "\n",
            "Actual: 1, Logistic Regression Predicted with USE: 1\n",
            "\n",
            "Actual: 0, Logistic Regression Predicted with USE: 0\n",
            "\n",
            "Actual: 1, Logistic Regression Predicted with USE: 0\n",
            "\n",
            "Actual: 1, Logistic Regression Predicted with USE: 1\n",
            "\n",
            "Actual: 1, Logistic Regression Predicted with USE: 1\n",
            "\n",
            "Actual: 0, Logistic Regression Predicted with USE: 0\n",
            "\n",
            "Actual: 0, Logistic Regression Predicted with USE: 0\n",
            "\n",
            "Actual: 0, Logistic Regression Predicted with USE: 0\n",
            "\n",
            "Actual: 0, Logistic Regression Predicted with USE: 1\n",
            "\n",
            "Actual: 0, Logistic Regression Predicted with USE: 0\n",
            "\n",
            "Actual: 1, Logistic Regression Predicted with USE: 1\n",
            "\n",
            "Actual: 0, Logistic Regression Predicted with USE: 0\n",
            "\n"
          ]
        }
      ],
      "source": [
        "print('0 = negative, 1 = positive')\n",
        "for actual, predicted in zip(ytest[:15], y_pred_lr_use[:15]):\n",
        "    print(f\"Actual: {actual}, Logistic Regression Predicted with USE: {predicted}\")\n",
        "    print()"
      ]
    },
    {
      "cell_type": "code",
      "execution_count": 57,
      "id": "13cb5d68-dda4-4175-a76c-c284cca42275",
      "metadata": {
        "id": "13cb5d68-dda4-4175-a76c-c284cca42275",
        "outputId": "b2e4531f-97f6-4c41-d497-d86bcb9de27e"
      },
      "outputs": [
        {
          "name": "stdout",
          "output_type": "stream",
          "text": [
            "Logistic Regression (USE) Accuracy: 0.86\n",
            "Logistic Regression (USE) Precision: 0.86\n",
            "Logistic Regression (USE) Recall: 0.85\n",
            "Logistic Regression (USE) F1 score: 0.86\n",
            "Classification Report:\n",
            "              precision    recall  f1-score   support\n",
            "\n",
            "           0       0.86      0.86      0.86      5013\n",
            "           1       0.86      0.85      0.86      4987\n",
            "\n",
            "    accuracy                           0.86     10000\n",
            "   macro avg       0.86      0.86      0.86     10000\n",
            "weighted avg       0.86      0.86      0.86     10000\n",
            "\n",
            "Confusion Matrix\n",
            "[[4334  679]\n",
            " [ 733 4254]]\n"
          ]
        }
      ],
      "source": [
        "print(f\"Logistic Regression (USE) Accuracy: {accuracy_lr_use:.2f}\")\n",
        "print(f\"Logistic Regression (USE) Precision: {precision_lr_use:.2f}\")\n",
        "print(f\"Logistic Regression (USE) Recall: {recall_lr_use:.2f}\")\n",
        "print(f\"Logistic Regression (USE) F1 score: {f1_lr_use:.2f}\")\n",
        "print(\"Classification Report:\")\n",
        "print(report_lr_use)\n",
        "print(\"Confusion Matrix\")\n",
        "print(cm_lr_use)"
      ]
    },
    {
      "cell_type": "markdown",
      "id": "7c67a1ff-2f71-4d6a-84a3-4f47a5598ed4",
      "metadata": {
        "id": "7c67a1ff-2f71-4d6a-84a3-4f47a5598ed4"
      },
      "source": [
        "### XGBoost Classifier"
      ]
    },
    {
      "cell_type": "code",
      "execution_count": 58,
      "id": "f924c51e-7524-4a0c-ac5c-224cddbef6f8",
      "metadata": {
        "id": "f924c51e-7524-4a0c-ac5c-224cddbef6f8",
        "outputId": "223adf5a-2382-4fc0-f32b-f3d8e705b627"
      },
      "outputs": [
        {
          "name": "stdout",
          "output_type": "stream",
          "text": [
            "Required time for XGBoost classifier prediction with USE:-  0.06394250004086643\n"
          ]
        }
      ],
      "source": [
        "start = timer()\n",
        "y_pred_xgboost_use, accuracy_xgboost_use, precision_xgboost_use, recall_xgboost_use, f1_xgboost_use, report_xgboost_use, cm_xgboost_use = evaluate_model(xgboost_use, xtest_use, ytest)\n",
        "print('Required time for XGBoost classifier prediction with USE:- ', timer() - start)"
      ]
    },
    {
      "cell_type": "markdown",
      "id": "7014ca0b-a60b-4362-894a-42f3bd457b49",
      "metadata": {
        "id": "7014ca0b-a60b-4362-894a-42f3bd457b49"
      },
      "source": [
        "#### Print actual vs. predicted results for XGBooost classifier with USE"
      ]
    },
    {
      "cell_type": "code",
      "execution_count": 59,
      "id": "c4b81fed-c0a4-4326-b6b2-7638c3b26887",
      "metadata": {
        "id": "c4b81fed-c0a4-4326-b6b2-7638c3b26887",
        "outputId": "b9035c6e-46cf-4c92-e6fa-41bc2d165382"
      },
      "outputs": [
        {
          "name": "stdout",
          "output_type": "stream",
          "text": [
            "0 = negative, 1 = positive\n",
            "Actual: 0, XGBoost with USE Predicted: 0\n",
            "\n",
            "Actual: 1, XGBoost with USE Predicted: 1\n",
            "\n",
            "Actual: 1, XGBoost with USE Predicted: 1\n",
            "\n",
            "Actual: 1, XGBoost with USE Predicted: 1\n",
            "\n",
            "Actual: 0, XGBoost with USE Predicted: 0\n",
            "\n",
            "Actual: 1, XGBoost with USE Predicted: 0\n",
            "\n",
            "Actual: 1, XGBoost with USE Predicted: 0\n",
            "\n",
            "Actual: 1, XGBoost with USE Predicted: 1\n",
            "\n",
            "Actual: 0, XGBoost with USE Predicted: 0\n",
            "\n",
            "Actual: 0, XGBoost with USE Predicted: 0\n",
            "\n",
            "Actual: 0, XGBoost with USE Predicted: 0\n",
            "\n",
            "Actual: 0, XGBoost with USE Predicted: 1\n",
            "\n",
            "Actual: 0, XGBoost with USE Predicted: 0\n",
            "\n",
            "Actual: 1, XGBoost with USE Predicted: 1\n",
            "\n",
            "Actual: 0, XGBoost with USE Predicted: 0\n",
            "\n"
          ]
        }
      ],
      "source": [
        "print('0 = negative, 1 = positive')\n",
        "for actual, predicted in zip(ytest[:15], y_pred_xgboost_use[:15]):\n",
        "    print(f\"Actual: {actual}, XGBoost with USE Predicted: {predicted}\")\n",
        "    print()"
      ]
    },
    {
      "cell_type": "code",
      "execution_count": 60,
      "id": "3d11bbe0-28fa-482e-9872-c9523dcc874e",
      "metadata": {
        "id": "3d11bbe0-28fa-482e-9872-c9523dcc874e",
        "outputId": "19e225ae-dfad-4700-839c-567cf75fd827"
      },
      "outputs": [
        {
          "name": "stdout",
          "output_type": "stream",
          "text": [
            "XGBoost (USE) Accuracy: 0.85\n",
            "XGBoost (USE) Precision: 0.85\n",
            "XGBoost (USE) Recall: 0.85\n",
            "XGBoost (USE) F1 score: 0.85\n",
            "Classification Report:\n",
            "              precision    recall  f1-score   support\n",
            "\n",
            "           0       0.85      0.85      0.85      5013\n",
            "           1       0.85      0.85      0.85      4987\n",
            "\n",
            "    accuracy                           0.85     10000\n",
            "   macro avg       0.85      0.85      0.85     10000\n",
            "weighted avg       0.85      0.85      0.85     10000\n",
            "\n",
            "Confusion Matrix:\n",
            "[[4262  751]\n",
            " [ 753 4234]]\n"
          ]
        }
      ],
      "source": [
        "print(f\"XGBoost (USE) Accuracy: {accuracy_xgboost_use:.2f}\")\n",
        "print(f\"XGBoost (USE) Precision: {precision_xgboost_use:.2f}\")\n",
        "print(f\"XGBoost (USE) Recall: {recall_xgboost_use:.2f}\")\n",
        "print(f\"XGBoost (USE) F1 score: {f1_xgboost_use:.2f}\")\n",
        "print(\"Classification Report:\")\n",
        "print(report_xgboost_use)\n",
        "print(\"Confusion Matrix:\")\n",
        "print(cm_xgboost_use)"
      ]
    },
    {
      "cell_type": "markdown",
      "id": "f75e7d65-8506-4c59-a21d-3005666d1b2d",
      "metadata": {
        "id": "f75e7d65-8506-4c59-a21d-3005666d1b2d"
      },
      "source": [
        "### Random Forest Classifier"
      ]
    },
    {
      "cell_type": "code",
      "execution_count": 61,
      "id": "5fd0ff15-78bc-428c-83e0-4c4efdb8f9ed",
      "metadata": {
        "id": "5fd0ff15-78bc-428c-83e0-4c4efdb8f9ed",
        "outputId": "aecbfeee-3aaa-496d-9aae-f92995fbb078"
      },
      "outputs": [
        {
          "name": "stdout",
          "output_type": "stream",
          "text": [
            "Required time for Random Forest classifier with USE prediction:-  0.08156039996538311\n"
          ]
        }
      ],
      "source": [
        "start = timer()\n",
        "y_pred_rfc_use, accuracy_rfc_use, precision_rfc_use, recall_rfc_use, f1_rfc_use, report_rfc_use, cm_rfc_use = evaluate_model(rfc_use, xtest_use, ytest)\n",
        "print('Required time for Random Forest classifier with USE prediction:- ', timer() - start)"
      ]
    },
    {
      "cell_type": "markdown",
      "id": "bd3c72de-ac43-41ec-bf45-137179473e4c",
      "metadata": {
        "id": "bd3c72de-ac43-41ec-bf45-137179473e4c"
      },
      "source": [
        "#### Print actual vs. predicted results for Random Forest classifier with USE"
      ]
    },
    {
      "cell_type": "code",
      "execution_count": null,
      "id": "f4cca2e7-8c13-4552-86ca-31e12bcaaba5",
      "metadata": {
        "id": "f4cca2e7-8c13-4552-86ca-31e12bcaaba5",
        "outputId": "59608b18-ce07-4ca3-82f8-310243a64ead"
      },
      "outputs": [
        {
          "name": "stdout",
          "output_type": "stream",
          "text": [
            "0 = negative, 1 = positive\n",
            "Actual: 0, Random Forest with USE Predicted: 0\n",
            "\n",
            "Actual: 1, Random Forest with USE Predicted: 1\n",
            "\n",
            "Actual: 0, Random Forest with USE Predicted: 1\n",
            "\n",
            "Actual: 0, Random Forest with USE Predicted: 0\n",
            "\n",
            "Actual: 1, Random Forest with USE Predicted: 1\n",
            "\n",
            "Actual: 1, Random Forest with USE Predicted: 1\n",
            "\n",
            "Actual: 1, Random Forest with USE Predicted: 0\n",
            "\n",
            "Actual: 0, Random Forest with USE Predicted: 0\n",
            "\n",
            "Actual: 1, Random Forest with USE Predicted: 1\n",
            "\n",
            "Actual: 1, Random Forest with USE Predicted: 0\n",
            "\n",
            "Actual: 1, Random Forest with USE Predicted: 0\n",
            "\n",
            "Actual: 0, Random Forest with USE Predicted: 0\n",
            "\n",
            "Actual: 1, Random Forest with USE Predicted: 1\n",
            "\n",
            "Actual: 0, Random Forest with USE Predicted: 0\n",
            "\n",
            "Actual: 0, Random Forest with USE Predicted: 0\n",
            "\n"
          ]
        }
      ],
      "source": [
        "print('0 = negative, 1 = positive')\n",
        "for actual, predicted in zip(ytest[:15], y_pred_rfc_use[:15]):\n",
        "    print(f\"Actual: {actual}, Random Forest with USE Predicted: {predicted}\")\n",
        "    print()"
      ]
    },
    {
      "cell_type": "code",
      "execution_count": 62,
      "id": "a0a3eb5b-660b-461e-831d-371abdacac9f",
      "metadata": {
        "id": "a0a3eb5b-660b-461e-831d-371abdacac9f",
        "outputId": "1724be8b-9ddd-4b8a-e14b-08fe1b170905"
      },
      "outputs": [
        {
          "name": "stdout",
          "output_type": "stream",
          "text": [
            "Random Forest (USE) Accuracy: 0.80\n",
            "Random Forest (USE) Precision: 0.80\n",
            "Random Forest (USE) Recall: 0.80\n",
            "Random Forest (USE) F1 score: 0.80\n",
            "Classification Report:\n",
            "              precision    recall  f1-score   support\n",
            "\n",
            "           0       0.80      0.80      0.80      5013\n",
            "           1       0.80      0.80      0.80      4987\n",
            "\n",
            "    accuracy                           0.80     10000\n",
            "   macro avg       0.80      0.80      0.80     10000\n",
            "weighted avg       0.80      0.80      0.80     10000\n",
            "\n",
            "Confusion Matrix:\n",
            "[[4033  980]\n",
            " [1003 3984]]\n"
          ]
        }
      ],
      "source": [
        "print(f\"Random Forest (USE) Accuracy: {accuracy_rfc_use:.2f}\")\n",
        "print(f\"Random Forest (USE) Precision: {precision_rfc_use:.2f}\")\n",
        "print(f\"Random Forest (USE) Recall: {recall_rfc_use:.2f}\")\n",
        "print(f\"Random Forest (USE) F1 score: {f1_rfc_use:.2f}\")\n",
        "print(\"Classification Report:\")\n",
        "print(report_rfc_use)\n",
        "print(\"Confusion Matrix:\")\n",
        "print(cm_rfc_use)"
      ]
    },
    {
      "cell_type": "markdown",
      "id": "08674157-e878-426f-9376-6a47158b4db2",
      "metadata": {
        "id": "08674157-e878-426f-9376-6a47158b4db2"
      },
      "source": [
        "#### Display all four models accuracy\n",
        "##### (--Note: Naive bayes (MultinomialNB) model not used with USE embedding because it not able to resolve the issue of negative values)"
      ]
    },
    {
      "cell_type": "code",
      "execution_count": 63,
      "id": "5a7d2cbc-8a7f-4126-b782-34baa998410d",
      "metadata": {
        "id": "5a7d2cbc-8a7f-4126-b782-34baa998410d"
      },
      "outputs": [],
      "source": [
        "model_names = ['LinearSVM', 'LogisticRegression', 'XGBoost', 'RandomForest']\n",
        "model_accuracies = [accuracy_svm_use, accuracy_lr_use, accuracy_xgboost_use, accuracy_rfc_use]"
      ]
    },
    {
      "cell_type": "code",
      "execution_count": 64,
      "id": "f656cc76-8d6f-46c5-bdc7-75db37e32ff6",
      "metadata": {
        "id": "f656cc76-8d6f-46c5-bdc7-75db37e32ff6",
        "outputId": "2dd85693-7621-4864-f905-deb04bdbeece"
      },
      "outputs": [
        {
          "data": {
            "image/png": "[encoded data removed]",
            "text/plain": [
              "<Figure size 1000x600 with 1 Axes>"
            ]
          },
          "metadata": {},
          "output_type": "display_data"
        }
      ],
      "source": [
        "plt.figure(figsize=(10, 6))\n",
        "plt.bar(model_names, model_accuracies, color=['blue', 'orange', 'red', 'purple'])\n",
        "plt.xlabel(\"Models\")\n",
        "plt.ylabel(\"Accuracy\")\n",
        "plt.title(\"Model Accuracy Comparison with USE\")\n",
        "plt.ylim(0.0, 1.0)  # Set the y-axis limits\n",
        "plt.grid(axis='y', linestyle='--', alpha=0.7)\n",
        "plt.show()\n"
      ]
    },
    {
      "cell_type": "code",
      "execution_count": null,
      "id": "f27c247f-8160-4f8d-bb3f-698f2e134f25",
      "metadata": {
        "id": "f27c247f-8160-4f8d-bb3f-698f2e134f25"
      },
      "outputs": [],
      "source": []
    },
    {
      "cell_type": "markdown",
      "id": "da1716d1-26fc-4bd8-be95-c8cab7b483bc",
      "metadata": {
        "id": "da1716d1-26fc-4bd8-be95-c8cab7b483bc"
      },
      "source": [
        "## 3. TF-IDF + Universal Sentence Encoder (USE)\n",
        "#### 1. Linear SVM\n",
        "#### 2. Logistic Regression\n",
        "#### 3. XGBoost classifier\n",
        "#### 4. Random Forest classifier"
      ]
    },
    {
      "cell_type": "markdown",
      "id": "22b0a099-a6d7-403d-87f3-a642d746251d",
      "metadata": {
        "id": "22b0a099-a6d7-403d-87f3-a642d746251d"
      },
      "source": [
        "#### Combine TF-IDF and Universal Sentence Encoder embeddings\n"
      ]
    },
    {
      "cell_type": "code",
      "execution_count": 65,
      "id": "65acc049-2ea5-455e-9753-845c774938f1",
      "metadata": {
        "id": "65acc049-2ea5-455e-9753-845c774938f1"
      },
      "outputs": [],
      "source": [
        "xtrain_tfidf_use_combined = tf.concat([tfidf_vectorizer_xtrain, xtrain_use], axis=1)\n",
        "xtest_tfidf_use_combined = tf.concat([tfidf_vectorizer_xtest, xtest_use], axis=1)"
      ]
    },
    {
      "cell_type": "markdown",
      "id": "d722ffc4-9aa0-467b-8bff-7a31125fd782",
      "metadata": {
        "id": "d722ffc4-9aa0-467b-8bff-7a31125fd782"
      },
      "source": [
        "#### Fit classifiers"
      ]
    },
    {
      "cell_type": "code",
      "execution_count": 66,
      "id": "96486ca5-c5fc-456f-8ef2-7f96eed0b435",
      "metadata": {
        "id": "96486ca5-c5fc-456f-8ef2-7f96eed0b435",
        "outputId": "d8fbe92c-3d57-4c8c-baf5-2727e4fedf91"
      },
      "outputs": [
        {
          "name": "stdout",
          "output_type": "stream",
          "text": [
            "Required time for training Linear SVM:-  11.652045900002122\n",
            "Required time for training Logistic Regression:-  5.4591288000228815\n",
            "Required time for training XGBoost classifier:-  81.01239940000232\n",
            "Required time for training Random Forest classifier:-  6.132362800010014\n"
          ]
        }
      ],
      "source": [
        "start = timer()\n",
        "svm_tfidf_use = svm_classifier.fit(xtrain_tfidf_use_combined, ytrain)\n",
        "print('Required time for training Linear SVM:- ', timer() - start)\n",
        "start = timer()\n",
        "lr_tfidf_use = logistic_regression.fit(xtrain_tfidf_use_combined, ytrain)\n",
        "print('Required time for training Logistic Regression:- ', timer() - start)\n",
        "start = timer()\n",
        "xgboost_tfidf_use = xgboost_classifier.fit(xtrain_tfidf_use_combined, ytrain)\n",
        "print('Required time for training XGBoost classifier:- ', timer() - start)\n",
        "start = timer()\n",
        "rfc_tfidf_use = random_forest_classifier.fit(xtrain_tfidf_use_combined, ytrain)\n",
        "print('Required time for training Random Forest classifier:- ', timer() - start)"
      ]
    },
    {
      "cell_type": "markdown",
      "id": "03ad8659-041b-4f03-ac37-bda2a7a6bb75",
      "metadata": {
        "id": "03ad8659-041b-4f03-ac37-bda2a7a6bb75"
      },
      "source": [
        "#### Make predictions"
      ]
    },
    {
      "cell_type": "markdown",
      "id": "4691ce83-3a27-469f-9bf8-ca91e6cded61",
      "metadata": {
        "id": "4691ce83-3a27-469f-9bf8-ca91e6cded61"
      },
      "source": [
        "### Linear SVM"
      ]
    },
    {
      "cell_type": "code",
      "execution_count": 67,
      "id": "142f6937-5ca9-4dea-bdd5-4ede0b537783",
      "metadata": {
        "id": "142f6937-5ca9-4dea-bdd5-4ede0b537783",
        "outputId": "64b75e49-4957-460b-94df-401440966847"
      },
      "outputs": [
        {
          "name": "stdout",
          "output_type": "stream",
          "text": [
            "Required time for Linear SVM prediction with TFIDF+USE :-  0.1795358998933807\n"
          ]
        }
      ],
      "source": [
        "start = timer()\n",
        "y_pred_svm_tfidf_use, accuracy_svm_tfidf_use, precision_svm_tfidf_use, recall_svm_tfidf_use, f1_svm_tfidf_use, report_svm_tfidf_use, cm_svm_tfidf_use = evaluate_model(svm_tfidf_use, xtest_tfidf_use_combined, ytest)\n",
        "print('Required time for Linear SVM prediction with TFIDF+USE :- ', timer() - start)"
      ]
    },
    {
      "cell_type": "markdown",
      "id": "da1c1abb-d1eb-4f44-8e90-33160f357c1b",
      "metadata": {
        "id": "da1c1abb-d1eb-4f44-8e90-33160f357c1b"
      },
      "source": [
        "#### Print actual vs. predicted results for Linear SVM with TFIDF + USE"
      ]
    },
    {
      "cell_type": "code",
      "execution_count": 68,
      "id": "d77ff7f6-af5d-44de-b4a9-5c2020255b69",
      "metadata": {
        "id": "d77ff7f6-af5d-44de-b4a9-5c2020255b69",
        "outputId": "85deb01e-7edf-4100-c5b4-1f6c4c9d452f"
      },
      "outputs": [
        {
          "name": "stdout",
          "output_type": "stream",
          "text": [
            "0 = negative, 1 = positive\n",
            "Actual: 0, SVM with TFIDF+USE Predicted: 1\n",
            "\n",
            "Actual: 1, SVM with TFIDF+USE Predicted: 1\n",
            "\n",
            "Actual: 1, SVM with TFIDF+USE Predicted: 1\n",
            "\n",
            "Actual: 1, SVM with TFIDF+USE Predicted: 1\n",
            "\n",
            "Actual: 0, SVM with TFIDF+USE Predicted: 0\n",
            "\n",
            "Actual: 1, SVM with TFIDF+USE Predicted: 0\n",
            "\n",
            "Actual: 1, SVM with TFIDF+USE Predicted: 0\n",
            "\n",
            "Actual: 1, SVM with TFIDF+USE Predicted: 1\n",
            "\n",
            "Actual: 0, SVM with TFIDF+USE Predicted: 0\n",
            "\n",
            "Actual: 0, SVM with TFIDF+USE Predicted: 0\n",
            "\n",
            "Actual: 0, SVM with TFIDF+USE Predicted: 0\n",
            "\n",
            "Actual: 0, SVM with TFIDF+USE Predicted: 1\n",
            "\n",
            "Actual: 0, SVM with TFIDF+USE Predicted: 0\n",
            "\n",
            "Actual: 1, SVM with TFIDF+USE Predicted: 1\n",
            "\n",
            "Actual: 0, SVM with TFIDF+USE Predicted: 0\n",
            "\n"
          ]
        }
      ],
      "source": [
        "print('0 = negative, 1 = positive')\n",
        "for actual, predicted in zip(ytest[:15], y_pred_svm_tfidf_use[:15]):\n",
        "    print(f\"Actual: {actual}, SVM with TFIDF+USE Predicted: {predicted}\")\n",
        "    print()"
      ]
    },
    {
      "cell_type": "code",
      "execution_count": 69,
      "id": "515c87ab-fee7-4c71-af17-020e45c00ae0",
      "metadata": {
        "id": "515c87ab-fee7-4c71-af17-020e45c00ae0",
        "outputId": "c78d5e2b-d647-4834-c451-41381c086373"
      },
      "outputs": [
        {
          "name": "stdout",
          "output_type": "stream",
          "text": [
            "LinearSVM (TFIDF+USE) Accuracy: 0.84\n",
            "LinearSVM (TFIDF+USE) Precision: 0.85\n",
            "LinearSVM (TFIDF+USE) Recall: 0.83\n",
            "LinearSVM (TFIDF+USE) F1 score: 0.84\n",
            "Classification Report:\n",
            "              precision    recall  f1-score   support\n",
            "\n",
            "           0       0.84      0.85      0.84      5013\n",
            "           1       0.85      0.83      0.84      4987\n",
            "\n",
            "    accuracy                           0.84     10000\n",
            "   macro avg       0.84      0.84      0.84     10000\n",
            "weighted avg       0.84      0.84      0.84     10000\n",
            "\n",
            "Confusion Matrix\n",
            "[[4262  751]\n",
            " [ 829 4158]]\n"
          ]
        }
      ],
      "source": [
        "print(f\"LinearSVM (TFIDF+USE) Accuracy: {accuracy_svm_tfidf_use:.2f}\")\n",
        "print(f\"LinearSVM (TFIDF+USE) Precision: {precision_svm_tfidf_use:.2f}\")\n",
        "print(f\"LinearSVM (TFIDF+USE) Recall: {recall_svm_tfidf_use:.2f}\")\n",
        "print(f\"LinearSVM (TFIDF+USE) F1 score: {f1_svm_tfidf_use:.2f}\")\n",
        "print(\"Classification Report:\")\n",
        "print(report_svm_tfidf_use)\n",
        "print(\"Confusion Matrix\")\n",
        "print(cm_svm_tfidf_use)"
      ]
    },
    {
      "cell_type": "markdown",
      "id": "67dced06-8dcb-4bde-baf4-bc622d17a5b4",
      "metadata": {
        "id": "67dced06-8dcb-4bde-baf4-bc622d17a5b4"
      },
      "source": [
        "### Logistic Regression"
      ]
    },
    {
      "cell_type": "code",
      "execution_count": 70,
      "id": "3c4fef99-7d9d-428a-a72c-d9403271711a",
      "metadata": {
        "id": "3c4fef99-7d9d-428a-a72c-d9403271711a",
        "outputId": "8ba6b3a9-67c5-496b-f803-e6ab50af629a"
      },
      "outputs": [
        {
          "name": "stdout",
          "output_type": "stream",
          "text": [
            "Required time for Logistic Regression prediction with TFIDF+USE :-  0.16564859997015446\n"
          ]
        }
      ],
      "source": [
        "start = timer()\n",
        "y_pred_lr_tfidf_use, accuracy_lr_tfidf_use, precision_lr_tfidf_use, recall_lr_tfidf_use, f1_lr_tfidf_use, report_lr_tfidf_use, cm_lr_tfidf_use = evaluate_model(lr_tfidf_use, xtest_tfidf_use_combined, ytest)\n",
        "print('Required time for Logistic Regression prediction with TFIDF+USE :- ', timer() - start)"
      ]
    },
    {
      "cell_type": "markdown",
      "id": "f53793f7-9922-4c3d-91de-042cedc8f807",
      "metadata": {
        "id": "f53793f7-9922-4c3d-91de-042cedc8f807"
      },
      "source": [
        "#### Print actual vs. predicted results for Logistic Regression with TFIDF + USE"
      ]
    },
    {
      "cell_type": "code",
      "execution_count": 71,
      "id": "17846db8-46d3-48f2-8b46-0052203605d7",
      "metadata": {
        "id": "17846db8-46d3-48f2-8b46-0052203605d7",
        "outputId": "f69d4e9d-ae8f-41b6-9ea4-ea13ce36235e"
      },
      "outputs": [
        {
          "name": "stdout",
          "output_type": "stream",
          "text": [
            "0 = negative, 1 = positive\n",
            "Actual: 0, LR with TFIDF+USE embedding Predicted: 1\n",
            "\n",
            "Actual: 1, LR with TFIDF+USE embedding Predicted: 1\n",
            "\n",
            "Actual: 1, LR with TFIDF+USE embedding Predicted: 1\n",
            "\n",
            "Actual: 1, LR with TFIDF+USE embedding Predicted: 1\n",
            "\n",
            "Actual: 0, LR with TFIDF+USE embedding Predicted: 0\n",
            "\n",
            "Actual: 1, LR with TFIDF+USE embedding Predicted: 0\n",
            "\n",
            "Actual: 1, LR with TFIDF+USE embedding Predicted: 0\n",
            "\n",
            "Actual: 1, LR with TFIDF+USE embedding Predicted: 1\n",
            "\n",
            "Actual: 0, LR with TFIDF+USE embedding Predicted: 0\n",
            "\n",
            "Actual: 0, LR with TFIDF+USE embedding Predicted: 0\n",
            "\n",
            "Actual: 0, LR with TFIDF+USE embedding Predicted: 0\n",
            "\n",
            "Actual: 0, LR with TFIDF+USE embedding Predicted: 1\n",
            "\n",
            "Actual: 0, LR with TFIDF+USE embedding Predicted: 0\n",
            "\n",
            "Actual: 1, LR with TFIDF+USE embedding Predicted: 1\n",
            "\n",
            "Actual: 0, LR with TFIDF+USE embedding Predicted: 0\n",
            "\n"
          ]
        }
      ],
      "source": [
        "print('0 = negative, 1 = positive')\n",
        "for actual, predicted in zip(ytest[:15], y_pred_lr_tfidf_use[:15]):\n",
        "    print(f\"Actual: {actual}, LR with TFIDF+USE embedding Predicted: {predicted}\")\n",
        "    print()"
      ]
    },
    {
      "cell_type": "code",
      "execution_count": 72,
      "id": "cad1a480-5284-47de-ba8f-45dcb3e0416e",
      "metadata": {
        "id": "cad1a480-5284-47de-ba8f-45dcb3e0416e",
        "outputId": "8a287917-6a65-4ea8-cdc2-a0f9337cc810"
      },
      "outputs": [
        {
          "name": "stdout",
          "output_type": "stream",
          "text": [
            "Logistic Regression (TFIDF+USE) Accuracy: 0.86\n",
            "Logistic Regression (TFIDF+USE) Precision: 0.86\n",
            "Logistic Regression (TFIDF+USE) Recall: 0.85\n",
            "Logistic Regression (TFIDF+USE) F1 score: 0.86\n",
            "Classification Report:\n",
            "              precision    recall  f1-score   support\n",
            "\n",
            "           0       0.85      0.86      0.86      5013\n",
            "           1       0.86      0.85      0.86      4987\n",
            "\n",
            "    accuracy                           0.86     10000\n",
            "   macro avg       0.86      0.86      0.86     10000\n",
            "weighted avg       0.86      0.86      0.86     10000\n",
            "\n",
            "Confusion Matrix\n",
            "[[4324  689]\n",
            " [ 743 4244]]\n"
          ]
        }
      ],
      "source": [
        "print(f\"Logistic Regression (TFIDF+USE) Accuracy: {accuracy_lr_tfidf_use:.2f}\")\n",
        "print(f\"Logistic Regression (TFIDF+USE) Precision: {precision_lr_tfidf_use:.2f}\")\n",
        "print(f\"Logistic Regression (TFIDF+USE) Recall: {recall_lr_tfidf_use:.2f}\")\n",
        "print(f\"Logistic Regression (TFIDF+USE) F1 score: {f1_lr_tfidf_use:.2f}\")\n",
        "print(\"Classification Report:\")\n",
        "print(report_lr_tfidf_use)\n",
        "print(\"Confusion Matrix\")\n",
        "print(cm_lr_tfidf_use)"
      ]
    },
    {
      "cell_type": "markdown",
      "id": "efa9795b-8764-4336-ae44-83c3cd311099",
      "metadata": {
        "id": "efa9795b-8764-4336-ae44-83c3cd311099"
      },
      "source": [
        "### XGBoost Classifier"
      ]
    },
    {
      "cell_type": "code",
      "execution_count": 73,
      "id": "10275f78-28d7-4bf9-981e-350ec5f42dcc",
      "metadata": {
        "id": "10275f78-28d7-4bf9-981e-350ec5f42dcc",
        "outputId": "cc3e42f7-7966-4eeb-a44b-ca4b56409263"
      },
      "outputs": [
        {
          "name": "stdout",
          "output_type": "stream",
          "text": [
            "Required time for XGBoost prediction with TFIDF+USE :-  1.327846399974078\n"
          ]
        }
      ],
      "source": [
        "start = timer()\n",
        "y_pred_xgb_tfidf_use, accuracy_xgb_tfidf_use, precision_xgb_tfidf_use, recall_xgb_tfidf_use, f1_xgb_tfidf_use, report_xgb_tfidf_use, cm_xgb_tfidf_use = evaluate_model(xgboost_tfidf_use, xtest_tfidf_use_combined, ytest)\n",
        "print('Required time for XGBoost prediction with TFIDF+USE :- ', timer() - start)"
      ]
    },
    {
      "cell_type": "markdown",
      "id": "57a77adf-2bfd-4756-a246-a9f5f200ecf7",
      "metadata": {
        "id": "57a77adf-2bfd-4756-a246-a9f5f200ecf7"
      },
      "source": [
        "#### Print actual vs. predicted results for XGBoost with TFIDF + USE"
      ]
    },
    {
      "cell_type": "code",
      "execution_count": 74,
      "id": "5413edb4-5085-4c9a-8ccf-dc354a3764a4",
      "metadata": {
        "id": "5413edb4-5085-4c9a-8ccf-dc354a3764a4",
        "outputId": "b4b978ae-e5af-4671-c0a0-64d60fec8e91"
      },
      "outputs": [
        {
          "name": "stdout",
          "output_type": "stream",
          "text": [
            "0 = negative, 1 = positive\n",
            "Actual: 0, XGBoost with TFIDF+USE embedding Predicted: 0\n",
            "\n",
            "Actual: 1, XGBoost with TFIDF+USE embedding Predicted: 1\n",
            "\n",
            "Actual: 1, XGBoost with TFIDF+USE embedding Predicted: 1\n",
            "\n",
            "Actual: 1, XGBoost with TFIDF+USE embedding Predicted: 1\n",
            "\n",
            "Actual: 0, XGBoost with TFIDF+USE embedding Predicted: 0\n",
            "\n",
            "Actual: 1, XGBoost with TFIDF+USE embedding Predicted: 0\n",
            "\n",
            "Actual: 1, XGBoost with TFIDF+USE embedding Predicted: 1\n",
            "\n",
            "Actual: 1, XGBoost with TFIDF+USE embedding Predicted: 1\n",
            "\n",
            "Actual: 0, XGBoost with TFIDF+USE embedding Predicted: 0\n",
            "\n",
            "Actual: 0, XGBoost with TFIDF+USE embedding Predicted: 0\n",
            "\n",
            "Actual: 0, XGBoost with TFIDF+USE embedding Predicted: 0\n",
            "\n",
            "Actual: 0, XGBoost with TFIDF+USE embedding Predicted: 1\n",
            "\n",
            "Actual: 0, XGBoost with TFIDF+USE embedding Predicted: 0\n",
            "\n",
            "Actual: 1, XGBoost with TFIDF+USE embedding Predicted: 1\n",
            "\n",
            "Actual: 0, XGBoost with TFIDF+USE embedding Predicted: 0\n",
            "\n"
          ]
        }
      ],
      "source": [
        "print('0 = negative, 1 = positive')\n",
        "for actual, predicted in zip(ytest[:15], y_pred_xgb_tfidf_use[:15]):\n",
        "    print(f\"Actual: {actual}, XGBoost with TFIDF+USE embedding Predicted: {predicted}\")\n",
        "    print()"
      ]
    },
    {
      "cell_type": "code",
      "execution_count": 75,
      "id": "42650d91-fe30-4f9e-a5b0-c09564749491",
      "metadata": {
        "id": "42650d91-fe30-4f9e-a5b0-c09564749491",
        "outputId": "a65fbac1-2d46-4942-c22e-d7a37a765f13"
      },
      "outputs": [
        {
          "name": "stdout",
          "output_type": "stream",
          "text": [
            "XGBoost (TFIDF+USE) Accuracy: 0.84\n",
            "XGBoost (TFIDF+USE) Precision: 0.84\n",
            "XGBoost (TFIDF+USE) Recall: 0.84\n",
            "XGBoost (TFIDF+USE) F1 score: 0.84\n",
            "Classification Report:\n",
            "              precision    recall  f1-score   support\n",
            "\n",
            "           0       0.84      0.85      0.84      5013\n",
            "           1       0.84      0.84      0.84      4987\n",
            "\n",
            "    accuracy                           0.84     10000\n",
            "   macro avg       0.84      0.84      0.84     10000\n",
            "weighted avg       0.84      0.84      0.84     10000\n",
            "\n",
            "Confusion Matrix:\n",
            "[[4236  777]\n",
            " [ 782 4205]]\n"
          ]
        }
      ],
      "source": [
        "print(f\"XGBoost (TFIDF+USE) Accuracy: {accuracy_xgb_tfidf_use:.2f}\")\n",
        "print(f\"XGBoost (TFIDF+USE) Precision: {precision_xgb_tfidf_use:.2f}\")\n",
        "print(f\"XGBoost (TFIDF+USE) Recall: {recall_xgb_tfidf_use:.2f}\")\n",
        "print(f\"XGBoost (TFIDF+USE) F1 score: {f1_xgb_tfidf_use:.2f}\")\n",
        "print(\"Classification Report:\")\n",
        "print(report_xgb_tfidf_use)\n",
        "print(\"Confusion Matrix:\")\n",
        "print(cm_xgb_tfidf_use)"
      ]
    },
    {
      "cell_type": "markdown",
      "id": "aa69aa30-2ff4-4c02-983d-e7d30bf0148d",
      "metadata": {
        "id": "aa69aa30-2ff4-4c02-983d-e7d30bf0148d"
      },
      "source": [
        "### Random Forest classifier"
      ]
    },
    {
      "cell_type": "code",
      "execution_count": 76,
      "id": "b72207a8-49fd-4433-9335-6dc521e76791",
      "metadata": {
        "id": "b72207a8-49fd-4433-9335-6dc521e76791",
        "outputId": "4978bb48-392f-425e-ff8a-797698077a86"
      },
      "outputs": [
        {
          "name": "stdout",
          "output_type": "stream",
          "text": [
            "Required time for Random Forest prediction with TFIDF+USE :-  0.2946507000597194\n"
          ]
        }
      ],
      "source": [
        "start = timer()\n",
        "y_pred_rfc_tfidf_use, accuracy_rfc_tfidf_use, precision_rfc_tfidf_use, recall_rfc_tfidf_use, f1_rfc_tfidf_use, report_rfc_tfidf_use, cm_rfc_tfidf_use = evaluate_model(rfc_tfidf_use, xtest_tfidf_use_combined, ytest)\n",
        "print('Required time for Random Forest prediction with TFIDF+USE :- ', timer() - start)"
      ]
    },
    {
      "cell_type": "markdown",
      "id": "6df8a34b-ddac-4154-b674-f84008bf373d",
      "metadata": {
        "id": "6df8a34b-ddac-4154-b674-f84008bf373d"
      },
      "source": [
        "#### Print actual vs. predicted results for Random Forest with TFIDF + USE"
      ]
    },
    {
      "cell_type": "code",
      "execution_count": 77,
      "id": "e1eba937-e203-440a-bf96-f37f51e3b14c",
      "metadata": {
        "id": "e1eba937-e203-440a-bf96-f37f51e3b14c",
        "outputId": "b8e2bd9f-2933-4233-ab26-ab73c9794f04"
      },
      "outputs": [
        {
          "name": "stdout",
          "output_type": "stream",
          "text": [
            "0 = negative, 1 = positive\n",
            "Actual: 0, RFC with TFIDF+USE embedding Predicted: 0\n",
            "\n",
            "Actual: 1, RFC with TFIDF+USE embedding Predicted: 1\n",
            "\n",
            "Actual: 1, RFC with TFIDF+USE embedding Predicted: 1\n",
            "\n",
            "Actual: 1, RFC with TFIDF+USE embedding Predicted: 1\n",
            "\n",
            "Actual: 0, RFC with TFIDF+USE embedding Predicted: 0\n",
            "\n",
            "Actual: 1, RFC with TFIDF+USE embedding Predicted: 0\n",
            "\n",
            "Actual: 1, RFC with TFIDF+USE embedding Predicted: 1\n",
            "\n",
            "Actual: 1, RFC with TFIDF+USE embedding Predicted: 1\n",
            "\n",
            "Actual: 0, RFC with TFIDF+USE embedding Predicted: 0\n",
            "\n",
            "Actual: 0, RFC with TFIDF+USE embedding Predicted: 0\n",
            "\n",
            "Actual: 0, RFC with TFIDF+USE embedding Predicted: 0\n",
            "\n",
            "Actual: 0, RFC with TFIDF+USE embedding Predicted: 1\n",
            "\n",
            "Actual: 0, RFC with TFIDF+USE embedding Predicted: 0\n",
            "\n",
            "Actual: 1, RFC with TFIDF+USE embedding Predicted: 1\n",
            "\n",
            "Actual: 0, RFC with TFIDF+USE embedding Predicted: 0\n",
            "\n"
          ]
        }
      ],
      "source": [
        "print('0 = negative, 1 = positive')\n",
        "for actual, predicted in zip(ytest[:15], y_pred_rfc_tfidf_use[:15]):\n",
        "    print(f\"Actual: {actual}, RFC with TFIDF+USE embedding Predicted: {predicted}\")\n",
        "    print()"
      ]
    },
    {
      "cell_type": "code",
      "execution_count": 78,
      "id": "4eee78c6-2fed-4d25-bdc8-44e87bc20702",
      "metadata": {
        "id": "4eee78c6-2fed-4d25-bdc8-44e87bc20702",
        "outputId": "50d1372e-213f-4a15-ae17-2f24c3c0221c"
      },
      "outputs": [
        {
          "name": "stdout",
          "output_type": "stream",
          "text": [
            "Random Forest (TFIDF+USE) Accuracy: 0.81\n",
            "Random Forest (TFIDF+USE) Precision: 0.81\n",
            "Random Forest (TFIDF+USE) Recall: 0.81\n",
            "Random Forest (TFIDF+USE) F1 score: 0.81\n",
            "Classification Report:\n",
            "              precision    recall  f1-score   support\n",
            "\n",
            "           0       0.81      0.81      0.81      5013\n",
            "           1       0.81      0.81      0.81      4987\n",
            "\n",
            "    accuracy                           0.81     10000\n",
            "   macro avg       0.81      0.81      0.81     10000\n",
            "weighted avg       0.81      0.81      0.81     10000\n",
            "\n",
            "Confusion Matrix:\n",
            "[[4040  973]\n",
            " [ 949 4038]]\n"
          ]
        }
      ],
      "source": [
        "print(f\"Random Forest (TFIDF+USE) Accuracy: {accuracy_rfc_tfidf_use:.2f}\")\n",
        "print(f\"Random Forest (TFIDF+USE) Precision: {precision_rfc_tfidf_use:.2f}\")\n",
        "print(f\"Random Forest (TFIDF+USE) Recall: {recall_rfc_tfidf_use:.2f}\")\n",
        "print(f\"Random Forest (TFIDF+USE) F1 score: {f1_rfc_tfidf_use:.2f}\")\n",
        "print(\"Classification Report:\")\n",
        "print(report_rfc_tfidf_use)\n",
        "print(\"Confusion Matrix:\")\n",
        "print(cm_rfc_tfidf_use)"
      ]
    },
    {
      "cell_type": "markdown",
      "id": "cb06d7db-08f2-47a3-9726-2d40a989d50a",
      "metadata": {
        "id": "cb06d7db-08f2-47a3-9726-2d40a989d50a"
      },
      "source": [
        "### Visualization"
      ]
    },
    {
      "cell_type": "code",
      "execution_count": 79,
      "id": "6e41982b-c09b-4e55-811c-eb522ca0edfa",
      "metadata": {
        "id": "6e41982b-c09b-4e55-811c-eb522ca0edfa",
        "outputId": "e875b1a2-5d24-4a60-d3ff-f6625397e2e9"
      },
      "outputs": [
        {
          "data": {
            "image/png": "[encoded data removed]",
            "text/plain": [
              "<Figure size 1000x600 with 1 Axes>"
            ]
          },
          "metadata": {},
          "output_type": "display_data"
        }
      ],
      "source": [
        "# Define the classifiers and their corresponding accuracies\n",
        "classifiers = [\"Linear SVM\", \"Logistic Regression\", \"XGBoost\", \"Random Forest\"]\n",
        "tfidf_accuracies = [accuracy_svm, accuracy_lr, accuracy_xgboost, accuracy_rfc]  # Replace with actual accuracy values\n",
        "use_accuracies = [accuracy_svm_use, accuracy_lr_use, accuracy_xgboost_use, accuracy_rfc_use]  # Replace with actual accuracy values\n",
        "tfidf_use_accuracies = [accuracy_svm_tfidf_use, accuracy_lr_tfidf_use, accuracy_xgb_tfidf_use, accuracy_rfc_tfidf_use]  # Replace with actual accuracy values\n",
        "\n",
        "# Create an index for the x-axis\n",
        "x = np.arange(len(classifiers))\n",
        "\n",
        "# Set the width of the bars\n",
        "bar_width = 0.25\n",
        "\n",
        "# Create a grouped bar chart\n",
        "plt.figure(figsize=(10, 6))\n",
        "plt.bar(x - bar_width, tfidf_accuracies, bar_width, label='TF-IDF', color='orange')\n",
        "plt.bar(x, use_accuracies, bar_width, label='USE', color='purple')\n",
        "plt.bar(x + bar_width, tfidf_use_accuracies, bar_width, label='TF-IDF+USE', color='red')\n",
        "\n",
        "# Set labels, title, and legend\n",
        "plt.xlabel('Classifiers')\n",
        "plt.ylabel('Accuracy')\n",
        "plt.title('Classifier Accuracies with Different Embeddings')\n",
        "plt.xticks(x, classifiers)\n",
        "plt.ylim(0, 1.0)\n",
        "plt.legend()\n",
        "\n",
        "# Add accuracy values on top of the bars\n",
        "for i in range(len(classifiers)):\n",
        "    plt.text(x[i] - bar_width, tfidf_accuracies[i] + 0.02, f\"{tfidf_accuracies[i]:.2f}\", ha='center')\n",
        "    plt.text(x[i], use_accuracies[i] + 0.02, f\"{use_accuracies[i]:.2f}\", ha='center')\n",
        "    plt.text(x[i] + bar_width, tfidf_use_accuracies[i] + 0.02, f\"{tfidf_use_accuracies[i]:.2f}\", ha='center')\n",
        "\n",
        "\n",
        "# Display the plot\n",
        "plt.tight_layout()\n",
        "plt.show()\n"
      ]
    },
    {
      "cell_type": "markdown",
      "id": "4abcd9d7-6bd7-4437-affb-b5fc9da3c16c",
      "metadata": {
        "id": "4abcd9d7-6bd7-4437-affb-b5fc9da3c16c"
      },
      "source": [
        "#### Conclusion: If you see above visualization, as compared to TF-IDF embedding, USE as well as TF-IDF+USE embeddings works better for sentiment analysis on IMDB dataset with different classifiers"
      ]
    },
    {
      "cell_type": "code",
      "execution_count": null,
      "id": "c49df456-a282-40c4-ba25-34d7c2c6e358",
      "metadata": {
        "id": "c49df456-a282-40c4-ba25-34d7c2c6e358"
      },
      "outputs": [],
      "source": []
    },
    {
      "cell_type": "markdown",
      "id": "pkmsXesFSFly",
      "metadata": {
        "id": "pkmsXesFSFly"
      },
      "source": [
        "Reference:\n",
        "https://github.com/FarhanaTeli/Sentiment_Analysis_IMDB\n",
        "\n",
        "https://github.com/Wittline/tf-idf"
      ]
    }
  ],
  "metadata": {
    "colab": {
      "provenance": []
    },
    "kernelspec": {
      "display_name": "Python 3",
      "language": "python",
      "name": "python3"
    },
    "language_info": {
      "codemirror_mode": {
        "name": "ipython",
        "version": 3
      },
      "file_extension": ".py",
      "mimetype": "text/x-python",
      "name": "python",
      "nbconvert_exporter": "python",
      "pygments_lexer": "ipython3",
      "version": "3.12.6"
    }
  },
  "nbformat": 4,
  "nbformat_minor": 5
}
