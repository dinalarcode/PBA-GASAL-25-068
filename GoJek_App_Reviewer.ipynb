{
 "cells": [
  {
   "cell_type": "markdown",
   "id": "c6d13a18",
   "metadata": {},
   "source": [
    "<h1>GoJek App Reviewer</h1>\n",
    "So this is my first time doing EDA and NLP, so please be kind. I will try to explain every step that I do. So let's get started."
   ]
  },
  {
   "cell_type": "markdown",
   "id": "b308b6f2",
   "metadata": {},
   "source": [
    "<h2>#1 Scrapping Data</h2>  \n",
    "Scrapping data from Google Play Store using <b>google-play-scraper</b> library."
   ]
  },
  {
   "cell_type": "code",
   "execution_count": null,
   "id": "d30d2409",
   "metadata": {},
   "outputs": [],
   "source": [
    "!pip install google_play_scraper -q\n",
    "!pip install textblob -q\n",
    "!pip install seaborn -q"
   ]
  },
  {
   "cell_type": "code",
   "execution_count": 1,
   "id": "3bb662e1",
   "metadata": {},
   "outputs": [],
   "source": [
    "from google_play_scraper import app\n",
    "import pandas as pd\n",
    "import numpy as np\n",
    "import sklearn\n",
    "import requests\n",
    "import matplotlib.pyplot as plt\n",
    "import matplotlib.dates as dates\n",
    "import seaborn as sns\n",
    "import textblob\n",
    "#from wordcloud import WordCloud\n",
    "from pathlib import Path\n",
    "from nltk.corpus import stopwords\n",
    "from sklearn.model_selection import train_test_split\n",
    "from sklearn.metrics import confusion_matrix,classification_report, accuracy_score\n",
    "\n",
    "import pickle\n",
    "import re\n",
    "import time\n",
    "import datetime                              # access to %%time, for timing individual notebook cells\n",
    "import os\n",
    "from PIL import Image\n",
    "from sklearn.pipeline import Pipeline\n",
    "from sklearn.feature_extraction.text import TfidfVectorizer\n",
    "from sklearn.linear_model import LogisticRegression\n",
    "\n",
    "%matplotlib inline\n",
    "%config InlineBackend.figure_format='retina'\n",
    "\n",
    "# Import seaborn styles explicitly\n",
    "import seaborn as sns\n",
    "# Apply the seaborn style before creating plots\n",
    "sns.set_style(\"whitegrid\")  # This line sets the Seaborn style\n",
    "\n",
    "plt.rcParams[\"figure.figsize\"] = (15,10)"
   ]
  },
  {
   "cell_type": "code",
   "execution_count": 2,
   "id": "93a92b85",
   "metadata": {},
   "outputs": [],
   "source": [
    "#Android App Gojek from Google Play at\n",
    "#https://play.google.com/store/apps/details?id=com.gojek.app\n",
    "#The apps ID found in the link after id=com.gojek.app\n",
    "\n",
    "from google_play_scraper import app, Sort, reviews_all\n",
    "\n",
    "gojek_reviews = reviews_all(\n",
    "    'com.gojek.app',\n",
    "    sleep_milliseconds=0, # defaults to 0\n",
    "    lang='en', # defaults to 'en'\n",
    "    sort=Sort.NEWEST, # defaults to Sort.MOST_RELEVANT\n",
    ")"
   ]
  },
  {
   "cell_type": "code",
   "execution_count": 3,
   "id": "dd3b89ac",
   "metadata": {},
   "outputs": [],
   "source": [
    "df_gjkrev = pd.DataFrame(np.array(gojek_reviews),columns=['content'])\n",
    "df_gjkrev = df_gjkrev.join(pd.DataFrame(df_gjkrev.pop('content').tolist()))\n",
    "df_gjkrev.to_csv(r'data/df_gjkrev.csv', index=False)"
   ]
  },
  {
   "cell_type": "code",
   "execution_count": 4,
   "id": "2bec92ca",
   "metadata": {},
   "outputs": [
    {
     "name": "stdout",
     "output_type": "stream",
     "text": [
      "<class 'pandas.core.frame.DataFrame'>\n",
      "RangeIndex: 226079 entries, 0 to 226078\n",
      "Data columns (total 11 columns):\n",
      " #   Column                Non-Null Count   Dtype         \n",
      "---  ------                --------------   -----         \n",
      " 0   reviewId              226079 non-null  object        \n",
      " 1   userName              226079 non-null  object        \n",
      " 2   userImage             226079 non-null  object        \n",
      " 3   content               226044 non-null  object        \n",
      " 4   score                 226079 non-null  int64         \n",
      " 5   thumbsUpCount         226079 non-null  int64         \n",
      " 6   reviewCreatedVersion  193458 non-null  object        \n",
      " 7   at                    226079 non-null  datetime64[ns]\n",
      " 8   replyContent          34990 non-null   object        \n",
      " 9   repliedAt             34990 non-null   datetime64[ns]\n",
      " 10  appVersion            193458 non-null  object        \n",
      "dtypes: datetime64[ns](2), int64(2), object(7)\n",
      "memory usage: 19.0+ MB\n"
     ]
    },
    {
     "data": {
      "text/plain": [
       "score\n",
       "5    123190\n",
       "1     51043\n",
       "4     21971\n",
       "3     15506\n",
       "2     14369\n",
       "Name: count, dtype: int64"
      ]
     },
     "execution_count": 4,
     "metadata": {},
     "output_type": "execute_result"
    }
   ],
   "source": [
    "df_gjkrev\n",
    "df_gjkrev.info()\n",
    "df_gjkrev['score'].value_counts()"
   ]
  },
  {
   "cell_type": "code",
   "execution_count": 5,
   "id": "e37022bd",
   "metadata": {},
   "outputs": [
    {
     "data": {
      "text/html": [
       "<div>\n",
       "<style scoped>\n",
       "    .dataframe tbody tr th:only-of-type {\n",
       "        vertical-align: middle;\n",
       "    }\n",
       "\n",
       "    .dataframe tbody tr th {\n",
       "        vertical-align: top;\n",
       "    }\n",
       "\n",
       "    .dataframe thead th {\n",
       "        text-align: right;\n",
       "    }\n",
       "</style>\n",
       "<table border=\"1\" class=\"dataframe\">\n",
       "  <thead>\n",
       "    <tr style=\"text-align: right;\">\n",
       "      <th></th>\n",
       "      <th>content</th>\n",
       "      <th>score</th>\n",
       "      <th>thumbsUpCount</th>\n",
       "      <th>reviewCreatedVersion</th>\n",
       "      <th>at</th>\n",
       "      <th>replyContent</th>\n",
       "      <th>repliedAt</th>\n",
       "    </tr>\n",
       "  </thead>\n",
       "  <tbody>\n",
       "    <tr>\n",
       "      <th>0</th>\n",
       "      <td>kendaraan nyaman dan tepat waktu</td>\n",
       "      <td>5</td>\n",
       "      <td>0</td>\n",
       "      <td>5.31.2</td>\n",
       "      <td>2025-09-15 11:16:10</td>\n",
       "      <td>None</td>\n",
       "      <td>NaT</td>\n",
       "    </tr>\n",
       "    <tr>\n",
       "      <th>1</th>\n",
       "      <td>very reliable for my daily life</td>\n",
       "      <td>5</td>\n",
       "      <td>0</td>\n",
       "      <td>5.31.2</td>\n",
       "      <td>2025-09-15 11:15:55</td>\n",
       "      <td>None</td>\n",
       "      <td>NaT</td>\n",
       "    </tr>\n",
       "    <tr>\n",
       "      <th>2</th>\n",
       "      <td>Driver sering minta batal tapi harus kita yang...</td>\n",
       "      <td>2</td>\n",
       "      <td>0</td>\n",
       "      <td>None</td>\n",
       "      <td>2025-09-15 11:10:47</td>\n",
       "      <td>Hai Kak Ria, mohon maaf atas ketidaknyamananny...</td>\n",
       "      <td>2025-09-15 15:18:16</td>\n",
       "    </tr>\n",
       "    <tr>\n",
       "      <th>3</th>\n",
       "      <td>kenapa driver bisa liat rating tapi kita sendi...</td>\n",
       "      <td>3</td>\n",
       "      <td>0</td>\n",
       "      <td>5.30.1</td>\n",
       "      <td>2025-09-15 10:46:38</td>\n",
       "      <td>Hai Kak Rizky, mohon maaf atas ketidaknyamanan...</td>\n",
       "      <td>2025-09-15 15:17:14</td>\n",
       "    </tr>\n",
       "    <tr>\n",
       "      <th>4</th>\n",
       "      <td>awesome</td>\n",
       "      <td>5</td>\n",
       "      <td>0</td>\n",
       "      <td>5.31.2</td>\n",
       "      <td>2025-09-15 07:45:22</td>\n",
       "      <td>None</td>\n",
       "      <td>NaT</td>\n",
       "    </tr>\n",
       "    <tr>\n",
       "      <th>...</th>\n",
       "      <td>...</td>\n",
       "      <td>...</td>\n",
       "      <td>...</td>\n",
       "      <td>...</td>\n",
       "      <td>...</td>\n",
       "      <td>...</td>\n",
       "      <td>...</td>\n",
       "    </tr>\n",
       "    <tr>\n",
       "      <th>226074</th>\n",
       "      <td>Love this app</td>\n",
       "      <td>5</td>\n",
       "      <td>0</td>\n",
       "      <td>1.0.1</td>\n",
       "      <td>2014-12-31 04:11:06</td>\n",
       "      <td>None</td>\n",
       "      <td>NaT</td>\n",
       "    </tr>\n",
       "    <tr>\n",
       "      <th>226075</th>\n",
       "      <td>Akhirnya keluar juga!</td>\n",
       "      <td>5</td>\n",
       "      <td>0</td>\n",
       "      <td>1.0.1</td>\n",
       "      <td>2014-12-24 22:20:26</td>\n",
       "      <td>None</td>\n",
       "      <td>NaT</td>\n",
       "    </tr>\n",
       "    <tr>\n",
       "      <th>226076</th>\n",
       "      <td>Finally</td>\n",
       "      <td>5</td>\n",
       "      <td>0</td>\n",
       "      <td>1.0.1</td>\n",
       "      <td>2014-12-23 12:04:16</td>\n",
       "      <td>None</td>\n",
       "      <td>NaT</td>\n",
       "    </tr>\n",
       "    <tr>\n",
       "      <th>226077</th>\n",
       "      <td>Helpful</td>\n",
       "      <td>4</td>\n",
       "      <td>0</td>\n",
       "      <td>None</td>\n",
       "      <td>2014-12-20 23:41:52</td>\n",
       "      <td>None</td>\n",
       "      <td>NaT</td>\n",
       "    </tr>\n",
       "    <tr>\n",
       "      <th>226078</th>\n",
       "      <td>Usefull banget</td>\n",
       "      <td>5</td>\n",
       "      <td>1</td>\n",
       "      <td>None</td>\n",
       "      <td>2014-12-19 22:00:21</td>\n",
       "      <td>None</td>\n",
       "      <td>NaT</td>\n",
       "    </tr>\n",
       "  </tbody>\n",
       "</table>\n",
       "<p>226079 rows × 7 columns</p>\n",
       "</div>"
      ],
      "text/plain": [
       "                                                  content  score  \\\n",
       "0                        kendaraan nyaman dan tepat waktu      5   \n",
       "1                         very reliable for my daily life      5   \n",
       "2       Driver sering minta batal tapi harus kita yang...      2   \n",
       "3       kenapa driver bisa liat rating tapi kita sendi...      3   \n",
       "4                                                 awesome      5   \n",
       "...                                                   ...    ...   \n",
       "226074                                      Love this app      5   \n",
       "226075                              Akhirnya keluar juga!      5   \n",
       "226076                                            Finally      5   \n",
       "226077                                            Helpful      4   \n",
       "226078                                     Usefull banget      5   \n",
       "\n",
       "        thumbsUpCount reviewCreatedVersion                  at  \\\n",
       "0                   0               5.31.2 2025-09-15 11:16:10   \n",
       "1                   0               5.31.2 2025-09-15 11:15:55   \n",
       "2                   0                 None 2025-09-15 11:10:47   \n",
       "3                   0               5.30.1 2025-09-15 10:46:38   \n",
       "4                   0               5.31.2 2025-09-15 07:45:22   \n",
       "...               ...                  ...                 ...   \n",
       "226074              0                1.0.1 2014-12-31 04:11:06   \n",
       "226075              0                1.0.1 2014-12-24 22:20:26   \n",
       "226076              0                1.0.1 2014-12-23 12:04:16   \n",
       "226077              0                 None 2014-12-20 23:41:52   \n",
       "226078              1                 None 2014-12-19 22:00:21   \n",
       "\n",
       "                                             replyContent           repliedAt  \n",
       "0                                                    None                 NaT  \n",
       "1                                                    None                 NaT  \n",
       "2       Hai Kak Ria, mohon maaf atas ketidaknyamananny... 2025-09-15 15:18:16  \n",
       "3       Hai Kak Rizky, mohon maaf atas ketidaknyamanan... 2025-09-15 15:17:14  \n",
       "4                                                    None                 NaT  \n",
       "...                                                   ...                 ...  \n",
       "226074                                               None                 NaT  \n",
       "226075                                               None                 NaT  \n",
       "226076                                               None                 NaT  \n",
       "226077                                               None                 NaT  \n",
       "226078                                               None                 NaT  \n",
       "\n",
       "[226079 rows x 7 columns]"
      ]
     },
     "execution_count": 5,
     "metadata": {},
     "output_type": "execute_result"
    }
   ],
   "source": [
    "#We do not need data for column reviewId, userName, userImage so\n",
    "#we will show only these column\n",
    "df_gjkrev.loc[:,[\"content\",\"score\",\"thumbsUpCount\", \"reviewCreatedVersion\", \"at\", \"replyContent\", \"repliedAt\"]]"
   ]
  },
  {
   "cell_type": "markdown",
   "id": "2343cb6a",
   "metadata": {},
   "source": [
    "<h2>#2 Preprocessing Data</h2> "
   ]
  },
  {
   "cell_type": "code",
   "execution_count": null,
   "id": "d384db60",
   "metadata": {},
   "outputs": [],
   "source": [
    "!pip install emoji"
   ]
  },
  {
   "cell_type": "code",
   "execution_count": null,
   "id": "e6aa7288",
   "metadata": {},
   "outputs": [],
   "source": [
    "import numpy as np\n",
    "import pandas as pd\n",
    "pd.set_option(\"display.max_colwidth\", 200)\n",
    "#from pandas_profiling import ProfileReport\n",
    "import regex\n",
    "import nltk\n",
    "import wordcloud\n",
    "import textblob\n",
    "\n",
    "from nltk import word_tokenize, sent_tokenize\n",
    "from nltk.corpus import stopwords\n",
    "from nltk.stem import PorterStemmer\n",
    "from wordcloud import WordCloud, STOPWORDS\n",
    "from textblob import TextBlob\n",
    "\n",
    "import string\n",
    "import re\n",
    "import emoji"
   ]
  },
  {
   "cell_type": "markdown",
   "id": "43fef599",
   "metadata": {},
   "source": [
    "<h3>a. Lowercasing</h3>"
   ]
  },
  {
   "cell_type": "code",
   "execution_count": null,
   "id": "1d3122c8",
   "metadata": {},
   "outputs": [],
   "source": [
    "# Lower casing\n",
    "# Change the reviews type to string\n",
    "df_gjkrev['content'] = df_gjkrev['content'].astype(str)# Before lowercasing\n",
    "# Before lowercasing\n",
    "print(df_gjkrev['content'][188])\n",
    "print(df_gjkrev['content'][1])\n",
    "print(df_gjkrev['content'][20100])"
   ]
  },
  {
   "cell_type": "code",
   "execution_count": null,
   "id": "8e128e21",
   "metadata": {},
   "outputs": [],
   "source": [
    "#Lowercase all reviews to see the difference\n",
    "df_gjkrev['content']= df_gjkrev['content'].apply(lambda x: x.lower())\n",
    "print(df_gjkrev['content'][188])\n",
    "print(df_gjkrev['content'][1])\n",
    "print(df_gjkrev['content'][20100])"
   ]
  },
  {
   "cell_type": "markdown",
   "id": "c805d792",
   "metadata": {},
   "source": [
    "<h3>b. Stopwords Removal</h3>"
   ]
  },
  {
   "cell_type": "code",
   "execution_count": null,
   "id": "3883811b",
   "metadata": {},
   "outputs": [],
   "source": [
    "import nltk\n",
    "nltk.download('stopwords')\n",
    "from nltk.corpus import stopwords\n",
    "\n",
    "# Get Indonesian stopwords\n",
    "indonesian_stopwords = stopwords.words('indonesian')\n",
    "\n",
    "# Display first 20 stopwords\n",
    "print(indonesian_stopwords[:20])"
   ]
  },
  {
   "cell_type": "code",
   "execution_count": null,
   "id": "d222fa98",
   "metadata": {},
   "outputs": [],
   "source": [
    "#edited from https://www.tensorscience.com/nlp/sentiment-analysis-tutorial-in-python-classifying-reviews-on-movies-and-products\n",
    "import string\n",
    "\n",
    "df_gjkrev['wordCount'] = [len(review.split()) for review in df_gjkrev['content']]\n",
    "df_gjkrev['uppercaseCharCount'] = [sum(char.isupper() for char in review) \\\n",
    "                              for review in df_gjkrev['content']]\n",
    "df_gjkrev['specialCharCount'] = [sum(char in string.punctuation for char in review) \\\n",
    "                            for review in df_gjkrev['content']]"
   ]
  },
  {
   "cell_type": "code",
   "execution_count": null,
   "id": "4000f126",
   "metadata": {},
   "outputs": [],
   "source": [
    "import pandas as pd\n",
    "import nltk\n",
    "from nltk.corpus import stopwords\n",
    "from collections import Counter\n",
    "import matplotlib.pyplot as plt\n",
    "\n",
    "# Assuming the text column is named 'text', update accordingly\n",
    "text_column = 'content'  # Change this if the column has a different name\n",
    "\n",
    "# Combine all text data into one string\n",
    "all_text = ' '.join(df_gjkrev[text_column].dropna().astype(str))\n",
    "\n",
    "# Tokenize words and remove stopwords\n",
    "words = all_text.split()\n",
    "filtered_words = [word.lower() for word in words if word.lower() not in indonesian_stopwords]\n",
    "\n",
    "# Count frequent words\n",
    "word_counts = Counter(filtered_words)\n",
    "common_words = word_counts.most_common(100)\n",
    "\n",
    "# Convert to DataFrame for better visualization\n",
    "word_freq_df = pd.DataFrame(common_words, columns=['Word', 'Frequency'])\n",
    "\n",
    "# Display the most common words\n",
    "display(word_freq_df)\n",
    "\n",
    "# Plot the frequent words\n",
    "plt.figure(figsize=(19, 12))\n",
    "plt.barh(word_freq_df['Word'][::-1], word_freq_df['Frequency'][::-1])\n",
    "plt.xlabel(\"Frequency\")\n",
    "plt.ylabel(\"Words\")\n",
    "plt.title(\"Top 20 Most Frequent Words (Excluding Stopwords)\")\n",
    "plt.show()"
   ]
  },
  {
   "cell_type": "code",
   "execution_count": null,
   "id": "0dfad535",
   "metadata": {},
   "outputs": [],
   "source": [
    "df_gjkrev.loc[:,[\"content\",\"score\",\"sentiment_polarity\", \"sentiment_subjective\",\"wordCount\",\"uppercaseCharCount\",\"specialCharCount\"]]"
   ]
  },
  {
   "cell_type": "markdown",
   "id": "7e7d57c4",
   "metadata": {},
   "source": [
    "*Sentiment Analysis"
   ]
  },
  {
   "cell_type": "code",
   "execution_count": null,
   "id": "99eb503e",
   "metadata": {},
   "outputs": [],
   "source": [
    "#Add a column name polarity_rating from changing the score of the review into 3 labels: Pos, Negative Neutral\n",
    "df_gjkrev['sentiment_rating'] = df_gjkrev['score'].apply(lambda x: 'Positive' if x > 3 else('Neutral' if x == 3  else 'Negative'))"
   ]
  },
  {
   "cell_type": "code",
   "execution_count": null,
   "id": "0e909ca2",
   "metadata": {},
   "outputs": [],
   "source": [
    "import matplotlib.pyplot as plt\n",
    "import seaborn as sns\n",
    "\n",
    "plt.figure(figsize=(15, 10))\n",
    "# Specify x and y using the 'x' and 'y' parameters within sns.scatterplot\n",
    "sns.scatterplot(x=df_gjkrev['sentiment_polarity'], y=df_gjkrev['sentiment_subjective'],\n",
    "                hue=df_gjkrev['sentiment_rating'], edgecolor='white', palette=\"pastel\")\n",
    "plt.title(\"Google Play Store Gojek Reviews Sentiment Analysis\", fontsize=20)\n",
    "plt.show()"
   ]
  },
  {
   "cell_type": "markdown",
   "id": "fab73c41",
   "metadata": {},
   "source": [
    "*frequent terms"
   ]
  },
  {
   "cell_type": "code",
   "execution_count": null,
   "id": "faa5d916",
   "metadata": {},
   "outputs": [],
   "source": [
    "# function to plot most frequent terms\n",
    "def freq_words(x, terms = 30):\n",
    "  all_words = ' '.join([text for text in x])\n",
    "  all_words = all_words.split()\n",
    "  #Import FreqDist from nltk.probability\n",
    "  from nltk.probability import FreqDist\n",
    "  fdist = FreqDist(all_words)\n",
    "  words_df = pd.DataFrame({'word':list(fdist.keys()), 'count':list(fdist.values())})\n",
    "\n",
    "  # selecting top 20 most frequent words\n",
    "  d = words_df.nlargest(columns=\"count\", n = terms)\n",
    "  plt.figure(figsize=(20,5))\n",
    "  # Use the 'rainbow' colormap for the bar plot\n",
    "  ax = sns.barplot(data=d, x= \"word\", y = \"count\", palette=\"rainbow\")\n",
    "  ax.set(ylabel = 'Count')\n",
    "  plt.show()"
   ]
  },
  {
   "cell_type": "code",
   "execution_count": null,
   "id": "47ec99b7",
   "metadata": {},
   "outputs": [],
   "source": [
    "freq_words(df_gjkrev['content'])"
   ]
  },
  {
   "cell_type": "code",
   "execution_count": null,
   "id": "51305289",
   "metadata": {},
   "outputs": [],
   "source": [
    "!pip install Sastrawi"
   ]
  },
  {
   "cell_type": "code",
   "execution_count": null,
   "id": "8fe33ad1",
   "metadata": {},
   "outputs": [],
   "source": [
    "# prompt: the [content] column hasnt been applied Indonesian stopwords removal using Sastrawi\n",
    "\n",
    "from Sastrawi.StopWordRemover.StopWordRemoverFactory import StopWordRemoverFactory\n",
    "\n",
    "# Create stopword remover\n",
    "factory = StopWordRemoverFactory()\n",
    "stopword_remover = factory.create_stop_word_remover()\n",
    "\n",
    "# Apply stopword removal to the 'content' column\n",
    "df_gjkrev['content'] = df_gjkrev['content'].apply(lambda x: stopword_remover.remove(x))\n"
   ]
  },
  {
   "cell_type": "code",
   "execution_count": null,
   "id": "39f6dc30",
   "metadata": {},
   "outputs": [],
   "source": [
    "# prompt: can you also apply English stopwords as well to the [content] column\n",
    "\n",
    "import nltk\n",
    "nltk.download('stopwords')\n",
    "from nltk.corpus import stopwords\n",
    "\n",
    "# Get English stopwords\n",
    "english_stopwords = stopwords.words('english')\n",
    "\n",
    "# Assuming df_jknrev is your DataFrame and 'content' is the column\n",
    "df_gjkrev['content'] = df_gjkrev['content'].apply(lambda x: ' '.join([word for word in x.split() if word not in english_stopwords]))\n"
   ]
  },
  {
   "cell_type": "code",
   "execution_count": null,
   "id": "4c72131d",
   "metadata": {},
   "outputs": [],
   "source": [
    "# prompt: english_stopwords(len)\n",
    "\n",
    "# To get the number of English stopwords, use the len() function:\n",
    "print(len(english_stopwords))"
   ]
  },
  {
   "cell_type": "markdown",
   "id": "5acf23c4",
   "metadata": {},
   "source": [
    "<h3>c. Punctuations Removal</h3>"
   ]
  },
  {
   "cell_type": "code",
   "execution_count": null,
   "id": "d3aec230",
   "metadata": {},
   "outputs": [],
   "source": []
  }
 ],
 "metadata": {
  "kernelspec": {
   "display_name": "Python 3",
   "language": "python",
   "name": "python3"
  },
  "language_info": {
   "codemirror_mode": {
    "name": "ipython",
    "version": 3
   },
   "file_extension": ".py",
   "mimetype": "text/x-python",
   "name": "python",
   "nbconvert_exporter": "python",
   "pygments_lexer": "ipython3",
   "version": "3.12.6"
  }
 },
 "nbformat": 4,
 "nbformat_minor": 5
}
