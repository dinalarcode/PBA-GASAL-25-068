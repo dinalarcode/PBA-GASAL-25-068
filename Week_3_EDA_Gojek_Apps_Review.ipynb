{
  "cells": [
    {
      "cell_type": "markdown",
      "metadata": {
        "id": "SuZurMKGFPAB"
      },
      "source": [
        "#WEEK 3 EDA for Google Apps Review\n",
        "irma@its.ac.id/ PBA 2025"
      ]
    },
    {
      "cell_type": "code",
      "execution_count": 2,
      "metadata": {
        "colab": {
          "base_uri": "https://localhost:8080/"
        },
        "id": "V6bWTIaHGLWP",
        "outputId": "205253b7-47ff-439a-d32a-1d2b8ac5b893"
      },
      "outputs": [
        {
          "name": "stdout",
          "output_type": "stream",
          "text": [
            "Mounted at /content/drive\n"
          ]
        }
      ],
      "source": [
        "from google.colab import drive\n",
        "drive.mount('/content/drive')"
      ]
    },
    {
      "cell_type": "code",
      "execution_count": 2,
      "metadata": {
        "colab": {
          "base_uri": "https://localhost:8080/",
          "height": 573
        },
        "id": "hXgAMTSNGSA-",
        "outputId": "5664b6fc-29eb-426e-8dd5-e26d836bb5d4"
      },
      "outputs": [
        {
          "name": "stderr",
          "output_type": "stream",
          "text": [
            "<>:4: SyntaxWarning: invalid escape sequence '\\d'\n",
            "<>:4: SyntaxWarning: invalid escape sequence '\\d'\n",
            "C:\\Users\\VICTUS\\AppData\\Local\\Temp\\ipykernel_21492\\939721614.py:4: SyntaxWarning: invalid escape sequence '\\d'\n",
            "  file_path = \"data\\df_gjkrev.csv\"\n",
            "C:\\Users\\VICTUS\\AppData\\Local\\Temp\\ipykernel_21492\\939721614.py:7: DtypeWarning: Columns (8,9) have mixed types. Specify dtype option on import or set low_memory=False.\n",
            "  df_gjkrev = pd.read_csv(file_path)\n"
          ]
        },
        {
          "data": {
            "text/html": [
              "<div>\n",
              "<style scoped>\n",
              "    .dataframe tbody tr th:only-of-type {\n",
              "        vertical-align: middle;\n",
              "    }\n",
              "\n",
              "    .dataframe tbody tr th {\n",
              "        vertical-align: top;\n",
              "    }\n",
              "\n",
              "    .dataframe thead th {\n",
              "        text-align: right;\n",
              "    }\n",
              "</style>\n",
              "<table border=\"1\" class=\"dataframe\">\n",
              "  <thead>\n",
              "    <tr style=\"text-align: right;\">\n",
              "      <th></th>\n",
              "      <th>reviewId</th>\n",
              "      <th>userName</th>\n",
              "      <th>userImage</th>\n",
              "      <th>content</th>\n",
              "      <th>score</th>\n",
              "      <th>thumbsUpCount</th>\n",
              "      <th>reviewCreatedVersion</th>\n",
              "      <th>at</th>\n",
              "      <th>replyContent</th>\n",
              "      <th>repliedAt</th>\n",
              "      <th>appVersion</th>\n",
              "    </tr>\n",
              "  </thead>\n",
              "  <tbody>\n",
              "    <tr>\n",
              "      <th>0</th>\n",
              "      <td>f644ad88-c526-44fa-9cfe-483e9a6351f7</td>\n",
              "      <td>A Google user</td>\n",
              "      <td>https://play-lh.googleusercontent.com/EGemoI2N...</td>\n",
              "      <td>kendaraan nyaman dan tepat waktu</td>\n",
              "      <td>5</td>\n",
              "      <td>0</td>\n",
              "      <td>5.31.2</td>\n",
              "      <td>2025-09-15 11:16:10</td>\n",
              "      <td>NaN</td>\n",
              "      <td>NaN</td>\n",
              "      <td>5.31.2</td>\n",
              "    </tr>\n",
              "    <tr>\n",
              "      <th>1</th>\n",
              "      <td>4a346c2b-fd75-4b33-a71e-312a3aeda45d</td>\n",
              "      <td>A Google user</td>\n",
              "      <td>https://play-lh.googleusercontent.com/EGemoI2N...</td>\n",
              "      <td>very reliable for my daily life</td>\n",
              "      <td>5</td>\n",
              "      <td>0</td>\n",
              "      <td>5.31.2</td>\n",
              "      <td>2025-09-15 11:15:55</td>\n",
              "      <td>NaN</td>\n",
              "      <td>NaN</td>\n",
              "      <td>5.31.2</td>\n",
              "    </tr>\n",
              "    <tr>\n",
              "      <th>2</th>\n",
              "      <td>635b1a72-49b7-429f-9f68-7ac7f2baa288</td>\n",
              "      <td>A Google user</td>\n",
              "      <td>https://play-lh.googleusercontent.com/EGemoI2N...</td>\n",
              "      <td>Driver sering minta batal tapi harus kita yang...</td>\n",
              "      <td>2</td>\n",
              "      <td>0</td>\n",
              "      <td>NaN</td>\n",
              "      <td>2025-09-15 11:10:47</td>\n",
              "      <td>Hai Kak Ria, mohon maaf atas ketidaknyamananny...</td>\n",
              "      <td>2025-09-15 15:18:16</td>\n",
              "      <td>NaN</td>\n",
              "    </tr>\n",
              "    <tr>\n",
              "      <th>3</th>\n",
              "      <td>17f8983e-b736-403d-8aac-8511b8c991ed</td>\n",
              "      <td>A Google user</td>\n",
              "      <td>https://play-lh.googleusercontent.com/EGemoI2N...</td>\n",
              "      <td>kenapa driver bisa liat rating tapi kita sendi...</td>\n",
              "      <td>3</td>\n",
              "      <td>0</td>\n",
              "      <td>5.30.1</td>\n",
              "      <td>2025-09-15 10:46:38</td>\n",
              "      <td>Hai Kak Rizky, mohon maaf atas ketidaknyamanan...</td>\n",
              "      <td>2025-09-15 15:17:14</td>\n",
              "      <td>5.30.1</td>\n",
              "    </tr>\n",
              "    <tr>\n",
              "      <th>4</th>\n",
              "      <td>5a5dcc32-f002-4b11-9ade-54331ede5fcd</td>\n",
              "      <td>A Google user</td>\n",
              "      <td>https://play-lh.googleusercontent.com/EGemoI2N...</td>\n",
              "      <td>awesome</td>\n",
              "      <td>5</td>\n",
              "      <td>0</td>\n",
              "      <td>5.31.2</td>\n",
              "      <td>2025-09-15 07:45:22</td>\n",
              "      <td>NaN</td>\n",
              "      <td>NaN</td>\n",
              "      <td>5.31.2</td>\n",
              "    </tr>\n",
              "  </tbody>\n",
              "</table>\n",
              "</div>"
            ],
            "text/plain": [
              "                               reviewId       userName  \\\n",
              "0  f644ad88-c526-44fa-9cfe-483e9a6351f7  A Google user   \n",
              "1  4a346c2b-fd75-4b33-a71e-312a3aeda45d  A Google user   \n",
              "2  635b1a72-49b7-429f-9f68-7ac7f2baa288  A Google user   \n",
              "3  17f8983e-b736-403d-8aac-8511b8c991ed  A Google user   \n",
              "4  5a5dcc32-f002-4b11-9ade-54331ede5fcd  A Google user   \n",
              "\n",
              "                                           userImage  \\\n",
              "0  https://play-lh.googleusercontent.com/EGemoI2N...   \n",
              "1  https://play-lh.googleusercontent.com/EGemoI2N...   \n",
              "2  https://play-lh.googleusercontent.com/EGemoI2N...   \n",
              "3  https://play-lh.googleusercontent.com/EGemoI2N...   \n",
              "4  https://play-lh.googleusercontent.com/EGemoI2N...   \n",
              "\n",
              "                                             content  score  thumbsUpCount  \\\n",
              "0                   kendaraan nyaman dan tepat waktu      5              0   \n",
              "1                    very reliable for my daily life      5              0   \n",
              "2  Driver sering minta batal tapi harus kita yang...      2              0   \n",
              "3  kenapa driver bisa liat rating tapi kita sendi...      3              0   \n",
              "4                                            awesome      5              0   \n",
              "\n",
              "  reviewCreatedVersion                   at  \\\n",
              "0               5.31.2  2025-09-15 11:16:10   \n",
              "1               5.31.2  2025-09-15 11:15:55   \n",
              "2                  NaN  2025-09-15 11:10:47   \n",
              "3               5.30.1  2025-09-15 10:46:38   \n",
              "4               5.31.2  2025-09-15 07:45:22   \n",
              "\n",
              "                                        replyContent            repliedAt  \\\n",
              "0                                                NaN                  NaN   \n",
              "1                                                NaN                  NaN   \n",
              "2  Hai Kak Ria, mohon maaf atas ketidaknyamananny...  2025-09-15 15:18:16   \n",
              "3  Hai Kak Rizky, mohon maaf atas ketidaknyamanan...  2025-09-15 15:17:14   \n",
              "4                                                NaN                  NaN   \n",
              "\n",
              "  appVersion  \n",
              "0     5.31.2  \n",
              "1     5.31.2  \n",
              "2        NaN  \n",
              "3     5.30.1  \n",
              "4     5.31.2  "
            ]
          },
          "execution_count": 2,
          "metadata": {},
          "output_type": "execute_result"
        }
      ],
      "source": [
        "import pandas as pd\n",
        "\n",
        "# Define file path\n",
        "file_path = \"data\\df_gjkrev.csv\"\n",
        "\n",
        "# Read the Excel file (only if the file exists)\n",
        "df_gjkrev = pd.read_csv(file_path)\n",
        "\n",
        "# Display the first few rows\n",
        "df_gjkrev.head()"
      ]
    },
    {
      "cell_type": "markdown",
      "metadata": {
        "id": "NSteuoMwIN8X"
      },
      "source": [
        "# Exploratory Data Analysis (EDA) of Gojek Reviews\n",
        "\n",
        "## 1. Install Necessary Packages\n",
        "This section ensures that all required Python packages are installed before running the notebook."
      ]
    },
    {
      "cell_type": "code",
      "execution_count": 5,
      "metadata": {
        "collapsed": true,
        "id": "j9KJZh61ISv7"
      },
      "outputs": [],
      "source": [
        "!pip install pandas matplotlib seaborn nltk -q"
      ]
    },
    {
      "cell_type": "markdown",
      "metadata": {
        "id": "fBsNm835IR_I"
      },
      "source": [
        "## 2. Import Required Libraries\n",
        "We import essential libraries for data analysis, visualization, and text processing."
      ]
    },
    {
      "cell_type": "code",
      "execution_count": 3,
      "metadata": {
        "id": "1GmtkpDxIYLt"
      },
      "outputs": [],
      "source": [
        "import pandas as pd\n",
        "import matplotlib.pyplot as plt\n",
        "import seaborn as sns\n",
        "from collections import Counter\n",
        "import nltk\n",
        "import string"
      ]
    },
    {
      "cell_type": "markdown",
      "metadata": {
        "id": "D8HEj9BAIbNX"
      },
      "source": [
        "## 3. Download Stopwords\n",
        "Downloading the Indonesian stopwords from NLTK for text processing."
      ]
    },
    {
      "cell_type": "code",
      "execution_count": null,
      "metadata": {},
      "outputs": [],
      "source": [
        "!pip install Sastrawi"
      ]
    },
    {
      "cell_type": "code",
      "execution_count": null,
      "metadata": {},
      "outputs": [
        {
          "name": "stderr",
          "output_type": "stream",
          "text": [
            "[nltk_data] Downloading package wordnet to\n",
            "[nltk_data]     C:\\Users\\VICTUS\\AppData\\Roaming\\nltk_data...\n",
            "[nltk_data]   Package wordnet is already up-to-date!\n",
            "[nltk_data] Downloading package omw-1.4 to\n",
            "[nltk_data]     C:\\Users\\VICTUS\\AppData\\Roaming\\nltk_data...\n",
            "[nltk_data]   Package omw-1.4 is already up-to-date!\n"
          ]
        }
      ],
      "source": [
        "import re\n",
        "from Sastrawi.Stemmer.StemmerFactory import StemmerFactory\n",
        "from Sastrawi.StopWordRemover.StopWordRemoverFactory import StopWordRemoverFactory\n",
        "from nltk.stem import WordNetLemmatizer\n",
        "import nltk\n",
        "nltk.download('wordnet')\n",
        "nltk.download('omw-1.4')\n",
        "\n",
        "\n",
        "# Create stemmer and lemmatizer objects\n",
        "factory = StemmerFactory()\n",
        "stemmer = factory.create_stemmer()\n",
        "lemmatizer = WordNetLemmatizer()\n",
        "\n",
        "def clean_text(text):\n",
        "    # Check if the input is a string, if not, convert to empty string\n",
        "    if not isinstance(text, str):\n",
        "        text = \"\"\n",
        "\n",
        "    # Case lowering\n",
        "    text = text.lower()\n",
        "\n",
        "    # Punctuation removal\n",
        "    text = re.sub(r'[^\\w\\s]', '', text)\n",
        "\n",
        "    # Stemming\n",
        "    text = stemmer.stem(text)\n",
        "\n",
        "    # Lemmatization (requires a part-of-speech tag for optimal results, using 'v' for verb as a default)\n",
        "    words = text.split()\n",
        "    lemmatized_words = [lemmatizer.lemmatize(word, 'v') for word in words]\n",
        "    text = ' '.join(lemmatized_words)\n",
        "\n",
        "    return text\n",
        "\n",
        "# Apply the cleaning function to the 'content' column\n",
        "df_gjkrev['cleaned_review'] = df_gjkrev['content'].apply(clean_text)\n",
        "\n",
        "# Display the DataFrame with the cleaned reviews\n",
        "print(df_gjkrev[['content', 'cleaned_review']])"
      ]
    },
    {
      "cell_type": "markdown",
      "metadata": {
        "id": "4-Sj3aE4I2JX"
      },
      "source": [
        "## 5. Data Overview\n",
        "This section provides basic dataset information, including column names, data types, and the first few records."
      ]
    },
    {
      "cell_type": "code",
      "execution_count": null,
      "metadata": {
        "id": "S1T26hrzI9nu"
      },
      "outputs": [],
      "source": [
        "# Convert 'at' column to datetime format\n",
        "df_gjkrev['at'] = pd.to_datetime(df_gjkrev['at'])\n",
        "\n",
        "# Display dataset info and first few rows\n",
        "df_gjkrev.info()\n",
        "df_gjkrev.head()"
      ]
    },
    {
      "cell_type": "markdown",
      "metadata": {
        "id": "LyV9sEXMJA6-"
      },
      "source": [
        "## 6. Missing Values Analysis\n",
        "Identifies and counts missing values in each column."
      ]
    },
    {
      "cell_type": "code",
      "execution_count": null,
      "metadata": {
        "id": "JNYVKCAk2ouR"
      },
      "outputs": [],
      "source": [
        "missing_values = df_gjkrev.isnull().sum()\n",
        "print(\"Missing Values Summary:\")\n",
        "print(missing_values)"
      ]
    },
    {
      "cell_type": "markdown",
      "metadata": {
        "id": "ajwdtsI-JHAV"
      },
      "source": [
        "## 7. Review Score Distribution\n",
        "Visualizing the distribution of review scores to understand user sentiments."
      ]
    },
    {
      "cell_type": "code",
      "execution_count": 5,
      "metadata": {
        "id": "lw6-P9V9JFoD"
      },
      "outputs": [
        {
          "name": "stderr",
          "output_type": "stream",
          "text": [
            "C:\\Users\\VICTUS\\AppData\\Local\\Temp\\ipykernel_21492\\626075893.py:2: FutureWarning: \n",
            "\n",
            "Passing `palette` without assigning `hue` is deprecated and will be removed in v0.14.0. Assign the `x` variable to `hue` and set `legend=False` for the same effect.\n",
            "\n",
            "  sns.countplot(x=df_gjkrev['score'], palette=\"viridis\")\n"
          ]
        },
        {
          "data": {
            "image/png": "[encoded data removed]",
            "text/plain": [
              "<Figure size 800x500 with 1 Axes>"
            ]
          },
          "metadata": {},
          "output_type": "display_data"
        }
      ],
      "source": [
        "plt.figure(figsize=(8,5))\n",
        "sns.countplot(x=df_gjkrev['score'], palette=\"viridis\")\n",
        "plt.title(\"Distribution of Review Scores\")\n",
        "plt.xlabel(\"Review Score\")\n",
        "plt.ylabel(\"Count\")\n",
        "plt.show()"
      ]
    },
    {
      "cell_type": "markdown",
      "metadata": {
        "id": "S3RcEu56JLcL"
      },
      "source": [
        "## 8. Review Trends Over Time\n",
        "Analyzing how the number of reviews changes over time to detect patterns."
      ]
    },
    {
      "cell_type": "code",
      "execution_count": null,
      "metadata": {
        "id": "Gryf6uLY24jL"
      },
      "outputs": [],
      "source": [
        "df_gjkrev['review_date'] = df_gjkrev['at'].dt.date\n",
        "review_trend = df_gjkrev.groupby('review_date').size()\n",
        "\n",
        "plt.figure(figsize=(12, 6))\n",
        "review_trend.plot()\n",
        "plt.title(\"Daily Review Counts Over Time\")\n",
        "plt.xlabel(\"Date\")\n",
        "plt.ylabel(\"Number of Reviews\")\n",
        "plt.grid(True)\n",
        "plt.show()"
      ]
    },
    {
      "cell_type": "markdown",
      "metadata": {
        "id": "paSMXj9d3HX4"
      },
      "source": [
        "## 9. Word Frequency Analysis\n",
        "Analyzing common words in reviews, excluding Indonesian stopwords."
      ]
    },
    {
      "cell_type": "code",
      "execution_count": null,
      "metadata": {
        "id": "ko9zCjj9FE-h"
      },
      "outputs": [],
      "source": [
        "stop_words = set(stopwords.words('indonesian'))\n",
        "\n",
        "# Combine all review text\n",
        "all_reviews = \" \".join(df_gjkrev['content'].dropna()).lower()\n",
        "all_reviews = all_reviews.translate(str.maketrans(\"\", \"\", string.punctuation))\n",
        "\n",
        "# Tokenization and filtering words\n",
        "words = all_reviews.split()\n",
        "filtered_words = [word for word in words if word not in stop_words]\n",
        "\n",
        "# Counting word occurrences\n",
        "word_counts = Counter(filtered_words)\n",
        "common_words = pd.DataFrame(word_counts.most_common(20), columns=['Word', 'Frequency'])\n",
        "\n",
        "# Display most common words\n",
        "print(\"Most Common Words in Reviews:\")\n",
        "print(common_words)\n"
      ]
    }
  ],
  "metadata": {
    "colab": {
      "provenance": []
    },
    "kernelspec": {
      "display_name": "Python 3",
      "name": "python3"
    },
    "language_info": {
      "codemirror_mode": {
        "name": "ipython",
        "version": 3
      },
      "file_extension": ".py",
      "mimetype": "text/x-python",
      "name": "python",
      "nbconvert_exporter": "python",
      "pygments_lexer": "ipython3",
      "version": "3.12.6"
    }
  },
  "nbformat": 4,
  "nbformat_minor": 0
}
