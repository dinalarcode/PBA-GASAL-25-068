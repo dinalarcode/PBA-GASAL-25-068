{
  "cells": [
    {
      "cell_type": "markdown",
      "metadata": {
        "id": "9OxjvOlTZc8J"
      },
      "source": [
        "# Import Dependencies"
      ]
    },
    {
      "cell_type": "code",
      "execution_count": 1,
      "metadata": {
        "colab": {
          "base_uri": "https://localhost:8080/"
        },
        "id": "cMx5zWpNZMBr",
        "outputId": "b7e57e74-030d-4df9-9018-868d3a439aa3"
      },
      "outputs": [
        {
          "name": "stderr",
          "output_type": "stream",
          "text": [
            "[nltk_data] Downloading package punkt to C:\\Users\\PC\n",
            "[nltk_data]     GAMING\\AppData\\Roaming\\nltk_data...\n",
            "[nltk_data]   Package punkt is already up-to-date!\n"
          ]
        }
      ],
      "source": [
        "import nltk\n",
        "from nltk.tokenize import sent_tokenize\n",
        "nltk.download('punkt')\n",
        "from sklearn.feature_extraction.text import TfidfVectorizer"
      ]
    },
    {
      "cell_type": "markdown",
      "metadata": {
        "id": "Gs_BSVh1Ejf3"
      },
      "source": [
        "# Define Document"
      ]
    },
    {
      "cell_type": "code",
      "execution_count": 2,
      "metadata": {
        "id": "ND72qJhC_sPw"
      },
      "outputs": [],
      "source": [
        "sentence = \"\"\"\n",
        "Banjarbaru, S Kalimantan (ANTARA) - The management of PT Angkasa Pura I in cooperation with the state-run bus operator PT Damri provides a round-trip bus to serve the Syamsudin Noor International Airport - Banjarmasin route with a fare of only Rp40,000 ribu starting January 1, 2022.\n",
        "\n",
        "The Syamsudin Noor International Airport General Manager (GM) Dony Subardono said here on Saturday three units of Damri bus are prepared for the service.\n",
        "\n",
        "\"This is a form of state-owned enterprise (BUMN) synergy between PT Angkasa Pura and Perum Damri to serve the roud trip every day from the airport to 0 (zero) km Siring Park, Banjarmasin,\" he said.\n",
        "\n",
        "The service hours run from 06.00 to 18.00 WITA (local time), and the bus will transport passangers from 0 km Banjarmasin in every two hours from 10.00 to 15.00 WITA every day.\n",
        "\n",
        "He explainded that the BUMN synergy is a form of shared commitment to provide the best, safe, comfortable, and sustainable service for service users from air route to land transportation to their respective destination.\n",
        "\n",
        "\"Please come to Damri ticket window at the arrival terminal with a promotion rate of IDR40,000,\" he said accompanied by Stakeholder Relation Manager Ahmad Zulfian Noor.\n",
        "\n",
        "General Manager of Damri for Banjarmasin branch Sugiyanto said that the number of buses for the first phase is three units.\n",
        "\n",
        "\"Two medium buses with a capacity of 25 seats and one large bus with a capacity of 34 seats. If conditions are normal, the number can be increased as needed,\" he explained.\n",
        "\n",
        "\n",
        "\n",
        "He said the fare is still promo of IDR40,000 one way and is valid for about one month during January and the fare adjustment from February is estimated to be IDR50,000 for one way.\n",
        "\n",
        "If the COVID-19 pandemic passes and transportation at the Syamsudin Noor Airport returns to normal, an airport bus fleet to Banjarmasin and viceversa can be prepared every 30 minutes.\n",
        "\"\"\""
      ]
    },
    {
      "cell_type": "code",
      "execution_count": 16,
      "metadata": {
        "id": "s9EHHbyHaZin"
      },
      "outputs": [],
      "source": [
        "sentence2 = \"\"\"Jawatan Angkutan Motor Republik Indonesia (DAMRI) memastikan layanan transportasi menuju Bandara Soekarno-Hatta, Tangerang tetap beroperasi seperti biasa.\n",
        "\n",
        "Angkutan DAMRI rute Bandara Soetta dapat diakses dari Jakarta Selatan, Jakarta Pusat, Jakarta Timur, dan Jakarta Utara.\n",
        "\n",
        "Menurut keterangan yang dirilis akun Instagram DAMRI, @damriindonesia, Selasa (2/9/2025), rute pemadu moda Bandara Soetta tetap beroperasi dengan jadwal dan harga tiket terbaru.\n",
        "\n",
        "Tiket transportasi DAMRI dari Jakarta ke Bandara Soetta dapat dipesan melalui aplikasi atau situsweb DAMRI.\n",
        "\n",
        "\"Biar makin praktis, tiket DAMRI bisa kamu pesan langsung lewat DAMRI Apps atau website resmi,\" demikian keterangan DAMRI.\n",
        "\n",
        "Tarif yang ditawarkan ke penumpang mulai dari Rp60.000 hingga Rp95.000. Jam operasional bus DAMRI pun berbeda tergantung lokasi stasiun atau terminal keberangkatan atau tujuan.\n",
        "\n",
        "Berikut jadwal operasional dan harga tiket terbaru DAMRI dari dan ke Bandara Soekarno-Hatta.\n",
        "\n",
        "Jakarta Pusat dan Jakarta Selatan\n",
        "Thamrin City: Rp60.000 (ke bandara pukul 05.00-18.00 WIB, dari bandara 07.00-22.00 WIB)\n",
        "Gambir: Rp80.000 (ke bandara 03.00-21.00 WIB, dari bandara 06.00-23.00 WIB)\n",
        "Blok M: Rp80.000 (ke bandara 03.00-19.00 WIB, dari bandara 06.00-23.00 WIB)\n",
        "Tanjung Barat: Rp80.000 (ke bandara 05.00-19.00 WIB, dari bandara 06.00-22.00 WIB)\n",
        "Pasar Minggu: Rp95.000 (ke bandara 03.00-19.00 WIB, dari bandara 06.00-23.00 WIB)\n",
        "Lebak Bulus: Rp95.000 (ke bandara 03.00-19.00 WIB, dari bandara 06.00-23.00 WIB)\n",
        "Jakarta Timur dan Jakarta Utara\n",
        "KCIC Halim: Rp80.000 (ke bandara 07.00-21.30 WIB, dari bandara 06.00-19.30 WIB)\n",
        "Rawamangun: Rp80.000 (ke bandara 03.00-19.00 WIB, dari bandara 06.00-23.00 WIB)\n",
        "Pulo Gebang: Rp90.000 (ke bandara 05.30-18.30 WIB, dari bandara 08.00-22.00 WIB)\n",
        "Kp. Rambutan: Rp95.000 (ke bandara 03.00-20.00 WIB, dari bandara 06.00-23.00 WIB)\n",
        "Tanjung Priok: Rp80.000 (ke bandara 05.00-19.00 WIB, dari bandara 06.00-23.00 WIB)\n",
        "Kelapa Gading: Rp80.000 (ke bandara 05.00-18.00 WIB, dari bandara 06.00-21.00 WIB)\"\"\""
      ]
    },
    {
      "cell_type": "markdown",
      "metadata": {
        "id": "lIqm2VZDErDa"
      },
      "source": [
        "# Text Preprocessing"
      ]
    },
    {
      "cell_type": "code",
      "execution_count": 17,
      "metadata": {
        "colab": {
          "base_uri": "https://localhost:8080/"
        },
        "id": "7JjE-_XXavx-",
        "outputId": "c715cb93-9e06-4ef9-8c09-07de3e02941b"
      },
      "outputs": [
        {
          "name": "stderr",
          "output_type": "stream",
          "text": [
            "[nltk_data] Downloading package punkt_tab to C:\\Users\\PC\n",
            "[nltk_data]     GAMING\\AppData\\Roaming\\nltk_data...\n",
            "[nltk_data]   Package punkt_tab is already up-to-date!\n"
          ]
        },
        {
          "data": {
            "text/plain": [
              "True"
            ]
          },
          "execution_count": 17,
          "metadata": {},
          "output_type": "execute_result"
        }
      ],
      "source": [
        "import nltk\n",
        "from nltk.tokenize import sent_tokenize\n",
        "\n",
        "# Download the 'punkt_tab' data\n",
        "nltk.download('punkt_tab')"
      ]
    },
    {
      "cell_type": "code",
      "execution_count": 18,
      "metadata": {
        "colab": {
          "base_uri": "https://localhost:8080/"
        },
        "id": "qmYi6iWsABp3",
        "outputId": "42ceca52-88de-4fae-ea4b-a736bb942df6"
      },
      "outputs": [
        {
          "name": "stdout",
          "output_type": "stream",
          "text": [
            "['\\nBanjarbaru, S Kalimantan (ANTARA) - The management of PT Angkasa Pura I in cooperation with the state-run bus operator PT Damri provides a round-trip bus to serve the Syamsudin Noor International Airport - Banjarmasin route with a fare of only Rp40,000 ribu starting January 1, 2022.', 'The Syamsudin Noor International Airport General Manager (GM) Dony Subardono said here on Saturday three units of Damri bus are prepared for the service.', '\"This is a form of state-owned enterprise (BUMN) synergy between PT Angkasa Pura and Perum Damri to serve the roud trip every day from the airport to 0 (zero) km Siring Park, Banjarmasin,\" he said.', 'The service hours run from 06.00 to 18.00 WITA (local time), and the bus will transport passangers from 0 km Banjarmasin in every two hours from 10.00 to 15.00 WITA every day.', 'He explainded that the BUMN synergy is a form of shared commitment to provide the best, safe, comfortable, and sustainable service for service users from air route to land transportation to their respective destination.', '\"Please come to Damri ticket window at the arrival terminal with a promotion rate of IDR40,000,\" he said accompanied by Stakeholder Relation Manager Ahmad Zulfian Noor.', 'General Manager of Damri for Banjarmasin branch Sugiyanto said that the number of buses for the first phase is three units.', '\"Two medium buses with a capacity of 25 seats and one large bus with a capacity of 34 seats.', 'If conditions are normal, the number can be increased as needed,\" he explained.', 'He said the fare is still promo of IDR40,000 one way and is valid for about one month during January and the fare adjustment from February is estimated to be IDR50,000 for one way.', 'If the COVID-19 pandemic passes and transportation at the Syamsudin Noor Airport returns to normal, an airport bus fleet to Banjarmasin and viceversa can be prepared every 30 minutes.']\n"
          ]
        }
      ],
      "source": [
        "# Sentence tokenization\n",
        "sent_token = sent_tokenize(sentence)\n",
        "print(sent_token)"
      ]
    },
    {
      "cell_type": "code",
      "execution_count": 19,
      "metadata": {
        "colab": {
          "base_uri": "https://localhost:8080/"
        },
        "id": "Hao7oQA6azOC",
        "outputId": "c833b592-8db9-4c1c-ee8f-160cb214c7b8"
      },
      "outputs": [
        {
          "name": "stdout",
          "output_type": "stream",
          "text": [
            "['Jawatan Angkutan Motor Republik Indonesia (DAMRI) memastikan layanan transportasi menuju Bandara Soekarno-Hatta, Tangerang tetap beroperasi seperti biasa.', 'Angkutan DAMRI rute Bandara Soetta dapat diakses dari Jakarta Selatan, Jakarta Pusat, Jakarta Timur, dan Jakarta Utara.', 'Menurut keterangan yang dirilis akun Instagram DAMRI, @damriindonesia, Selasa (2/9/2025), rute pemadu moda Bandara Soetta tetap beroperasi dengan jadwal dan harga tiket terbaru.', 'Tiket transportasi DAMRI dari Jakarta ke Bandara Soetta dapat dipesan melalui aplikasi atau situsweb DAMRI.', '\"Biar makin praktis, tiket DAMRI bisa kamu pesan langsung lewat DAMRI Apps atau website resmi,\" demikian keterangan DAMRI.', 'Tarif yang ditawarkan ke penumpang mulai dari Rp60.000 hingga Rp95.000.', 'Jam operasional bus DAMRI pun berbeda tergantung lokasi stasiun atau terminal keberangkatan atau tujuan.', 'Berikut jadwal operasional dan harga tiket terbaru DAMRI dari dan ke Bandara Soekarno-Hatta.', 'Jakarta Pusat dan Jakarta Selatan\\nThamrin City: Rp60.000 (ke bandara pukul 05.00-18.00 WIB, dari bandara 07.00-22.00 WIB)\\nGambir: Rp80.000 (ke bandara 03.00-21.00 WIB, dari bandara 06.00-23.00 WIB)\\nBlok M: Rp80.000 (ke bandara 03.00-19.00 WIB, dari bandara 06.00-23.00 WIB)\\nTanjung Barat: Rp80.000 (ke bandara 05.00-19.00 WIB, dari bandara 06.00-22.00 WIB)\\nPasar Minggu: Rp95.000 (ke bandara 03.00-19.00 WIB, dari bandara 06.00-23.00 WIB)\\nLebak Bulus: Rp95.000 (ke bandara 03.00-19.00 WIB, dari bandara 06.00-23.00 WIB)\\nJakarta Timur dan Jakarta Utara\\nKCIC Halim: Rp80.000 (ke bandara 07.00-21.30 WIB, dari bandara 06.00-19.30 WIB)\\nRawamangun: Rp80.000 (ke bandara 03.00-19.00 WIB, dari bandara 06.00-23.00 WIB)\\nPulo Gebang: Rp90.000 (ke bandara 05.30-18.30 WIB, dari bandara 08.00-22.00 WIB)\\nKp.', 'Rambutan: Rp95.000 (ke bandara 03.00-20.00 WIB, dari bandara 06.00-23.00 WIB)\\nTanjung Priok: Rp80.000 (ke bandara 05.00-19.00 WIB, dari bandara 06.00-23.00 WIB)\\nKelapa Gading: Rp80.000 (ke bandara 05.00-18.00 WIB, dari bandara 06.00-21.00 WIB)']\n"
          ]
        }
      ],
      "source": [
        "# Sentence tokenization\n",
        "sent_token2 = sent_tokenize(sentence2)\n",
        "print(sent_token2)"
      ]
    },
    {
      "cell_type": "code",
      "execution_count": 20,
      "metadata": {
        "id": "qNc5R-t-_NK4"
      },
      "outputs": [],
      "source": [
        "# Training TF-IDF Vectorizer on sentences\n",
        "vectorizer = TfidfVectorizer(stop_words='english')\n",
        "features = vectorizer.fit_transform(sent_token)"
      ]
    },
    {
      "cell_type": "code",
      "execution_count": 21,
      "metadata": {
        "id": "Nl7crgmia7Pv"
      },
      "outputs": [],
      "source": [
        "# Training TF-IDF Vectorizer on sentences\n",
        "vectorizer = TfidfVectorizer(stop_words='english')\n",
        "features = vectorizer.fit_transform(sent_token2)"
      ]
    },
    {
      "cell_type": "code",
      "execution_count": 9,
      "metadata": {
        "colab": {
          "base_uri": "https://localhost:8080/"
        },
        "id": "LtXEApV_cU-U",
        "outputId": "45c46c39-502d-49ce-e510-478ede8e1348"
      },
      "outputs": [
        {
          "name": "stdout",
          "output_type": "stream",
          "text": [
            "Note: you may need to restart the kernel to use updated packages.\n"
          ]
        },
        {
          "name": "stderr",
          "output_type": "stream",
          "text": [
            "WARNING: You are using pip version 21.2.4; however, version 25.2 is available.\n",
            "You should consider upgrading via the 'c:\\Users\\PC GAMING\\AppData\\Local\\Programs\\Python\\Python310\\python.exe -m pip install --upgrade pip' command.\n"
          ]
        }
      ],
      "source": [
        "pip install Sastrawi -q "
      ]
    },
    {
      "cell_type": "code",
      "execution_count": 22,
      "metadata": {
        "colab": {
          "base_uri": "https://localhost:8080/"
        },
        "id": "Yv7qSQClb3cO",
        "outputId": "41b2154d-4170-4abe-97d7-4ab7cadb5838"
      },
      "outputs": [
        {
          "name": "stdout",
          "output_type": "stream",
          "text": [
            "Tokenized sentences:\n",
            "Jawatan Angkutan Motor Republik Indonesia (DAMRI) memastikan layanan transportasi menuju Bandara Soekarno-Hatta, Tangerang tetap beroperasi seperti biasa.\n",
            "Angkutan DAMRI rute Bandara Soetta dapat diakses dari Jakarta Selatan, Jakarta Pusat, Jakarta Timur, dan Jakarta Utara.\n",
            "Menurut keterangan yang dirilis akun Instagram DAMRI, @damriindonesia, Selasa (2/9/2025), rute pemadu moda Bandara Soetta tetap beroperasi dengan jadwal dan harga tiket terbaru.\n",
            "Tiket transportasi DAMRI dari Jakarta ke Bandara Soetta dapat dipesan melalui aplikasi atau situsweb DAMRI.\n",
            "\"Biar makin praktis, tiket DAMRI bisa kamu pesan langsung lewat DAMRI Apps atau website resmi,\" demikian keterangan DAMRI.\n",
            "Tarif yang ditawarkan ke penumpang mulai dari Rp60.000 hingga Rp95.000.\n",
            "Jam operasional bus DAMRI pun berbeda tergantung lokasi stasiun atau terminal keberangkatan atau tujuan.\n",
            "Berikut jadwal operasional dan harga tiket terbaru DAMRI dari dan ke Bandara Soekarno-Hatta.\n",
            "Jakarta Pusat dan Jakarta Selatan\n",
            "Thamrin City: Rp60.000 (ke bandara pukul 05.00-18.00 WIB, dari bandara 07.00-22.00 WIB)\n",
            "Gambir: Rp80.000 (ke bandara 03.00-21.00 WIB, dari bandara 06.00-23.00 WIB)\n",
            "Blok M: Rp80.000 (ke bandara 03.00-19.00 WIB, dari bandara 06.00-23.00 WIB)\n",
            "Tanjung Barat: Rp80.000 (ke bandara 05.00-19.00 WIB, dari bandara 06.00-22.00 WIB)\n",
            "Pasar Minggu: Rp95.000 (ke bandara 03.00-19.00 WIB, dari bandara 06.00-23.00 WIB)\n",
            "Lebak Bulus: Rp95.000 (ke bandara 03.00-19.00 WIB, dari bandara 06.00-23.00 WIB)\n",
            "Jakarta Timur dan Jakarta Utara\n",
            "KCIC Halim: Rp80.000 (ke bandara 07.00-21.30 WIB, dari bandara 06.00-19.30 WIB)\n",
            "Rawamangun: Rp80.000 (ke bandara 03.00-19.00 WIB, dari bandara 06.00-23.00 WIB)\n",
            "Pulo Gebang: Rp90.000 (ke bandara 05.30-18.30 WIB, dari bandara 08.00-22.00 WIB)\n",
            "Kp.\n",
            "Rambutan: Rp95.000 (ke bandara 03.00-20.00 WIB, dari bandara 06.00-23.00 WIB)\n",
            "Tanjung Priok: Rp80.000 (ke bandara 05.00-19.00 WIB, dari bandara 06.00-23.00 WIB)\n",
            "Kelapa Gading: Rp80.000 (ke bandara 05.00-18.00 WIB, dari bandara 06.00-21.00 WIB)\n",
            "\n",
            "Cleaned sentences (Indonesian stop words removed):\n",
            "Jawatan Angkutan Motor Republik Indonesia (DAMRI) memastikan layanan transportasi menuju Bandara Soekarno-Hatta, Tangerang tetap beroperasi biasa.\n",
            "Angkutan DAMRI rute Bandara Soetta diakses Jakarta Selatan, Jakarta Pusat, Jakarta Timur, Jakarta Utara.\n",
            "Menurut keterangan dirilis akun Instagram DAMRI, @damriindonesia, Selasa (2/9/2025), rute pemadu moda Bandara Soetta tetap beroperasi jadwal harga tiket terbaru.\n",
            "Tiket transportasi DAMRI Jakarta Bandara Soetta dipesan melalui aplikasi situsweb DAMRI.\n",
            "\"Biar makin praktis, tiket DAMRI kamu pesan langsung lewat DAMRI Apps website resmi,\" keterangan DAMRI.\n",
            "Tarif ditawarkan penumpang mulai Rp60.000 hingga Rp95.000.\n",
            "Jam operasional bus DAMRI berbeda tergantung lokasi stasiun terminal keberangkatan tujuan.\n",
            "Berikut jadwal operasional harga tiket terbaru DAMRI dan Bandara Soekarno-Hatta.\n",
            "Jakarta Pusat Jakarta Selatan\n",
            "Thamrin City: Rp60.000 (ke bandara pukul 05.00-18.00 WIB, bandara 07.00-22.00 WIB)\n",
            "Gambir: Rp80.000 (ke bandara 03.00-21.00 WIB, bandara 06.00-23.00 WIB)\n",
            "Blok M: Rp80.000 (ke bandara 03.00-19.00 WIB, bandara 06.00-23.00 WIB)\n",
            "Tanjung Barat: Rp80.000 (ke bandara 05.00-19.00 WIB, bandara 06.00-22.00 WIB)\n",
            "Pasar Minggu: Rp95.000 (ke bandara 03.00-19.00 WIB, bandara 06.00-23.00 WIB)\n",
            "Lebak Bulus: Rp95.000 (ke bandara 03.00-19.00 WIB, bandara 06.00-23.00 WIB)\n",
            "Jakarta Timur Jakarta Utara\n",
            "KCIC Halim: Rp80.000 (ke bandara 07.00-21.30 WIB, bandara 06.00-19.30 WIB)\n",
            "Rawamangun: Rp80.000 (ke bandara 03.00-19.00 WIB, bandara 06.00-23.00 WIB)\n",
            "Pulo Gebang: Rp90.000 (ke bandara 05.30-18.30 WIB, bandara 08.00-22.00 WIB)\n",
            "Kp.\n",
            "Rambutan: Rp95.000 (ke bandara 03.00-20.00 WIB, bandara 06.00-23.00 WIB)\n",
            "Tanjung Priok: Rp80.000 (ke bandara 05.00-19.00 WIB, bandara 06.00-23.00 WIB)\n",
            "Kelapa Gading: Rp80.000 (ke bandara 05.00-18.00 WIB, bandara 06.00-21.00 WIB)\n",
            "\n",
            "TF-IDF Feature Matrix (Sparse) on cleaned sentences:\n",
            "<Compressed Sparse Row sparse matrix of dtype 'float64'\n",
            "\twith 163 stored elements and shape (10, 111)>\n",
            "  Coords\tValues\n",
            "  (0, 49)\t0.26908212711723634\n",
            "  (0, 16)\t0.22874439138700348\n",
            "  (0, 69)\t0.26908212711723634\n",
            "  (0, 83)\t0.26908212711723634\n",
            "  (0, 44)\t0.26908212711723634\n",
            "  (0, 30)\t0.13116649772046818\n",
            "  (0, 64)\t0.26908212711723634\n",
            "  (0, 58)\t0.26908212711723634\n",
            "  (0, 106)\t0.22874439138700348\n",
            "  (0, 65)\t0.26908212711723634\n",
            "  (0, 19)\t0.13116649772046818\n",
            "  (0, 93)\t0.22874439138700348\n",
            "  (0, 42)\t0.22874439138700348\n",
            "  (0, 96)\t0.26908212711723634\n",
            "  (0, 102)\t0.22874439138700348\n",
            "  (0, 23)\t0.22874439138700348\n",
            "  (0, 25)\t0.26908212711723634\n",
            "  (1, 16)\t0.21794037347552953\n",
            "  (1, 30)\t0.12497126302131584\n",
            "  (1, 19)\t0.12497126302131584\n",
            "  (1, 89)\t0.21794037347552953\n",
            "  (1, 94)\t0.19067207342499365\n",
            "  (1, 33)\t0.25637288382867146\n",
            "  (1, 47)\t0.7626882936999746\n",
            "  (1, 91)\t0.21794037347552953\n",
            "  :\t:\n",
            "  (8, 79)\t0.027269379909111695\n",
            "  (8, 39)\t0.027269379909111695\n",
            "  (8, 87)\t0.027269379909111695\n",
            "  (8, 6)\t0.027269379909111695\n",
            "  (8, 56)\t0.027269379909111695\n",
            "  (9, 19)\t0.2214347874663773\n",
            "  (9, 1)\t0.16892455526929986\n",
            "  (9, 88)\t0.05630818508976662\n",
            "  (9, 52)\t0.19308271003336716\n",
            "  (9, 3)\t0.12872180668891145\n",
            "  (9, 0)\t0.7723308401334686\n",
            "  (9, 7)\t0.06436090334445572\n",
            "  (9, 110)\t0.3861654200667343\n",
            "  (9, 86)\t0.12872180668891145\n",
            "  (9, 2)\t0.06436090334445572\n",
            "  (9, 11)\t0.06436090334445572\n",
            "  (9, 4)\t0.19308271003336716\n",
            "  (9, 13)\t0.12872180668891145\n",
            "  (9, 8)\t0.06436090334445572\n",
            "  (9, 97)\t0.06436090334445572\n",
            "  (9, 81)\t0.07571057226847036\n",
            "  (9, 9)\t0.07571057226847036\n",
            "  (9, 77)\t0.07571057226847036\n",
            "  (9, 54)\t0.07571057226847036\n",
            "  (9, 37)\t0.07571057226847036\n",
            "\n",
            "Shape of the Feature Matrix (Number of sentences, Number of unique words after Indonesian stop word removal):\n",
            "(10, 111)\n",
            "\n",
            "Feature Names (Words in the vocabulary after Indonesian stop word removal):\n",
            "['00' '000' '03' '05' '06' '07' '08' '18' '19' '20' '2025' '21' '22' '23'\n",
            " '30' 'akun' 'angkutan' 'aplikasi' 'apps' 'bandara' 'barat' 'berbeda'\n",
            " 'berikut' 'beroperasi' 'biar' 'biasa' 'blok' 'bulus' 'bus' 'city' 'damri'\n",
            " 'damriindonesia' 'dan' 'diakses' 'dipesan' 'dirilis' 'ditawarkan'\n",
            " 'gading' 'gambir' 'gebang' 'halim' 'harga' 'hatta' 'hingga' 'indonesia'\n",
            " 'instagram' 'jadwal' 'jakarta' 'jam' 'jawatan' 'kamu' 'kcic' 'ke'\n",
            " 'keberangkatan' 'kelapa' 'keterangan' 'kp' 'langsung' 'layanan' 'lebak'\n",
            " 'lewat' 'lokasi' 'makin' 'melalui' 'memastikan' 'menuju' 'menurut'\n",
            " 'minggu' 'moda' 'motor' 'mulai' 'operasional' 'pasar' 'pemadu'\n",
            " 'penumpang' 'pesan' 'praktis' 'priok' 'pukul' 'pulo' 'pusat' 'rambutan'\n",
            " 'rawamangun' 'republik' 'resmi' 'rp60' 'rp80' 'rp90' 'rp95' 'rute'\n",
            " 'selasa' 'selatan' 'situsweb' 'soekarno' 'soetta' 'stasiun' 'tangerang'\n",
            " 'tanjung' 'tarif' 'terbaru' 'tergantung' 'terminal' 'tetap' 'thamrin'\n",
            " 'tiket' 'timur' 'transportasi' 'tujuan' 'utara' 'website' 'wib']\n",
            "\n",
            "TF-IDF values for the first cleaned sentence:\n",
            "[[0.         0.         0.         0.         0.         0.\n",
            "  0.         0.         0.         0.         0.         0.\n",
            "  0.         0.         0.         0.         0.22874439 0.\n",
            "  0.         0.1311665  0.         0.         0.         0.22874439\n",
            "  0.         0.26908213 0.         0.         0.         0.\n",
            "  0.1311665  0.         0.         0.         0.         0.\n",
            "  0.         0.         0.         0.         0.         0.\n",
            "  0.22874439 0.         0.26908213 0.         0.         0.\n",
            "  0.         0.26908213 0.         0.         0.         0.\n",
            "  0.         0.         0.         0.         0.26908213 0.\n",
            "  0.         0.         0.         0.         0.26908213 0.26908213\n",
            "  0.         0.         0.         0.26908213 0.         0.\n",
            "  0.         0.         0.         0.         0.         0.\n",
            "  0.         0.         0.         0.         0.         0.26908213\n",
            "  0.         0.         0.         0.         0.         0.\n",
            "  0.         0.         0.         0.22874439 0.         0.\n",
            "  0.26908213 0.         0.         0.         0.         0.\n",
            "  0.22874439 0.         0.         0.         0.22874439 0.\n",
            "  0.         0.         0.        ]]\n",
            "\n",
            "TF-IDF values for the first cleaned sentence (sorted):\n",
            "          Feature    TF-IDF\n",
            "25          biasa  0.269082\n",
            "96      tangerang  0.269082\n",
            "58        layanan  0.269082\n",
            "49        jawatan  0.269082\n",
            "44      indonesia  0.269082\n",
            "83       republik  0.269082\n",
            "69          motor  0.269082\n",
            "65         menuju  0.269082\n",
            "64     memastikan  0.269082\n",
            "16       angkutan  0.228744\n",
            "93       soekarno  0.228744\n",
            "42          hatta  0.228744\n",
            "23     beroperasi  0.228744\n",
            "102         tetap  0.228744\n",
            "106  transportasi  0.228744\n",
            "19        bandara  0.131166\n",
            "30          damri  0.131166\n"
          ]
        }
      ],
      "source": [
        "import nltk\n",
        "from nltk.tokenize import sent_tokenize\n",
        "from sklearn.feature_extraction.text import TfidfVectorizer\n",
        "from Sastrawi.StopWordRemover.StopWordRemoverFactory import StopWordRemoverFactory\n",
        "\n",
        "# Download the 'punkt' data if you haven't already\n",
        "try:\n",
        "    nltk.data.find('tokenizers/punkt/PY3/english.pickle')\n",
        "except nltk.downloader.DownloadError:\n",
        "    nltk.download('punkt')\n",
        "\n",
        "sentence2 = sentence2 = \"\"\"Jawatan Angkutan Motor Republik Indonesia (DAMRI) memastikan layanan transportasi menuju Bandara Soekarno-Hatta, Tangerang tetap beroperasi seperti biasa.\n",
        "\n",
        "Angkutan DAMRI rute Bandara Soetta dapat diakses dari Jakarta Selatan, Jakarta Pusat, Jakarta Timur, dan Jakarta Utara.\n",
        "\n",
        "Menurut keterangan yang dirilis akun Instagram DAMRI, @damriindonesia, Selasa (2/9/2025), rute pemadu moda Bandara Soetta tetap beroperasi dengan jadwal dan harga tiket terbaru.\n",
        "\n",
        "Tiket transportasi DAMRI dari Jakarta ke Bandara Soetta dapat dipesan melalui aplikasi atau situsweb DAMRI.\n",
        "\n",
        "\"Biar makin praktis, tiket DAMRI bisa kamu pesan langsung lewat DAMRI Apps atau website resmi,\" demikian keterangan DAMRI.\n",
        "\n",
        "Tarif yang ditawarkan ke penumpang mulai dari Rp60.000 hingga Rp95.000. Jam operasional bus DAMRI pun berbeda tergantung lokasi stasiun atau terminal keberangkatan atau tujuan.\n",
        "\n",
        "Berikut jadwal operasional dan harga tiket terbaru DAMRI dari dan ke Bandara Soekarno-Hatta.\n",
        "\n",
        "Jakarta Pusat dan Jakarta Selatan\n",
        "Thamrin City: Rp60.000 (ke bandara pukul 05.00-18.00 WIB, dari bandara 07.00-22.00 WIB)\n",
        "Gambir: Rp80.000 (ke bandara 03.00-21.00 WIB, dari bandara 06.00-23.00 WIB)\n",
        "Blok M: Rp80.000 (ke bandara 03.00-19.00 WIB, dari bandara 06.00-23.00 WIB)\n",
        "Tanjung Barat: Rp80.000 (ke bandara 05.00-19.00 WIB, dari bandara 06.00-22.00 WIB)\n",
        "Pasar Minggu: Rp95.000 (ke bandara 03.00-19.00 WIB, dari bandara 06.00-23.00 WIB)\n",
        "Lebak Bulus: Rp95.000 (ke bandara 03.00-19.00 WIB, dari bandara 06.00-23.00 WIB)\n",
        "Jakarta Timur dan Jakarta Utara\n",
        "KCIC Halim: Rp80.000 (ke bandara 07.00-21.30 WIB, dari bandara 06.00-19.30 WIB)\n",
        "Rawamangun: Rp80.000 (ke bandara 03.00-19.00 WIB, dari bandara 06.00-23.00 WIB)\n",
        "Pulo Gebang: Rp90.000 (ke bandara 05.30-18.30 WIB, dari bandara 08.00-22.00 WIB)\n",
        "Kp. Rambutan: Rp95.000 (ke bandara 03.00-20.00 WIB, dari bandara 06.00-23.00 WIB)\n",
        "Tanjung Priok: Rp80.000 (ke bandara 05.00-19.00 WIB, dari bandara 06.00-23.00 WIB)\n",
        "Kelapa Gading: Rp80.000 (ke bandara 05.00-18.00 WIB, dari bandara 06.00-21.00 WIB)\"\"\"\n",
        "\n",
        "# Sentence tokenization\n",
        "sent_token2 = sent_tokenize(sentence2)\n",
        "print(\"Tokenized sentences:\")\n",
        "for sent in sent_token2:\n",
        "    print(sent)\n",
        "\n",
        "# Initialize Indonesian StopWordRemover\n",
        "factory = StopWordRemoverFactory()\n",
        "stopword_remover = factory.create_stop_word_remover()\n",
        "\n",
        "# Remove stop words from each sentence\n",
        "cleaned_sentences = [stopword_remover.remove(sent) for sent in sent_token2]\n",
        "print(\"\\nCleaned sentences (Indonesian stop words removed):\")\n",
        "for clean_sent in cleaned_sentences:\n",
        "    print(clean_sent)\n",
        "\n",
        "# Training TF-IDF Vectorizer on the cleaned sentences\n",
        "vectorizer = TfidfVectorizer()  # Removed stop_words='english'\n",
        "features = vectorizer.fit_transform(cleaned_sentences)\n",
        "\n",
        "print(\"\\nTF-IDF Feature Matrix (Sparse) on cleaned sentences:\")\n",
        "print(features)\n",
        "\n",
        "print(\"\\nShape of the Feature Matrix (Number of sentences, Number of unique words after Indonesian stop word removal):\")\n",
        "print(features.shape)\n",
        "\n",
        "# To see the feature names (the words in the vocabulary after Indonesian stop word removal):\n",
        "feature_names = vectorizer.get_feature_names_out()\n",
        "print(\"\\nFeature Names (Words in the vocabulary after Indonesian stop word removal):\")\n",
        "print(feature_names)\n",
        "\n",
        "# To see the TF-IDF values for a specific cleaned sentence (e.g., the first):\n",
        "if cleaned_sentences:\n",
        "    first_cleaned_sentence_tfidf = features[0].toarray()\n",
        "    print(\"\\nTF-IDF values for the first cleaned sentence:\")\n",
        "    print(first_cleaned_sentence_tfidf)\n",
        "\n",
        "    import pandas as pd\n",
        "    def get_tfidf_for_sentence(tfidf_matrix, sentence_index, feature_names):\n",
        "        \"\"\"Returns a DataFrame of TF-IDF values for a given sentence.\"\"\"\n",
        "        sentence_tfidf_values = tfidf_matrix[sentence_index].toarray().flatten()\n",
        "        tfidf_df = pd.DataFrame({'Feature': feature_names, 'TF-IDF': sentence_tfidf_values})\n",
        "        tfidf_df = tfidf_df[tfidf_df['TF-IDF'] > 0].sort_values(by='TF-IDF', ascending=False)\n",
        "        return tfidf_df\n",
        "\n",
        "    first_cleaned_sentence_tfidf_df = get_tfidf_for_sentence(features, 0, feature_names)\n",
        "    print(\"\\nTF-IDF values for the first cleaned sentence (sorted):\")\n",
        "    print(first_cleaned_sentence_tfidf_df)\n",
        "else:\n",
        "    print(\"\\nNo cleaned sentences to process.\")"
      ]
    },
    {
      "cell_type": "code",
      "execution_count": 23,
      "metadata": {
        "colab": {
          "base_uri": "https://localhost:8080/",
          "height": 531
        },
        "id": "VjfSipyZdHyk",
        "outputId": "043409d0-c777-44a7-c256-b3b8886d9933"
      },
      "outputs": [
        {
          "data": {
            "image/png": "[encoded data removed]",
            "text/plain": [
              "<Figure size 1000x600 with 1 Axes>"
            ]
          },
          "metadata": {},
          "output_type": "display_data"
        }
      ],
      "source": [
        "import nltk\n",
        "from nltk.tokenize import sent_tokenize\n",
        "from sklearn.feature_extraction.text import TfidfVectorizer\n",
        "from Sastrawi.StopWordRemover.StopWordRemoverFactory import StopWordRemoverFactory\n",
        "import matplotlib.pyplot as plt\n",
        "import pandas as pd\n",
        "\n",
        "# Download 'punkt' if needed\n",
        "try:\n",
        "    nltk.data.find('tokenizers/punkt/PY3/english.pickle')\n",
        "except nltk.downloader.DownloadError:\n",
        "    nltk.download('punkt')\n",
        "\n",
        "sentence2 = \"\"\"Jawatan Angkutan Motor Republik Indonesia (DAMRI) memastikan layanan transportasi menuju Bandara Soekarno-Hatta, Tangerang tetap beroperasi seperti biasa.\n",
        "\n",
        "Angkutan DAMRI rute Bandara Soetta dapat diakses dari Jakarta Selatan, Jakarta Pusat, Jakarta Timur, dan Jakarta Utara.\n",
        "\n",
        "Menurut keterangan yang dirilis akun Instagram DAMRI, @damriindonesia, Selasa (2/9/2025), rute pemadu moda Bandara Soetta tetap beroperasi dengan jadwal dan harga tiket terbaru.\n",
        "\n",
        "Tiket transportasi DAMRI dari Jakarta ke Bandara Soetta dapat dipesan melalui aplikasi atau situsweb DAMRI.\n",
        "\n",
        "\"Biar makin praktis, tiket DAMRI bisa kamu pesan langsung lewat DAMRI Apps atau website resmi,\" demikian keterangan DAMRI.\n",
        "\n",
        "Tarif yang ditawarkan ke penumpang mulai dari Rp60.000 hingga Rp95.000. Jam operasional bus DAMRI pun berbeda tergantung lokasi stasiun atau terminal keberangkatan atau tujuan.\n",
        "\n",
        "Berikut jadwal operasional dan harga tiket terbaru DAMRI dari dan ke Bandara Soekarno-Hatta.\n",
        "\n",
        "Jakarta Pusat dan Jakarta Selatan\n",
        "Thamrin City: Rp60.000 (ke bandara pukul 05.00-18.00 WIB, dari bandara 07.00-22.00 WIB)\n",
        "Gambir: Rp80.000 (ke bandara 03.00-21.00 WIB, dari bandara 06.00-23.00 WIB)\n",
        "Blok M: Rp80.000 (ke bandara 03.00-19.00 WIB, dari bandara 06.00-23.00 WIB)\n",
        "Tanjung Barat: Rp80.000 (ke bandara 05.00-19.00 WIB, dari bandara 06.00-22.00 WIB)\n",
        "Pasar Minggu: Rp95.000 (ke bandara 03.00-19.00 WIB, dari bandara 06.00-23.00 WIB)\n",
        "Lebak Bulus: Rp95.000 (ke bandara 03.00-19.00 WIB, dari bandara 06.00-23.00 WIB)\n",
        "Jakarta Timur dan Jakarta Utara\n",
        "KCIC Halim: Rp80.000 (ke bandara 07.00-21.30 WIB, dari bandara 06.00-19.30 WIB)\n",
        "Rawamangun: Rp80.000 (ke bandara 03.00-19.00 WIB, dari bandara 06.00-23.00 WIB)\n",
        "Pulo Gebang: Rp90.000 (ke bandara 05.30-18.30 WIB, dari bandara 08.00-22.00 WIB)\n",
        "Kp. Rambutan: Rp95.000 (ke bandara 03.00-20.00 WIB, dari bandara 06.00-23.00 WIB)\n",
        "Tanjung Priok: Rp80.000 (ke bandara 05.00-19.00 WIB, dari bandara 06.00-23.00 WIB)\n",
        "Kelapa Gading: Rp80.000 (ke bandara 05.00-18.00 WIB, dari bandara 06.00-21.00 WIB)\"\"\"\n",
        "\n",
        "# Sentence tokenization\n",
        "sent_token2 = sent_tokenize(sentence2)\n",
        "\n",
        "# Initialize Indonesian StopWordRemover\n",
        "factory = StopWordRemoverFactory()\n",
        "stopword_remover = factory.create_stop_word_remover()\n",
        "\n",
        "# Remove stop words from each sentence\n",
        "cleaned_sentences = [stopword_remover.remove(sent) for sent in sent_token2]\n",
        "\n",
        "# Training TF-IDF Vectorizer on the cleaned sentences\n",
        "vectorizer = TfidfVectorizer()\n",
        "features = vectorizer.fit_transform(cleaned_sentences)\n",
        "feature_names = vectorizer.get_feature_names_out()\n",
        "\n",
        "# Get TF-IDF scores for the first cleaned sentence\n",
        "if cleaned_sentences:\n",
        "    first_cleaned_sentence = cleaned_sentences[0]\n",
        "    first_sentence_tfidf_df = get_tfidf_for_sentence(features, 0, feature_names)\n",
        "\n",
        "    # Visualize the TF-IDF scores as a histogram\n",
        "    plt.figure(figsize=(10, 6))\n",
        "    plt.bar(first_sentence_tfidf_df['Feature'], first_sentence_tfidf_df['TF-IDF'])\n",
        "    plt.xlabel(\"Words\")\n",
        "    plt.ylabel(\"TF-IDF Score\")\n",
        "    plt.title(f\"TF-IDF Scores for Words in the First Cleaned Sentence:\\n'{first_cleaned_sentence}'\")\n",
        "    plt.xticks(rotation=45, ha='right')\n",
        "    plt.tight_layout()\n",
        "    plt.show()\n",
        "else:\n",
        "    print(\"No cleaned sentences to visualize.\")"
      ]
    },
    {
      "cell_type": "markdown",
      "metadata": {
        "id": "wxVjYquJExOe"
      },
      "source": [
        "# Calculate Sentence Score"
      ]
    },
    {
      "cell_type": "code",
      "execution_count": 26,
      "metadata": {
        "colab": {
          "base_uri": "https://localhost:8080/",
          "height": 1000
        },
        "id": "voadU_iUdcjc",
        "outputId": "dee8e8de-0c40-4eed-a724-e40c72e358bf"
      },
      "outputs": [
        {
          "name": "stdout",
          "output_type": "stream",
          "text": [
            "**List of Sentences:**\n",
            "1. Jawatan Angkutan Motor Republik Indonesia (DAMRI) memastikan layanan transportasi menuju Bandara Soekarno-Hatta, Tangerang tetap beroperasi seperti biasa.\n",
            "2. Angkutan DAMRI rute Bandara Soetta dapat diakses dari Jakarta Selatan, Jakarta Pusat, Jakarta Timur, dan Jakarta Utara.\n",
            "3. Menurut keterangan yang dirilis akun Instagram DAMRI, @damriindonesia, Selasa (2/9/2025), rute pemadu moda Bandara Soetta tetap beroperasi dengan jadwal dan harga tiket terbaru.\n",
            "4. Tiket transportasi DAMRI dari Jakarta ke Bandara Soetta dapat dipesan melalui aplikasi atau situsweb DAMRI.\n",
            "5. \"Biar makin praktis, tiket DAMRI bisa kamu pesan langsung lewat DAMRI Apps atau website resmi,\" demikian keterangan DAMRI.\n",
            "6. Tarif yang ditawarkan ke penumpang mulai dari Rp60.000 hingga Rp95.000.\n",
            "7. Jam operasional bus DAMRI pun berbeda tergantung lokasi stasiun atau terminal keberangkatan atau tujuan.\n",
            "8. Berikut jadwal operasional dan harga tiket terbaru DAMRI dari dan ke Bandara Soekarno-Hatta.\n",
            "9. Jakarta Pusat dan Jakarta Selatan\n",
            "Thamrin City: Rp60.000 (ke bandara pukul 05.00-18.00 WIB, dari bandara 07.00-22.00 WIB)\n",
            "Gambir: Rp80.000 (ke bandara 03.00-21.00 WIB, dari bandara 06.00-23.00 WIB)\n",
            "Blok M: Rp80.000 (ke bandara 03.00-19.00 WIB, dari bandara 06.00-23.00 WIB)\n",
            "Tanjung Barat: Rp80.000 (ke bandara 05.00-19.00 WIB, dari bandara 06.00-22.00 WIB)\n",
            "Pasar Minggu: Rp95.000 (ke bandara 03.00-19.00 WIB, dari bandara 06.00-23.00 WIB)\n",
            "Lebak Bulus: Rp95.000 (ke bandara 03.00-19.00 WIB, dari bandara 06.00-23.00 WIB)\n",
            "Jakarta Timur dan Jakarta Utara\n",
            "KCIC Halim: Rp80.000 (ke bandara 07.00-21.30 WIB, dari bandara 06.00-19.30 WIB)\n",
            "Rawamangun: Rp80.000 (ke bandara 03.00-19.00 WIB, dari bandara 06.00-23.00 WIB)\n",
            "Pulo Gebang: Rp90.000 (ke bandara 05.30-18.30 WIB, dari bandara 08.00-22.00 WIB)\n",
            "Kp.\n",
            "10. Rambutan: Rp95.000 (ke bandara 03.00-20.00 WIB, dari bandara 06.00-23.00 WIB)\n",
            "Tanjung Priok: Rp80.000 (ke bandara 05.00-19.00 WIB, dari bandara 06.00-23.00 WIB)\n",
            "Kelapa Gading: Rp80.000 (ke bandara 05.00-18.00 WIB, dari bandara 06.00-21.00 WIB)\n",
            "\n",
            "-------------------------\n",
            "\n",
            "**Average TF-IDF Score for Each Sentence:**\n",
            "- Sentence 1\n",
            "  Sum of TF-IDF scores: 4.056538487818084\n",
            "  Number of words: 17\n",
            "  Average TF-IDF score: 0.2386199110481226\n",
            "- Sentence 2\n",
            "  Sum of TF-IDF scores: 2.767318017849449\n",
            "  Number of words: 11\n",
            "  Average TF-IDF score: 0.2515743652590408\n",
            "- Sentence 3\n",
            "  Sum of TF-IDF scores: 4.39852634161916\n",
            "  Number of words: 20\n",
            "  Average TF-IDF score: 0.219926317080958\n",
            "- Sentence 4\n",
            "  Sum of TF-IDF scores: 3.099048638574244\n",
            "  Number of words: 10\n",
            "  Average TF-IDF score: 0.3099048638574244\n",
            "- Sentence 5\n",
            "  Sum of TF-IDF scores: 3.557653502370044\n",
            "  Number of words: 13\n",
            "  Average TF-IDF score: 0.27366565402846493\n",
            "- Sentence 6\n",
            "  Sum of TF-IDF scores: 2.773762002455232\n",
            "  Number of words: 8\n",
            "  Average TF-IDF score: 0.346720250306904\n",
            "- Sentence 7\n",
            "  Sum of TF-IDF scores: 3.2755335134767796\n",
            "  Number of words: 11\n",
            "  Average TF-IDF score: 0.2977757739524345\n",
            "- Sentence 8\n",
            "  Sum of TF-IDF scores: 3.245087827148428\n",
            "  Number of words: 11\n",
            "  Average TF-IDF score: 0.2950079842862207\n",
            "- Sentence 9\n",
            "  Sum of TF-IDF scores: 3.597903983208986\n",
            "  Number of words: 42\n",
            "  Average TF-IDF score: 0.0856643805525949\n",
            "- Sentence 10\n",
            "  Sum of TF-IDF scores: 3.0778520062237464\n",
            "  Number of words: 20\n",
            "  Average TF-IDF score: 0.15389260031118732\n",
            "\n",
            "-------------------------\n",
            "\n",
            "List of average TF-IDF scores for each sentence:\n",
            "[np.float64(0.2386199110481226), np.float64(0.2515743652590408), np.float64(0.219926317080958), np.float64(0.3099048638574244), np.float64(0.27366565402846493), np.float64(0.346720250306904), np.float64(0.2977757739524345), np.float64(0.2950079842862207), np.float64(0.0856643805525949), np.float64(0.15389260031118732)]\n"
          ]
        },
        {
          "data": {
            "image/png": "[encoded data removed]",
            "text/plain": [
              "<Figure size 1200x600 with 1 Axes>"
            ]
          },
          "metadata": {},
          "output_type": "display_data"
        },
        {
          "name": "stdout",
          "output_type": "stream",
          "text": [
            "\n",
            "**Explanation of the Histogram :**\n",
            "Imagine we've given each sentence in the news article a score based on the importance of the words it contains. This score is called the 'Average TF-IDF Score'.\n",
            "\n",
            "The histogram above is like a bar chart that shows this score for each sentence:\n",
            "- **The horizontal line (Sentence Number):** Each number on this line represents a different sentence in the article, starting from the first sentence (1) to the last.\n",
            "- **The vertical bar for each sentence:** The height of each bar shows the 'Average TF-IDF Score' for that particular sentence.\n",
            "\n",
            "**What does the height of the bar tell us?**\n",
            "- **Taller bar:** A taller bar means the sentence contains words that are considered more important and unique within the entire article. These sentences likely carry more key information.\n",
            "- **Shorter bar:** A shorter bar means the sentence contains words that are either less important or more common throughout the article. These sentences might be supporting details or less central to the main topic.\n",
            "\n",
            "So, by looking at this chart, you can quickly get a sense of which sentences in the article are likely to be the most informative based on the words they use.\n"
          ]
        }
      ],
      "source": [
        "import nltk\n",
        "from nltk.tokenize import sent_tokenize\n",
        "from sklearn.feature_extraction.text import TfidfVectorizer\n",
        "from Sastrawi.StopWordRemover.StopWordRemoverFactory import StopWordRemoverFactory\n",
        "import matplotlib.pyplot as plt\n",
        "\n",
        "# Download the 'punkt' data if needed\n",
        "try:\n",
        "    nltk.data.find('tokenizers/punkt/PY3/english.pickle')\n",
        "except nltk.downloader.DownloadError:\n",
        "    nltk.download('punkt')\n",
        "\n",
        "sentence2 = \"\"\"Jawatan Angkutan Motor Republik Indonesia (DAMRI) memastikan layanan transportasi menuju Bandara Soekarno-Hatta, Tangerang tetap beroperasi seperti biasa.\n",
        "\n",
        "Angkutan DAMRI rute Bandara Soetta dapat diakses dari Jakarta Selatan, Jakarta Pusat, Jakarta Timur, dan Jakarta Utara.\n",
        "\n",
        "Menurut keterangan yang dirilis akun Instagram DAMRI, @damriindonesia, Selasa (2/9/2025), rute pemadu moda Bandara Soetta tetap beroperasi dengan jadwal dan harga tiket terbaru.\n",
        "\n",
        "Tiket transportasi DAMRI dari Jakarta ke Bandara Soetta dapat dipesan melalui aplikasi atau situsweb DAMRI.\n",
        "\n",
        "\"Biar makin praktis, tiket DAMRI bisa kamu pesan langsung lewat DAMRI Apps atau website resmi,\" demikian keterangan DAMRI.\n",
        "\n",
        "Tarif yang ditawarkan ke penumpang mulai dari Rp60.000 hingga Rp95.000. Jam operasional bus DAMRI pun berbeda tergantung lokasi stasiun atau terminal keberangkatan atau tujuan.\n",
        "\n",
        "Berikut jadwal operasional dan harga tiket terbaru DAMRI dari dan ke Bandara Soekarno-Hatta.\n",
        "\n",
        "Jakarta Pusat dan Jakarta Selatan\n",
        "Thamrin City: Rp60.000 (ke bandara pukul 05.00-18.00 WIB, dari bandara 07.00-22.00 WIB)\n",
        "Gambir: Rp80.000 (ke bandara 03.00-21.00 WIB, dari bandara 06.00-23.00 WIB)\n",
        "Blok M: Rp80.000 (ke bandara 03.00-19.00 WIB, dari bandara 06.00-23.00 WIB)\n",
        "Tanjung Barat: Rp80.000 (ke bandara 05.00-19.00 WIB, dari bandara 06.00-22.00 WIB)\n",
        "Pasar Minggu: Rp95.000 (ke bandara 03.00-19.00 WIB, dari bandara 06.00-23.00 WIB)\n",
        "Lebak Bulus: Rp95.000 (ke bandara 03.00-19.00 WIB, dari bandara 06.00-23.00 WIB)\n",
        "Jakarta Timur dan Jakarta Utara\n",
        "KCIC Halim: Rp80.000 (ke bandara 07.00-21.30 WIB, dari bandara 06.00-19.30 WIB)\n",
        "Rawamangun: Rp80.000 (ke bandara 03.00-19.00 WIB, dari bandara 06.00-23.00 WIB)\n",
        "Pulo Gebang: Rp90.000 (ke bandara 05.30-18.30 WIB, dari bandara 08.00-22.00 WIB)\n",
        "Kp. Rambutan: Rp95.000 (ke bandara 03.00-20.00 WIB, dari bandara 06.00-23.00 WIB)\n",
        "Tanjung Priok: Rp80.000 (ke bandara 05.00-19.00 WIB, dari bandara 06.00-23.00 WIB)\n",
        "Kelapa Gading: Rp80.000 (ke bandara 05.00-18.00 WIB, dari bandara 06.00-21.00 WIB)\"\"\"\n",
        "\n",
        "# Sentence tokenization\n",
        "sent_token2 = sent_tokenize(sentence2)\n",
        "\n",
        "# Initialize Indonesian StopWordRemover\n",
        "factory = StopWordRemoverFactory()\n",
        "stopword_remover = factory.create_stop_word_remover()\n",
        "\n",
        "# Remove stop words from each sentence\n",
        "cleaned_sentences = [stopword_remover.remove(sent) for sent in sent_token2]\n",
        "\n",
        "# Training TF-IDF Vectorizer on the cleaned sentences\n",
        "vectorizer = TfidfVectorizer()\n",
        "features = vectorizer.fit_transform(cleaned_sentences)\n",
        "\n",
        "# Variable initialization\n",
        "sent_index = 0\n",
        "sent_scores = []\n",
        "\n",
        "# Calculate sentence TF-IDF score and list sentences\n",
        "print(\"**List of Sentences:**\")\n",
        "for i, sent in enumerate(sent_token2):\n",
        "    print(f\"{i + 1}. {sent}\")\n",
        "print(\"\\n-------------------------\")\n",
        "\n",
        "# Calculate average TF-IDF score for each sentence\n",
        "print(\"\\n**Average TF-IDF Score for Each Sentence:**\")\n",
        "for i in features:\n",
        "    print(f\"- Sentence {sent_index + 1}\")\n",
        "    sent_score = i.sum()\n",
        "    sent_length = len(i.data)\n",
        "    print(\"  Sum of TF-IDF scores:\", sent_score)\n",
        "    print(\"  Number of words:\", sent_length)\n",
        "    avg_score = sent_score / sent_length if sent_length > 0 else 0\n",
        "    print(\"  Average TF-IDF score:\", avg_score)\n",
        "    sent_scores.append(avg_score)\n",
        "    sent_index += 1\n",
        "print(\"\\n-------------------------\")\n",
        "\n",
        "print(\"\\nList of average TF-IDF scores for each sentence:\")\n",
        "print(sent_scores)\n",
        "\n",
        "# Visualize the average TF-IDF scores as a histogram\n",
        "plt.figure(figsize=(12, 6))\n",
        "plt.bar(range(1, len(sent_scores) + 1), sent_scores)\n",
        "plt.xlabel(\"Sentence Number\")\n",
        "plt.ylabel(\"Average TF-IDF Score\")\n",
        "plt.title(\"Average TF-IDF Score for Each Sentence\")\n",
        "plt.xticks(range(1, len(sent_scores) + 1))\n",
        "plt.grid(axis='y', linestyle='--')\n",
        "plt.tight_layout()\n",
        "plt.show()\n",
        "\n",
        "# Explanation:\n",
        "print(\"\\n**Explanation of the Histogram :**\")\n",
        "print(\"Imagine we've given each sentence in the news article a score based on the importance of the words it contains. This score is called the 'Average TF-IDF Score'.\")\n",
        "print(\"\\nThe histogram above is like a bar chart that shows this score for each sentence:\")\n",
        "print(\"- **The horizontal line (Sentence Number):** Each number on this line represents a different sentence in the article, starting from the first sentence (1) to the last.\")\n",
        "print(\"- **The vertical bar for each sentence:** The height of each bar shows the 'Average TF-IDF Score' for that particular sentence.\")\n",
        "print(\"\\n**What does the height of the bar tell us?**\")\n",
        "print(\"- **Taller bar:** A taller bar means the sentence contains words that are considered more important and unique within the entire article. These sentences likely carry more key information.\")\n",
        "print(\"- **Shorter bar:** A shorter bar means the sentence contains words that are either less important or more common throughout the article. These sentences might be supporting details or less central to the main topic.\")\n",
        "print(\"\\nSo, by looking at this chart, you can quickly get a sense of which sentences in the article are likely to be the most informative based on the words they use.\")"
      ]
    },
    {
      "cell_type": "markdown",
      "metadata": {
        "id": "gJrbqhspE202"
      },
      "source": [
        "# Define Threshold"
      ]
    },
    {
      "cell_type": "code",
      "execution_count": 27,
      "metadata": {
        "colab": {
          "base_uri": "https://localhost:8080/"
        },
        "id": "XdRpijYHeRXZ",
        "outputId": "4a08d958-2d19-4574-b21a-91cf128f09da"
      },
      "outputs": [
        {
          "name": "stdout",
          "output_type": "stream",
          "text": [
            "Threshold (Average of Sentence Scores): 0.24727521006833522\n"
          ]
        }
      ],
      "source": [
        "import nltk\n",
        "from nltk.tokenize import sent_tokenize\n",
        "from sklearn.feature_extraction.text import TfidfVectorizer\n",
        "from Sastrawi.StopWordRemover.StopWordRemoverFactory import StopWordRemoverFactory\n",
        "\n",
        "# Download the 'punkt' data if needed\n",
        "try:\n",
        "    nltk.data.find('tokenizers/punkt/PY3/english.pickle')\n",
        "except nltk.downloader.DownloadError:\n",
        "    nltk.download('punkt')\n",
        "\n",
        "ssentence2 = \"\"\"Jawatan Angkutan Motor Republik Indonesia (DAMRI) memastikan layanan transportasi menuju Bandara Soekarno-Hatta, Tangerang tetap beroperasi seperti biasa.\n",
        "\n",
        "Angkutan DAMRI rute Bandara Soetta dapat diakses dari Jakarta Selatan, Jakarta Pusat, Jakarta Timur, dan Jakarta Utara.\n",
        "\n",
        "Menurut keterangan yang dirilis akun Instagram DAMRI, @damriindonesia, Selasa (2/9/2025), rute pemadu moda Bandara Soetta tetap beroperasi dengan jadwal dan harga tiket terbaru.\n",
        "\n",
        "Tiket transportasi DAMRI dari Jakarta ke Bandara Soetta dapat dipesan melalui aplikasi atau situsweb DAMRI.\n",
        "\n",
        "\"Biar makin praktis, tiket DAMRI bisa kamu pesan langsung lewat DAMRI Apps atau website resmi,\" demikian keterangan DAMRI.\n",
        "\n",
        "Tarif yang ditawarkan ke penumpang mulai dari Rp60.000 hingga Rp95.000. Jam operasional bus DAMRI pun berbeda tergantung lokasi stasiun atau terminal keberangkatan atau tujuan.\n",
        "\n",
        "Berikut jadwal operasional dan harga tiket terbaru DAMRI dari dan ke Bandara Soekarno-Hatta.\n",
        "\n",
        "Jakarta Pusat dan Jakarta Selatan\n",
        "\n",
        "Thamrin City: Rp60.000 (ke bandara pukul 05.00-18.00 WIB, dari bandara 07.00-22.00 WIB)\n",
        "\n",
        "Gambir: Rp80.000 (ke bandara 03.00-21.00 WIB, dari bandara 06.00-23.00 WIB)\n",
        "\n",
        "Blok M: Rp80.000 (ke bandara 03.00-19.00 WIB, dari bandara 06.00-23.00 WIB)\n",
        "\n",
        "Tanjung Barat: Rp80.000 (ke bandara 05.00-19.00 WIB, dari bandara 06.00-22.00 WIB)\n",
        "\n",
        "Pasar Minggu: Rp95.000 (ke bandara 03.00-19.00 WIB, dari bandara 06.00-23.00 WIB)\n",
        "\n",
        "Lebak Bulus: Rp95.000 (ke bandara 03.00-19.00 WIB, dari bandara 06.00-23.00 WIB)\n",
        "\n",
        "Jakarta Timur dan Jakarta Utara\n",
        "\n",
        "KCIC Halim: Rp80.000 (ke bandara 07.00-21.30 WIB, dari bandara 06.00-19.30 WIB)\n",
        "\n",
        "Rawamangun: Rp80.000 (ke bandara 03.00-19.00 WIB, dari bandara 06.00-23.00 WIB)\n",
        "\n",
        "Pulo Gebang: Rp90.000 (ke bandara 05.30-18.30 WIB, dari bandara 08.00-22.00 WIB)\n",
        "\n",
        "Kp. Rambutan: Rp95.000 (ke bandara 03.00-20.00 WIB, dari bandara 06.00-23.00 WIB)\n",
        "\n",
        "Tanjung Priok: Rp80.000 (ke bandara 05.00-19.00 WIB, dari bandara 06.00-23.00 WIB)\n",
        "\n",
        "Kelapa Gading: Rp80.000 (ke bandara 05.00-18.00 WIB, dari bandara 06.00-21.00 WIB)\"\"\"\n",
        "\n",
        "# Sentence tokenization\n",
        "sent_token2 = sent_tokenize(sentence2)\n",
        "\n",
        "# Initialize Indonesian StopWordRemover\n",
        "factory = StopWordRemoverFactory()\n",
        "stopword_remover = factory.create_stop_word_remover()\n",
        "\n",
        "# Remove stop words from each sentence\n",
        "cleaned_sentences = [stopword_remover.remove(sent) for sent in sent_token2]\n",
        "\n",
        "# Training TF-IDF Vectorizer on the cleaned sentences\n",
        "vectorizer = TfidfVectorizer()\n",
        "features = vectorizer.fit_transform(cleaned_sentences)\n",
        "\n",
        "# Variable initialization\n",
        "sent_index = 0\n",
        "sent_scores = []\n",
        "\n",
        "# Calculate sentence TF-IDF score\n",
        "for i in features:\n",
        "    sent_score = i.sum()\n",
        "    sent_length = len(i.data)\n",
        "    avg_score = sent_score / sent_length if sent_length > 0 else 0\n",
        "    sent_scores.append(avg_score)\n",
        "\n",
        "# Calculate the average of all sentence scores (threshold)\n",
        "threshold = sum(sent_scores) / len(sent_scores) if sent_scores else 0\n",
        "\n",
        "print(\"Threshold (Average of Sentence Scores):\", threshold)"
      ]
    },
    {
      "cell_type": "code",
      "execution_count": 35,
      "metadata": {
        "colab": {
          "base_uri": "https://localhost:8080/"
        },
        "id": "iEGLsOr7omUy",
        "outputId": "094f5a36-107b-4227-dc13-32f3a5ffb078"
      },
      "outputs": [
        {
          "name": "stdout",
          "output_type": "stream",
          "text": [
            "TF-IDF Score for 'jadwal' in each cleaned sentence:\n",
            "Sentence 1: 0.0000\n",
            "Sentence 2: 0.0000\n",
            "Sentence 3: 0.0871\n",
            "Sentence 4: 0.0000\n",
            "Sentence 5: 0.0000\n",
            "Sentence 6: 0.0000\n",
            "Sentence 7: 0.2138\n",
            "Sentence 8: 0.0000\n",
            "Sentence 9: 0.0000\n",
            "Sentence 10: 0.0000\n",
            "Sentence 11: 0.0000\n",
            "Sentence 12: 0.0000\n",
            "Sentence 13: 0.0000\n",
            "Sentence 14: 0.0000\n",
            "Sentence 15: 0.0000\n",
            "Sentence 16: 0.0000\n",
            "Sentence 17: 0.0000\n",
            "Sentence 18: 0.0000\n",
            "Sentence 19: 0.0000\n",
            "Sentence 20: 0.0000\n",
            "Sentence 21: 0.0000\n",
            "\n",
            "Overall IDF for 'jadwal': 2.3514\n"
          ]
        }
      ],
      "source": [
        "import nltk\n",
        "from nltk.tokenize import word_tokenize\n",
        "from Sastrawi.StopWordRemover.StopWordRemoverFactory import StopWordRemoverFactory\n",
        "import math\n",
        "\n",
        "# Download the 'punkt' data if needed\n",
        "try:\n",
        "    nltk.data.find('tokenizers/punkt/PY3/english.pickle')\n",
        "except nltk.downloader.DownloadError:\n",
        "    nltk.download('punkt')\n",
        "\n",
        "# Initialize Indonesian StopWordRemover\n",
        "factory = StopWordRemoverFactory()\n",
        "stopword_remover = factory.create_stop_word_remover()\n",
        "\n",
        "sentences = [\n",
        "    \"Jawatan Angkutan Motor Republik Indonesia (DAMRI) memastikan layanan transportasi menuju Bandara Soekarno-Hatta, Tangerang tetap beroperasi seperti biasa.\",\n",
        "    \"Angkutan DAMRI rute Bandara Soetta dapat diakses dari Jakarta Selatan, Jakarta Pusat, Jakarta Timur, dan Jakarta Utara.\",\n",
        "    \"Menurut keterangan yang dirilis akun Instagram DAMRI, @damriindonesia, Selasa (2/9/2025), rute pemadu moda Bandara Soetta tetap beroperasi dengan jadwal dan harga tiket terbaru.\",\n",
        "    \"Tiket transportasi DAMRI dari Jakarta ke Bandara Soetta dapat dipesan melalui aplikasi atau situsweb DAMRI.\",\n",
        "    \"'Biar makin praktis, tiket DAMRI bisa kamu pesan langsung lewat DAMRI Apps atau website resmi,' demikian keterangan DAMRI.\",\n",
        "    \"Tarif yang ditawarkan ke penumpang mulai dari Rp60.000 hingga Rp95.000. Jam operasional bus DAMRI pun berbeda tergantung lokasi stasiun atau terminal keberangkatan atau tujuan.\",\n",
        "    \"Berikut jadwal operasional dan harga tiket terbaru DAMRI dari dan ke Bandara Soekarno-Hatta.\",\n",
        "    \"Jakarta Pusat dan Jakarta Selatan\",\n",
        "    \"Thamrin City: Rp60.000 (ke bandara pukul 05.00-18.00 WIB, dari bandara 07.00-22.00 WIB)\",\n",
        "    \"Gambir: Rp80.000 (ke bandara 03.00-21.00 WIB, dari bandara 06.00-23.00 WIB)\",\n",
        "    \"Blok M: Rp80.000 (ke bandara 03.00-19.00 WIB, dari bandara 06.00-23.00 WIB)\",\n",
        "    \"Tanjung Barat: Rp80.000 (ke bandara 05.00-19.00 WIB, dari bandara 06.00-22.00 WIB)\",\n",
        "    \"Pasar Minggu: Rp95.000 (ke bandara 03.00-19.00 WIB, dari bandara 06.00-23.00 WIB)\",\n",
        "    \"Lebak Bulus: Rp95.000 (ke bandara 03.00-19.00 WIB, dari bandara 06.00-23.00 WIB)\",\n",
        "    \"Jakarta Timur dan Jakarta Utara\",\n",
        "    \"KCIC Halim: Rp80.000 (ke bandara 07.00-21.30 WIB, dari bandara 06.00-19.30 WIB)\",\n",
        "    \"Rawamangun: Rp80.000 (ke bandara 03.00-19.00 WIB, dari bandara 06.00-23.00 WIB)\",\n",
        "    \"Pulo Gebang: Rp90.000 (ke bandara 05.30-18.30 WIB, dari bandara 08.00-22.00 WIB)\",\n",
        "    \"Kp. Rambutan: Rp95.000 (ke bandara 03.00-20.00 WIB, dari bandara 06.00-23.00 WIB)\",\n",
        "    \"Tanjung Priok: Rp80.000 (ke bandara 05.00-19.00 WIB, dari bandara 06.00-23.00 WIB)\",\n",
        "    \"Kelapa Gading: Rp80.000 (ke bandara 05.00-18.00 WIB, dari bandara 06.00-21.00 WIB)\"\n",
        "]\n",
        "\n",
        "# Initialize a list to store cleaned sentences\n",
        "all_cleaned_sentences = []\n",
        "for sentence in sentences:\n",
        "    cleaned_sentence = stopword_remover.remove(sentence)\n",
        "    all_cleaned_sentences.append(cleaned_sentence)\n",
        "\n",
        "# Function to calculate TF for a term in a document\n",
        "def calculate_tf(term, document):\n",
        "    words = word_tokenize(document.lower())\n",
        "    return words.count(term) / len(words) if len(words) > 0 else 0\n",
        "\n",
        "# Function to calculate IDF for a term across all documents\n",
        "def calculate_idf(term, all_documents):\n",
        "    num_documents_with_term = sum(1 for doc in all_documents if term.lower() in word_tokenize(doc.lower()))\n",
        "    if num_documents_with_term > 0:\n",
        "        return math.log(len(all_documents) / num_documents_with_term)\n",
        "    else:\n",
        "        return 0\n",
        "\n",
        "# Calculate TF-IDF for \"investasi\" in each sentence\n",
        "tfidf_scores = {}\n",
        "for i, sentence in enumerate(sentences):\n",
        "    cleaned_sentence = stopword_remover.remove(sentence)\n",
        "    tf = calculate_tf(\"jadwal\", cleaned_sentence)\n",
        "    idf = calculate_idf(\"jadwal\", all_cleaned_sentences)\n",
        "    tfidf = tf * idf\n",
        "    tfidf_scores[f\"Sentence {i+1}\"] = tfidf\n",
        "\n",
        "# Print the TF-IDF scores for \"investasi\" in each sentence\n",
        "print(\"TF-IDF Score for 'jadwal' in each cleaned sentence:\")\n",
        "for sentence_num, score in tfidf_scores.items():\n",
        "    print(f\"{sentence_num}: {score:.4f}\")\n",
        "\n",
        "# Calculate the overall IDF for \"investasi\" across all cleaned sentences\n",
        "overall_idf_jadwal = calculate_idf(\"jadwal\", all_cleaned_sentences)\n",
        "print(f\"\\nOverall IDF for 'jadwal': {overall_idf_jadwal:.4f}\")"
      ]
    },
    {
      "cell_type": "code",
      "execution_count": 29,
      "metadata": {
        "colab": {
          "base_uri": "https://localhost:8080/"
        },
        "id": "14Pp5nJHDXjw",
        "outputId": "c1a87bf6-f358-4157-bbfc-eeffac3c7b62"
      },
      "outputs": [
        {
          "data": {
            "text/plain": [
              "np.float64(0.24727521006833522)"
            ]
          },
          "execution_count": 29,
          "metadata": {},
          "output_type": "execute_result"
        }
      ],
      "source": [
        "threshold = sum(sent_scores)/len(sent_scores) # Average of Sentence Scores\n",
        "threshold"
      ]
    },
    {
      "cell_type": "markdown",
      "metadata": {
        "id": "RHOADEc-E5Q7"
      },
      "source": [
        "# Get Sentences"
      ]
    },
    {
      "cell_type": "code",
      "execution_count": 33,
      "metadata": {
        "colab": {
          "base_uri": "https://localhost:8080/"
        },
        "id": "3C7VtJbGebEx",
        "outputId": "fe055401-fec5-46f8-b993-593027ee771b"
      },
      "outputs": [
        {
          "name": "stdout",
          "output_type": "stream",
          "text": [
            "Threshold (Average of Sentence Scores): 0.24727521006833522\n",
            "\n",
            "**Summary Sentences (above or equal to the threshold):**\n",
            "- Angkutan DAMRI rute Bandara Soetta dapat diakses dari Jakarta Selatan, Jakarta Pusat, Jakarta Timur, dan Jakarta Utara.\n",
            "- Tiket transportasi DAMRI dari Jakarta ke Bandara Soetta dapat dipesan melalui aplikasi atau situsweb DAMRI.\n",
            "- \"Biar makin praktis, tiket DAMRI bisa kamu pesan langsung lewat DAMRI Apps atau website resmi,\" demikian keterangan DAMRI.\n",
            "- Tarif yang ditawarkan ke penumpang mulai dari Rp60.000 hingga Rp95.000.\n",
            "- Jam operasional bus DAMRI pun berbeda tergantung lokasi stasiun atau terminal keberangkatan atau tujuan.\n",
            "- Berikut jadwal operasional dan harga tiket terbaru DAMRI dari dan ke Bandara Soekarno-Hatta.\n",
            "\n",
            "**Final Summary:**\n",
            "Angkutan DAMRI rute Bandara Soetta dapat diakses dari Jakarta Selatan, Jakarta Pusat, Jakarta Timur, dan Jakarta Utara. Tiket transportasi DAMRI dari Jakarta ke Bandara Soetta dapat dipesan melalui aplikasi atau situsweb DAMRI. \"Biar makin praktis, tiket DAMRI bisa kamu pesan langsung lewat DAMRI Apps atau website resmi,\" demikian keterangan DAMRI. Tarif yang ditawarkan ke penumpang mulai dari Rp60.000 hingga Rp95.000. Jam operasional bus DAMRI pun berbeda tergantung lokasi stasiun atau terminal keberangkatan atau tujuan. Berikut jadwal operasional dan harga tiket terbaru DAMRI dari dan ke Bandara Soekarno-Hatta.\n"
          ]
        }
      ],
      "source": [
        "import nltk\n",
        "from nltk.tokenize import sent_tokenize\n",
        "from sklearn.feature_extraction.text import TfidfVectorizer\n",
        "from Sastrawi.StopWordRemover.StopWordRemoverFactory import StopWordRemoverFactory\n",
        "\n",
        "# Download the 'punkt' data if needed\n",
        "try:\n",
        "    nltk.data.find('tokenizers/punkt/PY3/english.pickle')\n",
        "except nltk.downloader.DownloadError:\n",
        "    nltk.download('punkt')\n",
        "\n",
        "sentence2 = \"\"\"Jawatan Angkutan Motor Republik Indonesia (DAMRI) memastikan layanan transportasi menuju Bandara Soekarno-Hatta, Tangerang tetap beroperasi seperti biasa.\n",
        "\n",
        "Angkutan DAMRI rute Bandara Soetta dapat diakses dari Jakarta Selatan, Jakarta Pusat, Jakarta Timur, dan Jakarta Utara.\n",
        "\n",
        "Menurut keterangan yang dirilis akun Instagram DAMRI, @damriindonesia, Selasa (2/9/2025), rute pemadu moda Bandara Soetta tetap beroperasi dengan jadwal dan harga tiket terbaru.\n",
        "\n",
        "Tiket transportasi DAMRI dari Jakarta ke Bandara Soetta dapat dipesan melalui aplikasi atau situsweb DAMRI.\n",
        "\n",
        "\"Biar makin praktis, tiket DAMRI bisa kamu pesan langsung lewat DAMRI Apps atau website resmi,\" demikian keterangan DAMRI.\n",
        "\n",
        "Tarif yang ditawarkan ke penumpang mulai dari Rp60.000 hingga Rp95.000. Jam operasional bus DAMRI pun berbeda tergantung lokasi stasiun atau terminal keberangkatan atau tujuan.\n",
        "\n",
        "Berikut jadwal operasional dan harga tiket terbaru DAMRI dari dan ke Bandara Soekarno-Hatta.\n",
        "\n",
        "Jakarta Pusat dan Jakarta Selatan\n",
        "\n",
        "Thamrin City: Rp60.000 (ke bandara pukul 05.00-18.00 WIB, dari bandara 07.00-22.00 WIB)\n",
        "\n",
        "Gambir: Rp80.000 (ke bandara 03.00-21.00 WIB, dari bandara 06.00-23.00 WIB)\n",
        "\n",
        "Blok M: Rp80.000 (ke bandara 03.00-19.00 WIB, dari bandara 06.00-23.00 WIB)\n",
        "\n",
        "Tanjung Barat: Rp80.000 (ke bandara 05.00-19.00 WIB, dari bandara 06.00-22.00 WIB)\n",
        "\n",
        "Pasar Minggu: Rp95.000 (ke bandara 03.00-19.00 WIB, dari bandara 06.00-23.00 WIB)\n",
        "\n",
        "Lebak Bulus: Rp95.000 (ke bandara 03.00-19.00 WIB, dari bandara 06.00-23.00 WIB)\n",
        "\n",
        "Jakarta Timur dan Jakarta Utara\n",
        "\n",
        "KCIC Halim: Rp80.000 (ke bandara 07.00-21.30 WIB, dari bandara 06.00-19.30 WIB)\n",
        "\n",
        "Rawamangun: Rp80.000 (ke bandara 03.00-19.00 WIB, dari bandara 06.00-23.00 WIB)\n",
        "\n",
        "Pulo Gebang: Rp90.000 (ke bandara 05.30-18.30 WIB, dari bandara 08.00-22.00 WIB)\n",
        "\n",
        "Kp. Rambutan: Rp95.000 (ke bandara 03.00-20.00 WIB, dari bandara 06.00-23.00 WIB)\n",
        "\n",
        "Tanjung Priok: Rp80.000 (ke bandara 05.00-19.00 WIB, dari bandara 06.00-23.00 WIB)\n",
        "\n",
        "Kelapa Gading: Rp80.000 (ke bandara 05.00-18.00 WIB, dari bandara 06.00-21.00 WIB)\"\"\"\n",
        "\n",
        "# Sentence tokenization (using the original sentence2)\n",
        "sent_token = sent_tokenize(sentence2)\n",
        "\n",
        "# Initialize Indonesian StopWordRemover\n",
        "factory = StopWordRemoverFactory()\n",
        "stopword_remover = factory.create_stop_word_remover()\n",
        "\n",
        "# Remove stop words from each sentence\n",
        "cleaned_sentences = [stopword_remover.remove(sent) for sent in sent_token]\n",
        "\n",
        "# Training TF-IDF Vectorizer on the cleaned sentences\n",
        "vectorizer = TfidfVectorizer()\n",
        "features = vectorizer.fit_transform(cleaned_sentences)\n",
        "\n",
        "# Variable initialization\n",
        "sent_index = 0\n",
        "sent_scores = []\n",
        "\n",
        "# Calculate average TF-IDF score for each sentence\n",
        "for i in features:\n",
        "    sent_score = i.sum()\n",
        "    sent_length = len(i.data)\n",
        "    avg_score = sent_score / sent_length if sent_length > 0 else 0\n",
        "    sent_scores.append(avg_score)\n",
        "\n",
        "# Calculate the average of all sentence scores (threshold)\n",
        "threshold = sum(sent_scores) / len(sent_scores) if sent_scores else 0\n",
        "\n",
        "print(\"Threshold (Average of Sentence Scores):\", threshold)\n",
        "\n",
        "# Final summary initialization\n",
        "final_summ = \"\"\n",
        "\n",
        "# Get summary sentences\n",
        "print(\"\\n**Summary Sentences (above or equal to the threshold):**\")\n",
        "for index, data in enumerate(sent_scores):\n",
        "    if data >= threshold:\n",
        "        final_summ = final_summ + \" \" + sent_token[index]\n",
        "        print(f\"- {sent_token[index]}\")\n",
        "\n",
        "print(\"\\n**Final Summary:**\")\n",
        "print(final_summ.strip())"
      ]
    },
    {
      "cell_type": "code",
      "execution_count": 36,
      "metadata": {
        "colab": {
          "base_uri": "https://localhost:8080/"
        },
        "id": "1Zthfgw1lV1n",
        "outputId": "91bff27b-fd02-4bd6-fa94-5ed5dbc95de5"
      },
      "outputs": [
        {
          "name": "stdout",
          "output_type": "stream",
          "text": [
            "TF-IDF Score for 'jadwal' in each sentence:\n",
            "Sentence 1: 0.0000\n",
            "Sentence 2: 0.0000\n",
            "Sentence 3: 0.0407\n",
            "Sentence 4: 0.0000\n",
            "Sentence 5: 0.0000\n",
            "Sentence 6: 0.0000\n",
            "Sentence 7: 0.1139\n",
            "Sentence 8: 0.0000\n",
            "Sentence 9: 0.0000\n",
            "Sentence 10: 0.0000\n",
            "Sentence 11: 0.0000\n",
            "Sentence 12: 0.0000\n",
            "Sentence 13: 0.0000\n",
            "Sentence 14: 0.0000\n",
            "Sentence 15: 0.0000\n",
            "Sentence 16: 0.0000\n",
            "Sentence 17: 0.0000\n",
            "Sentence 18: 0.0000\n",
            "Sentence 19: 0.0000\n",
            "Sentence 20: 0.0000\n",
            "Sentence 21: 0.0000\n",
            "\n",
            "Overall IDF for 'jadwal': 2.3514\n",
            "\n",
            "TF-IDF Score for 'jadwal' using TfidfVectorizer:\n",
            "Sentence 1: 0.0000\n",
            "Sentence 2: 0.0000\n",
            "Sentence 3: 0.2268\n",
            "Sentence 4: 0.0000\n",
            "Sentence 5: 0.0000\n",
            "Sentence 6: 0.0000\n",
            "Sentence 7: 0.3412\n",
            "Sentence 8: 0.0000\n",
            "Sentence 9: 0.0000\n",
            "Sentence 10: 0.0000\n",
            "Sentence 11: 0.0000\n",
            "Sentence 12: 0.0000\n",
            "Sentence 13: 0.0000\n",
            "Sentence 14: 0.0000\n",
            "Sentence 15: 0.0000\n",
            "Sentence 16: 0.0000\n",
            "Sentence 17: 0.0000\n",
            "Sentence 18: 0.0000\n",
            "Sentence 19: 0.0000\n",
            "Sentence 20: 0.0000\n",
            "Sentence 21: 0.0000\n"
          ]
        }
      ],
      "source": [
        "import nltk\n",
        "from nltk.tokenize import word_tokenize\n",
        "from sklearn.feature_extraction.text import TfidfVectorizer\n",
        "from Sastrawi.StopWordRemover.StopWordRemoverFactory import StopWordRemoverFactory\n",
        "import math\n",
        "\n",
        "# Download the 'punkt' data if needed\n",
        "try:\n",
        "    nltk.data.find('tokenizers/punkt/PY3/english.pickle')\n",
        "except nltk.downloader.DownloadError:\n",
        "    nltk.download('punkt')\n",
        "\n",
        "sentences = [\n",
        "    \"Jawatan Angkutan Motor Republik Indonesia (DAMRI) memastikan layanan transportasi menuju Bandara Soekarno-Hatta, Tangerang tetap beroperasi seperti biasa.\",\n",
        "    \"Angkutan DAMRI rute Bandara Soetta dapat diakses dari Jakarta Selatan, Jakarta Pusat, Jakarta Timur, dan Jakarta Utara.\",\n",
        "    \"Menurut keterangan yang dirilis akun Instagram DAMRI, @damriindonesia, Selasa (2/9/2025), rute pemadu moda Bandara Soetta tetap beroperasi dengan jadwal dan harga tiket terbaru.\",\n",
        "    \"Tiket transportasi DAMRI dari Jakarta ke Bandara Soetta dapat dipesan melalui aplikasi atau situsweb DAMRI.\",\n",
        "    \"'Biar makin praktis, tiket DAMRI bisa kamu pesan langsung lewat DAMRI Apps atau website resmi,' demikian keterangan DAMRI.\",\n",
        "    \"Tarif yang ditawarkan ke penumpang mulai dari Rp60.000 hingga Rp95.000. Jam operasional bus DAMRI pun berbeda tergantung lokasi stasiun atau terminal keberangkatan atau tujuan.\",\n",
        "    \"Berikut jadwal operasional dan harga tiket terbaru DAMRI dari dan ke Bandara Soekarno-Hatta.\",\n",
        "    \"Jakarta Pusat dan Jakarta Selatan\",\n",
        "    \"Thamrin City: Rp60.000 (ke bandara pukul 05.00-18.00 WIB, dari bandara 07.00-22.00 WIB)\",\n",
        "    \"Gambir: Rp80.000 (ke bandara 03.00-21.00 WIB, dari bandara 06.00-23.00 WIB)\",\n",
        "    \"Blok M: Rp80.000 (ke bandara 03.00-19.00 WIB, dari bandara 06.00-23.00 WIB)\",\n",
        "    \"Tanjung Barat: Rp80.000 (ke bandara 05.00-19.00 WIB, dari bandara 06.00-22.00 WIB)\",\n",
        "    \"Pasar Minggu: Rp95.000 (ke bandara 03.00-19.00 WIB, dari bandara 06.00-23.00 WIB)\",\n",
        "    \"Lebak Bulus: Rp95.000 (ke bandara 03.00-19.00 WIB, dari bandara 06.00-23.00 WIB)\",\n",
        "    \"Jakarta Timur dan Jakarta Utara\",\n",
        "    \"KCIC Halim: Rp80.000 (ke bandara 07.00-21.30 WIB, dari bandara 06.00-19.30 WIB)\",\n",
        "    \"Rawamangun: Rp80.000 (ke bandara 03.00-19.00 WIB, dari bandara 06.00-23.00 WIB)\",\n",
        "    \"Pulo Gebang: Rp90.000 (ke bandara 05.30-18.30 WIB, dari bandara 08.00-22.00 WIB)\",\n",
        "    \"Kp. Rambutan: Rp95.000 (ke bandara 03.00-20.00 WIB, dari bandara 06.00-23.00 WIB)\",\n",
        "    \"Tanjung Priok: Rp80.000 (ke bandara 05.00-19.00 WIB, dari bandara 06.00-23.00 WIB)\",\n",
        "    \"Kelapa Gading: Rp80.000 (ke bandara 05.00-18.00 WIB, dari bandara 06.00-21.00 WIB)\"\n",
        "]\n",
        "\n",
        "# Initialize Indonesian StopWordRemover\n",
        "factory = StopWordRemoverFactory()\n",
        "stopword_remover = factory.create_stop_word_remover()\n",
        "\n",
        "# Function to calculate TF for a term in a document\n",
        "def calculate_tf(term, document):\n",
        "    words = word_tokenize(document.lower())\n",
        "    return words.count(term) / len(words) if len(words) > 0 else 0\n",
        "\n",
        "# Function to calculate IDF for a term across all documents\n",
        "def calculate_idf(term, all_documents):\n",
        "    num_documents_with_term = sum(1 for doc in all_documents if term.lower() in word_tokenize(doc.lower()))\n",
        "    if num_documents_with_term > 0:\n",
        "        return math.log(len(all_documents) / num_documents_with_term)\n",
        "    else:\n",
        "        return 0\n",
        "\n",
        "# Calculate TF-IDF for \"jadwal\" in each sentence\n",
        "tfidf_scores = {}\n",
        "all_cleaned_sentences = []\n",
        "\n",
        "for i, sentence in enumerate(sentences):\n",
        "    cleaned_sentence = stopword_remover.remove(sentence)\n",
        "    all_cleaned_sentences.append(cleaned_sentence)\n",
        "    tf = calculate_tf(\"jadwal\", cleaned_sentence)\n",
        "    idf = calculate_idf(\"jadwal\", all_cleaned_sentences)\n",
        "    tfidf = tf * idf\n",
        "    tfidf_scores[f\"Sentence {i+1}\"] = tfidf\n",
        "\n",
        "# Print the TF-IDF scores for \"investasi\" in each sentence\n",
        "print(\"TF-IDF Score for 'jadwal' in each sentence:\")\n",
        "for sentence_num, score in tfidf_scores.items():\n",
        "    print(f\"{sentence_num}: {score:.4f}\")\n",
        "\n",
        "# Calculate the overall IDF for \"investasi\" across all cleaned sentences\n",
        "overall_idf_investasi = calculate_idf(\"jadwal\", all_cleaned_sentences)\n",
        "print(f\"\\nOverall IDF for 'jadwal': {overall_idf_investasi:.4f}\")\n",
        "\n",
        "# You can also use scikit-learn's TfidfVectorizer for a more direct approach:\n",
        "vectorizer = TfidfVectorizer(stop_words=factory.get_stop_words())\n",
        "tfidf_matrix = vectorizer.fit_transform(sentences)\n",
        "feature_names = vectorizer.get_feature_names_out()\n",
        "\n",
        "try:\n",
        "    investasi_index = list(feature_names).index(\"jadwal\")\n",
        "    print(\"\\nTF-IDF Score for 'jadwal' using TfidfVectorizer:\")\n",
        "    for i, sentence in enumerate(sentences):\n",
        "        tfidf = tfidf_matrix[i, investasi_index]\n",
        "        print(f\"Sentence {i+1}: {tfidf:.4f}\")\n",
        "except ValueError:\n",
        "    print(\"\\n'jadwal' not found in the vocabulary after stop word removal by TfidfVectorizer.\")"
      ]
    },
    {
      "cell_type": "code",
      "execution_count": 37,
      "metadata": {
        "colab": {
          "base_uri": "https://localhost:8080/",
          "height": 156
        },
        "id": "6UVMoz8Ae4vM",
        "outputId": "fd6b4dda-8a21-42da-f2e2-97e999b8d027"
      },
      "outputs": [
        {
          "data": {
            "text/plain": [
              "' Angkutan DAMRI rute Bandara Soetta dapat diakses dari Jakarta Selatan, Jakarta Pusat, Jakarta Timur, dan Jakarta Utara. Tiket transportasi DAMRI dari Jakarta ke Bandara Soetta dapat dipesan melalui aplikasi atau situsweb DAMRI. \"Biar makin praktis, tiket DAMRI bisa kamu pesan langsung lewat DAMRI Apps atau website resmi,\" demikian keterangan DAMRI. Tarif yang ditawarkan ke penumpang mulai dari Rp60.000 hingga Rp95.000. Jam operasional bus DAMRI pun berbeda tergantung lokasi stasiun atau terminal keberangkatan atau tujuan. Berikut jadwal operasional dan harga tiket terbaru DAMRI dari dan ke Bandara Soekarno-Hatta.'"
            ]
          },
          "execution_count": 37,
          "metadata": {},
          "output_type": "execute_result"
        }
      ],
      "source": [
        "final_summ"
      ]
    },
    {
      "cell_type": "code",
      "execution_count": 38,
      "metadata": {
        "colab": {
          "base_uri": "https://localhost:8080/"
        },
        "id": "o_j86b3WDrqC",
        "outputId": "c7947192-16a0-4071-922f-51b544c55f50"
      },
      "outputs": [
        {
          "name": "stdout",
          "output_type": "stream",
          "text": [
            "-  Angkutan DAMRI rute Bandara Soetta dapat diakses dari Jakarta Selatan, Jakarta Pusat, Jakarta Timur, dan Jakarta Utara.\n",
            "-  Tiket transportasi DAMRI dari Jakarta ke Bandara Soetta dapat dipesan melalui aplikasi atau situsweb DAMRI.\n",
            "-  \"Biar makin praktis, tiket DAMRI bisa kamu pesan langsung lewat DAMRI Apps atau website resmi,\" demikian keterangan DAMRI.\n",
            "-  Tarif yang ditawarkan ke penumpang mulai dari Rp60.000 hingga Rp95.000.\n",
            "-  Jam operasional bus DAMRI pun berbeda tergantung lokasi stasiun atau terminal keberangkatan atau tujuan.\n",
            "-  Berikut jadwal operasional dan harga tiket terbaru DAMRI dari dan ke Bandara Soekarno-Hatta.\n"
          ]
        }
      ],
      "source": [
        "# Final summary initialization\n",
        "final_summ = \"\"\n",
        "\n",
        "# Get summary sentences\n",
        "for index, data in enumerate(sent_scores) :\n",
        "  if (data >= (threshold)) :\n",
        "    final_summ = final_summ + \" \" + sent_token[index]\n",
        "    print(\"- \", sent_token[index])"
      ]
    },
    {
      "cell_type": "markdown",
      "metadata": {
        "id": "dAevJTiNE8U-"
      },
      "source": [
        "# Summarization Result"
      ]
    },
    {
      "cell_type": "code",
      "execution_count": 39,
      "metadata": {
        "colab": {
          "base_uri": "https://localhost:8080/",
          "height": 156
        },
        "id": "mLhv5k8FEYcH",
        "outputId": "53b07c44-d940-4c39-fde8-ed8ba9ee499c"
      },
      "outputs": [
        {
          "data": {
            "text/plain": [
              "' Angkutan DAMRI rute Bandara Soetta dapat diakses dari Jakarta Selatan, Jakarta Pusat, Jakarta Timur, dan Jakarta Utara. Tiket transportasi DAMRI dari Jakarta ke Bandara Soetta dapat dipesan melalui aplikasi atau situsweb DAMRI. \"Biar makin praktis, tiket DAMRI bisa kamu pesan langsung lewat DAMRI Apps atau website resmi,\" demikian keterangan DAMRI. Tarif yang ditawarkan ke penumpang mulai dari Rp60.000 hingga Rp95.000. Jam operasional bus DAMRI pun berbeda tergantung lokasi stasiun atau terminal keberangkatan atau tujuan. Berikut jadwal operasional dan harga tiket terbaru DAMRI dari dan ke Bandara Soekarno-Hatta.'"
            ]
          },
          "execution_count": 39,
          "metadata": {},
          "output_type": "execute_result"
        }
      ],
      "source": [
        "final_summ"
      ]
    }
  ],
  "metadata": {
    "colab": {
      "provenance": []
    },
    "kernelspec": {
      "display_name": "Python 3",
      "name": "python3"
    },
    "language_info": {
      "codemirror_mode": {
        "name": "ipython",
        "version": 3
      },
      "file_extension": ".py",
      "mimetype": "text/x-python",
      "name": "python",
      "nbconvert_exporter": "python",
      "pygments_lexer": "ipython3",
      "version": "3.10.2"
    }
  },
  "nbformat": 4,
  "nbformat_minor": 0
}
